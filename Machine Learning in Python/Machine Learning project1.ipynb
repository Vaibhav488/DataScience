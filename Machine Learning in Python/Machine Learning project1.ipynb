{
 "cells": [
  {
   "cell_type": "markdown",
   "metadata": {},
   "source": [
    "## Classification Model"
   ]
  },
  {
   "cell_type": "code",
   "execution_count": 4,
   "metadata": {},
   "outputs": [],
   "source": [
    "import pandas as pd \n",
    "from sklearn.preprocessing import OneHotEncoder\n",
    "from sklearn.preprocessing import PolynomialFeatures\n",
    "from sklearn.svm import LinearSVC\n",
    "import matplotlib.pyplot as plt\n",
    "import seaborn as sns \n",
    "import numpy as np \n",
    "from sklearn.preprocessing import StandardScaler\n",
    "from sklearn.model_selection import train_test_split \n",
    "from sklearn.preprocessing import MinMaxScaler\n",
    "from sklearn.neighbors import KNeighborsRegressor\n",
    "from sklearn.svm import LinearSVR\n",
    "from sklearn.svm import SVR\n",
    "import warnings\n",
    "warnings.filterwarnings(\"ignore\", category=DeprecationWarning) \n",
    "from sklearn.model_selection import GridSearchCV"
   ]
  },
  {
   "cell_type": "markdown",
   "metadata": {},
   "source": [
    "The data behind the Inside Airbnb site is sourced from publicly available information from the Airbnb site.\n",
    "Link of data is https://www.kaggle.com/jojoker/singapore-airbnb. "
   ]
  },
  {
   "cell_type": "markdown",
   "metadata": {},
   "source": [
    "## Data Description: \n",
    "Dataset consists of booking details of AirBnB in Singapore. Based on neighbourhood group, price, stay period, we have proposed to classify rome type. So, if someone wants enter in AirBnB business, person may classify its property based on several discussed factors by using our classification model."
   ]
  },
  {
   "cell_type": "code",
   "execution_count": 5,
   "metadata": {},
   "outputs": [
    {
     "data": {
      "text/html": [
       "<div>\n",
       "<style scoped>\n",
       "    .dataframe tbody tr th:only-of-type {\n",
       "        vertical-align: middle;\n",
       "    }\n",
       "\n",
       "    .dataframe tbody tr th {\n",
       "        vertical-align: top;\n",
       "    }\n",
       "\n",
       "    .dataframe thead th {\n",
       "        text-align: right;\n",
       "    }\n",
       "</style>\n",
       "<table border=\"1\" class=\"dataframe\">\n",
       "  <thead>\n",
       "    <tr style=\"text-align: right;\">\n",
       "      <th></th>\n",
       "      <th>id</th>\n",
       "      <th>name</th>\n",
       "      <th>host_id</th>\n",
       "      <th>host_name</th>\n",
       "      <th>neighbourhood_group</th>\n",
       "      <th>neighbourhood</th>\n",
       "      <th>latitude</th>\n",
       "      <th>longitude</th>\n",
       "      <th>room_type</th>\n",
       "      <th>price</th>\n",
       "      <th>minimum_nights</th>\n",
       "      <th>number_of_reviews</th>\n",
       "      <th>last_review</th>\n",
       "      <th>reviews_per_month</th>\n",
       "      <th>calculated_host_listings_count</th>\n",
       "      <th>availability_365</th>\n",
       "    </tr>\n",
       "  </thead>\n",
       "  <tbody>\n",
       "    <tr>\n",
       "      <th>0</th>\n",
       "      <td>49091</td>\n",
       "      <td>COZICOMFORT LONG TERM STAY ROOM 2</td>\n",
       "      <td>266763</td>\n",
       "      <td>Francesca</td>\n",
       "      <td>North Region</td>\n",
       "      <td>Woodlands</td>\n",
       "      <td>1.44255</td>\n",
       "      <td>103.79580</td>\n",
       "      <td>Private room</td>\n",
       "      <td>83</td>\n",
       "      <td>180</td>\n",
       "      <td>1</td>\n",
       "      <td>2013-10-21</td>\n",
       "      <td>0.01</td>\n",
       "      <td>2</td>\n",
       "      <td>365</td>\n",
       "    </tr>\n",
       "    <tr>\n",
       "      <th>1</th>\n",
       "      <td>50646</td>\n",
       "      <td>Pleasant Room along Bukit Timah</td>\n",
       "      <td>227796</td>\n",
       "      <td>Sujatha</td>\n",
       "      <td>Central Region</td>\n",
       "      <td>Bukit Timah</td>\n",
       "      <td>1.33235</td>\n",
       "      <td>103.78521</td>\n",
       "      <td>Private room</td>\n",
       "      <td>81</td>\n",
       "      <td>90</td>\n",
       "      <td>18</td>\n",
       "      <td>2014-12-26</td>\n",
       "      <td>0.28</td>\n",
       "      <td>1</td>\n",
       "      <td>365</td>\n",
       "    </tr>\n",
       "    <tr>\n",
       "      <th>2</th>\n",
       "      <td>56334</td>\n",
       "      <td>COZICOMFORT</td>\n",
       "      <td>266763</td>\n",
       "      <td>Francesca</td>\n",
       "      <td>North Region</td>\n",
       "      <td>Woodlands</td>\n",
       "      <td>1.44246</td>\n",
       "      <td>103.79667</td>\n",
       "      <td>Private room</td>\n",
       "      <td>69</td>\n",
       "      <td>6</td>\n",
       "      <td>20</td>\n",
       "      <td>2015-10-01</td>\n",
       "      <td>0.20</td>\n",
       "      <td>2</td>\n",
       "      <td>365</td>\n",
       "    </tr>\n",
       "    <tr>\n",
       "      <th>3</th>\n",
       "      <td>71609</td>\n",
       "      <td>Ensuite Room (Room 1 &amp; 2) near EXPO</td>\n",
       "      <td>367042</td>\n",
       "      <td>Belinda</td>\n",
       "      <td>East Region</td>\n",
       "      <td>Tampines</td>\n",
       "      <td>1.34541</td>\n",
       "      <td>103.95712</td>\n",
       "      <td>Private room</td>\n",
       "      <td>206</td>\n",
       "      <td>1</td>\n",
       "      <td>14</td>\n",
       "      <td>2019-08-11</td>\n",
       "      <td>0.15</td>\n",
       "      <td>9</td>\n",
       "      <td>353</td>\n",
       "    </tr>\n",
       "    <tr>\n",
       "      <th>4</th>\n",
       "      <td>71896</td>\n",
       "      <td>B&amp;B  Room 1 near Airport &amp; EXPO</td>\n",
       "      <td>367042</td>\n",
       "      <td>Belinda</td>\n",
       "      <td>East Region</td>\n",
       "      <td>Tampines</td>\n",
       "      <td>1.34567</td>\n",
       "      <td>103.95963</td>\n",
       "      <td>Private room</td>\n",
       "      <td>94</td>\n",
       "      <td>1</td>\n",
       "      <td>22</td>\n",
       "      <td>2019-07-28</td>\n",
       "      <td>0.22</td>\n",
       "      <td>9</td>\n",
       "      <td>355</td>\n",
       "    </tr>\n",
       "  </tbody>\n",
       "</table>\n",
       "</div>"
      ],
      "text/plain": [
       "      id                                 name  host_id  host_name  \\\n",
       "0  49091    COZICOMFORT LONG TERM STAY ROOM 2   266763  Francesca   \n",
       "1  50646      Pleasant Room along Bukit Timah   227796    Sujatha   \n",
       "2  56334                          COZICOMFORT   266763  Francesca   \n",
       "3  71609  Ensuite Room (Room 1 & 2) near EXPO   367042    Belinda   \n",
       "4  71896      B&B  Room 1 near Airport & EXPO   367042    Belinda   \n",
       "\n",
       "  neighbourhood_group neighbourhood  latitude  longitude     room_type  price  \\\n",
       "0        North Region     Woodlands   1.44255  103.79580  Private room     83   \n",
       "1      Central Region   Bukit Timah   1.33235  103.78521  Private room     81   \n",
       "2        North Region     Woodlands   1.44246  103.79667  Private room     69   \n",
       "3         East Region      Tampines   1.34541  103.95712  Private room    206   \n",
       "4         East Region      Tampines   1.34567  103.95963  Private room     94   \n",
       "\n",
       "   minimum_nights  number_of_reviews last_review  reviews_per_month  \\\n",
       "0             180                  1  2013-10-21               0.01   \n",
       "1              90                 18  2014-12-26               0.28   \n",
       "2               6                 20  2015-10-01               0.20   \n",
       "3               1                 14  2019-08-11               0.15   \n",
       "4               1                 22  2019-07-28               0.22   \n",
       "\n",
       "   calculated_host_listings_count  availability_365  \n",
       "0                               2               365  \n",
       "1                               1               365  \n",
       "2                               2               365  \n",
       "3                               9               353  \n",
       "4                               9               355  "
      ]
     },
     "execution_count": 5,
     "metadata": {},
     "output_type": "execute_result"
    }
   ],
   "source": [
    "#Reading the file\n",
    "Singapore = pd.read_csv('listings.csv')\n",
    "Singapore.head()"
   ]
  },
  {
   "cell_type": "code",
   "execution_count": 6,
   "metadata": {},
   "outputs": [
    {
     "data": {
      "text/plain": [
       "(7907, 16)"
      ]
     },
     "execution_count": 6,
     "metadata": {},
     "output_type": "execute_result"
    }
   ],
   "source": [
    "Singapore.shape\n"
   ]
  },
  {
   "cell_type": "code",
   "execution_count": 7,
   "metadata": {},
   "outputs": [
    {
     "data": {
      "text/plain": [
       "id                                   0\n",
       "name                                 2\n",
       "host_id                              0\n",
       "host_name                            0\n",
       "neighbourhood_group                  0\n",
       "neighbourhood                        0\n",
       "latitude                             0\n",
       "longitude                            0\n",
       "room_type                            0\n",
       "price                                0\n",
       "minimum_nights                       0\n",
       "number_of_reviews                    0\n",
       "last_review                       2758\n",
       "reviews_per_month                 2758\n",
       "calculated_host_listings_count       0\n",
       "availability_365                     0\n",
       "dtype: int64"
      ]
     },
     "execution_count": 7,
     "metadata": {},
     "output_type": "execute_result"
    }
   ],
   "source": [
    "Singapore.isnull().sum()"
   ]
  },
  {
   "cell_type": "code",
   "execution_count": 8,
   "metadata": {},
   "outputs": [],
   "source": [
    "Singapore.dropna(inplace=True)"
   ]
  },
  {
   "cell_type": "code",
   "execution_count": 9,
   "metadata": {},
   "outputs": [
    {
     "data": {
      "text/plain": [
       "id                                0\n",
       "name                              0\n",
       "host_id                           0\n",
       "host_name                         0\n",
       "neighbourhood_group               0\n",
       "neighbourhood                     0\n",
       "latitude                          0\n",
       "longitude                         0\n",
       "room_type                         0\n",
       "price                             0\n",
       "minimum_nights                    0\n",
       "number_of_reviews                 0\n",
       "last_review                       0\n",
       "reviews_per_month                 0\n",
       "calculated_host_listings_count    0\n",
       "availability_365                  0\n",
       "dtype: int64"
      ]
     },
     "execution_count": 9,
     "metadata": {},
     "output_type": "execute_result"
    }
   ],
   "source": [
    "Singapore.isnull().sum()"
   ]
  },
  {
   "cell_type": "code",
   "execution_count": 10,
   "metadata": {},
   "outputs": [
    {
     "data": {
      "text/plain": [
       "(5148, 16)"
      ]
     },
     "execution_count": 10,
     "metadata": {},
     "output_type": "execute_result"
    }
   ],
   "source": [
    "Singapore.shape\n"
   ]
  },
  {
   "cell_type": "code",
   "execution_count": 11,
   "metadata": {},
   "outputs": [
    {
     "data": {
      "text/plain": [
       "Entire home/apt    2643\n",
       "Private room       2228\n",
       "Shared room         277\n",
       "Name: room_type, dtype: int64"
      ]
     },
     "execution_count": 11,
     "metadata": {},
     "output_type": "execute_result"
    }
   ],
   "source": [
    "Singapore['room_type'].value_counts()"
   ]
  },
  {
   "cell_type": "markdown",
   "metadata": {},
   "source": [
    "Due very less data of \"Share room\", we need to avoid it for analysis. We will now drop all rows with room type as \"Shared room\" type."
   ]
  },
  {
   "cell_type": "code",
   "execution_count": 12,
   "metadata": {},
   "outputs": [],
   "source": [
    "Singapore = Singapore[Singapore.room_type != 'Shared room']"
   ]
  },
  {
   "cell_type": "code",
   "execution_count": 13,
   "metadata": {},
   "outputs": [],
   "source": [
    "Singapore.drop(columns=['id','host_name','name','host_id','latitude','longitude','last_review','neighbourhood'],inplace=True)\n",
    "\n",
    "\n"
   ]
  },
  {
   "cell_type": "code",
   "execution_count": 14,
   "metadata": {},
   "outputs": [],
   "source": [
    "Singapore = pd.concat([Singapore.drop('neighbourhood_group', axis=1), pd.get_dummies(Singapore['neighbourhood_group'],\n",
    "                                                                                   prefix='neighbourhood_group_')], \n",
    "                     axis=1) \n",
    "\n",
    "              \n"
   ]
  },
  {
   "cell_type": "code",
   "execution_count": 15,
   "metadata": {},
   "outputs": [
    {
     "data": {
      "text/html": [
       "<div>\n",
       "<style scoped>\n",
       "    .dataframe tbody tr th:only-of-type {\n",
       "        vertical-align: middle;\n",
       "    }\n",
       "\n",
       "    .dataframe tbody tr th {\n",
       "        vertical-align: top;\n",
       "    }\n",
       "\n",
       "    .dataframe thead th {\n",
       "        text-align: right;\n",
       "    }\n",
       "</style>\n",
       "<table border=\"1\" class=\"dataframe\">\n",
       "  <thead>\n",
       "    <tr style=\"text-align: right;\">\n",
       "      <th></th>\n",
       "      <th>room_type</th>\n",
       "      <th>price</th>\n",
       "      <th>minimum_nights</th>\n",
       "      <th>number_of_reviews</th>\n",
       "      <th>reviews_per_month</th>\n",
       "      <th>calculated_host_listings_count</th>\n",
       "      <th>availability_365</th>\n",
       "      <th>neighbourhood_group__Central Region</th>\n",
       "      <th>neighbourhood_group__East Region</th>\n",
       "      <th>neighbourhood_group__North Region</th>\n",
       "      <th>neighbourhood_group__North-East Region</th>\n",
       "      <th>neighbourhood_group__West Region</th>\n",
       "    </tr>\n",
       "  </thead>\n",
       "  <tbody>\n",
       "    <tr>\n",
       "      <th>0</th>\n",
       "      <td>Private room</td>\n",
       "      <td>83</td>\n",
       "      <td>180</td>\n",
       "      <td>1</td>\n",
       "      <td>0.01</td>\n",
       "      <td>2</td>\n",
       "      <td>365</td>\n",
       "      <td>0</td>\n",
       "      <td>0</td>\n",
       "      <td>1</td>\n",
       "      <td>0</td>\n",
       "      <td>0</td>\n",
       "    </tr>\n",
       "    <tr>\n",
       "      <th>1</th>\n",
       "      <td>Private room</td>\n",
       "      <td>81</td>\n",
       "      <td>90</td>\n",
       "      <td>18</td>\n",
       "      <td>0.28</td>\n",
       "      <td>1</td>\n",
       "      <td>365</td>\n",
       "      <td>1</td>\n",
       "      <td>0</td>\n",
       "      <td>0</td>\n",
       "      <td>0</td>\n",
       "      <td>0</td>\n",
       "    </tr>\n",
       "    <tr>\n",
       "      <th>2</th>\n",
       "      <td>Private room</td>\n",
       "      <td>69</td>\n",
       "      <td>6</td>\n",
       "      <td>20</td>\n",
       "      <td>0.20</td>\n",
       "      <td>2</td>\n",
       "      <td>365</td>\n",
       "      <td>0</td>\n",
       "      <td>0</td>\n",
       "      <td>1</td>\n",
       "      <td>0</td>\n",
       "      <td>0</td>\n",
       "    </tr>\n",
       "    <tr>\n",
       "      <th>3</th>\n",
       "      <td>Private room</td>\n",
       "      <td>206</td>\n",
       "      <td>1</td>\n",
       "      <td>14</td>\n",
       "      <td>0.15</td>\n",
       "      <td>9</td>\n",
       "      <td>353</td>\n",
       "      <td>0</td>\n",
       "      <td>1</td>\n",
       "      <td>0</td>\n",
       "      <td>0</td>\n",
       "      <td>0</td>\n",
       "    </tr>\n",
       "    <tr>\n",
       "      <th>4</th>\n",
       "      <td>Private room</td>\n",
       "      <td>94</td>\n",
       "      <td>1</td>\n",
       "      <td>22</td>\n",
       "      <td>0.22</td>\n",
       "      <td>9</td>\n",
       "      <td>355</td>\n",
       "      <td>0</td>\n",
       "      <td>1</td>\n",
       "      <td>0</td>\n",
       "      <td>0</td>\n",
       "      <td>0</td>\n",
       "    </tr>\n",
       "  </tbody>\n",
       "</table>\n",
       "</div>"
      ],
      "text/plain": [
       "      room_type  price  minimum_nights  number_of_reviews  reviews_per_month  \\\n",
       "0  Private room     83             180                  1               0.01   \n",
       "1  Private room     81              90                 18               0.28   \n",
       "2  Private room     69               6                 20               0.20   \n",
       "3  Private room    206               1                 14               0.15   \n",
       "4  Private room     94               1                 22               0.22   \n",
       "\n",
       "   calculated_host_listings_count  availability_365  \\\n",
       "0                               2               365   \n",
       "1                               1               365   \n",
       "2                               2               365   \n",
       "3                               9               353   \n",
       "4                               9               355   \n",
       "\n",
       "   neighbourhood_group__Central Region  neighbourhood_group__East Region  \\\n",
       "0                                    0                                 0   \n",
       "1                                    1                                 0   \n",
       "2                                    0                                 0   \n",
       "3                                    0                                 1   \n",
       "4                                    0                                 1   \n",
       "\n",
       "   neighbourhood_group__North Region  neighbourhood_group__North-East Region  \\\n",
       "0                                  1                                       0   \n",
       "1                                  0                                       0   \n",
       "2                                  1                                       0   \n",
       "3                                  0                                       0   \n",
       "4                                  0                                       0   \n",
       "\n",
       "   neighbourhood_group__West Region  \n",
       "0                                 0  \n",
       "1                                 0  \n",
       "2                                 0  \n",
       "3                                 0  \n",
       "4                                 0  "
      ]
     },
     "execution_count": 15,
     "metadata": {},
     "output_type": "execute_result"
    }
   ],
   "source": [
    "Singapore.head()\n"
   ]
  },
  {
   "cell_type": "markdown",
   "metadata": {},
   "source": [
    "## EDA"
   ]
  },
  {
   "cell_type": "code",
   "execution_count": 16,
   "metadata": {},
   "outputs": [
    {
     "data": {
      "text/html": [
       "<div>\n",
       "<style scoped>\n",
       "    .dataframe tbody tr th:only-of-type {\n",
       "        vertical-align: middle;\n",
       "    }\n",
       "\n",
       "    .dataframe tbody tr th {\n",
       "        vertical-align: top;\n",
       "    }\n",
       "\n",
       "    .dataframe thead th {\n",
       "        text-align: right;\n",
       "    }\n",
       "</style>\n",
       "<table border=\"1\" class=\"dataframe\">\n",
       "  <thead>\n",
       "    <tr style=\"text-align: right;\">\n",
       "      <th></th>\n",
       "      <th>price</th>\n",
       "      <th>minimum_nights</th>\n",
       "      <th>number_of_reviews</th>\n",
       "      <th>reviews_per_month</th>\n",
       "      <th>calculated_host_listings_count</th>\n",
       "      <th>availability_365</th>\n",
       "      <th>neighbourhood_group__Central Region</th>\n",
       "      <th>neighbourhood_group__East Region</th>\n",
       "      <th>neighbourhood_group__North Region</th>\n",
       "      <th>neighbourhood_group__North-East Region</th>\n",
       "      <th>neighbourhood_group__West Region</th>\n",
       "    </tr>\n",
       "  </thead>\n",
       "  <tbody>\n",
       "    <tr>\n",
       "      <th>count</th>\n",
       "      <td>4871.000000</td>\n",
       "      <td>4871.000000</td>\n",
       "      <td>4871.000000</td>\n",
       "      <td>4871.000000</td>\n",
       "      <td>4871.000000</td>\n",
       "      <td>4871.000000</td>\n",
       "      <td>4871.000000</td>\n",
       "      <td>4871.000000</td>\n",
       "      <td>4871.000000</td>\n",
       "      <td>4871.000000</td>\n",
       "      <td>4871.000000</td>\n",
       "    </tr>\n",
       "    <tr>\n",
       "      <th>mean</th>\n",
       "      <td>157.610347</td>\n",
       "      <td>13.073496</td>\n",
       "      <td>19.781154</td>\n",
       "      <td>1.060242</td>\n",
       "      <td>36.018477</td>\n",
       "      <td>196.077807</td>\n",
       "      <td>0.797577</td>\n",
       "      <td>0.070211</td>\n",
       "      <td>0.021556</td>\n",
       "      <td>0.043523</td>\n",
       "      <td>0.067132</td>\n",
       "    </tr>\n",
       "    <tr>\n",
       "      <th>std</th>\n",
       "      <td>259.412552</td>\n",
       "      <td>33.193372</td>\n",
       "      <td>35.280573</td>\n",
       "      <td>1.306423</td>\n",
       "      <td>61.327234</td>\n",
       "      <td>142.282176</td>\n",
       "      <td>0.401847</td>\n",
       "      <td>0.255529</td>\n",
       "      <td>0.145244</td>\n",
       "      <td>0.204052</td>\n",
       "      <td>0.250276</td>\n",
       "    </tr>\n",
       "    <tr>\n",
       "      <th>min</th>\n",
       "      <td>0.000000</td>\n",
       "      <td>1.000000</td>\n",
       "      <td>1.000000</td>\n",
       "      <td>0.010000</td>\n",
       "      <td>1.000000</td>\n",
       "      <td>0.000000</td>\n",
       "      <td>0.000000</td>\n",
       "      <td>0.000000</td>\n",
       "      <td>0.000000</td>\n",
       "      <td>0.000000</td>\n",
       "      <td>0.000000</td>\n",
       "    </tr>\n",
       "    <tr>\n",
       "      <th>25%</th>\n",
       "      <td>69.000000</td>\n",
       "      <td>2.000000</td>\n",
       "      <td>2.000000</td>\n",
       "      <td>0.180000</td>\n",
       "      <td>2.000000</td>\n",
       "      <td>53.000000</td>\n",
       "      <td>1.000000</td>\n",
       "      <td>0.000000</td>\n",
       "      <td>0.000000</td>\n",
       "      <td>0.000000</td>\n",
       "      <td>0.000000</td>\n",
       "    </tr>\n",
       "    <tr>\n",
       "      <th>50%</th>\n",
       "      <td>119.000000</td>\n",
       "      <td>3.000000</td>\n",
       "      <td>6.000000</td>\n",
       "      <td>0.550000</td>\n",
       "      <td>8.000000</td>\n",
       "      <td>221.000000</td>\n",
       "      <td>1.000000</td>\n",
       "      <td>0.000000</td>\n",
       "      <td>0.000000</td>\n",
       "      <td>0.000000</td>\n",
       "      <td>0.000000</td>\n",
       "    </tr>\n",
       "    <tr>\n",
       "      <th>75%</th>\n",
       "      <td>194.000000</td>\n",
       "      <td>7.000000</td>\n",
       "      <td>21.500000</td>\n",
       "      <td>1.390000</td>\n",
       "      <td>34.000000</td>\n",
       "      <td>342.000000</td>\n",
       "      <td>1.000000</td>\n",
       "      <td>0.000000</td>\n",
       "      <td>0.000000</td>\n",
       "      <td>0.000000</td>\n",
       "      <td>0.000000</td>\n",
       "    </tr>\n",
       "    <tr>\n",
       "      <th>max</th>\n",
       "      <td>10000.000000</td>\n",
       "      <td>700.000000</td>\n",
       "      <td>323.000000</td>\n",
       "      <td>13.000000</td>\n",
       "      <td>274.000000</td>\n",
       "      <td>365.000000</td>\n",
       "      <td>1.000000</td>\n",
       "      <td>1.000000</td>\n",
       "      <td>1.000000</td>\n",
       "      <td>1.000000</td>\n",
       "      <td>1.000000</td>\n",
       "    </tr>\n",
       "  </tbody>\n",
       "</table>\n",
       "</div>"
      ],
      "text/plain": [
       "              price  minimum_nights  number_of_reviews  reviews_per_month  \\\n",
       "count   4871.000000     4871.000000        4871.000000        4871.000000   \n",
       "mean     157.610347       13.073496          19.781154           1.060242   \n",
       "std      259.412552       33.193372          35.280573           1.306423   \n",
       "min        0.000000        1.000000           1.000000           0.010000   \n",
       "25%       69.000000        2.000000           2.000000           0.180000   \n",
       "50%      119.000000        3.000000           6.000000           0.550000   \n",
       "75%      194.000000        7.000000          21.500000           1.390000   \n",
       "max    10000.000000      700.000000         323.000000          13.000000   \n",
       "\n",
       "       calculated_host_listings_count  availability_365  \\\n",
       "count                     4871.000000       4871.000000   \n",
       "mean                        36.018477        196.077807   \n",
       "std                         61.327234        142.282176   \n",
       "min                          1.000000          0.000000   \n",
       "25%                          2.000000         53.000000   \n",
       "50%                          8.000000        221.000000   \n",
       "75%                         34.000000        342.000000   \n",
       "max                        274.000000        365.000000   \n",
       "\n",
       "       neighbourhood_group__Central Region  neighbourhood_group__East Region  \\\n",
       "count                          4871.000000                       4871.000000   \n",
       "mean                              0.797577                          0.070211   \n",
       "std                               0.401847                          0.255529   \n",
       "min                               0.000000                          0.000000   \n",
       "25%                               1.000000                          0.000000   \n",
       "50%                               1.000000                          0.000000   \n",
       "75%                               1.000000                          0.000000   \n",
       "max                               1.000000                          1.000000   \n",
       "\n",
       "       neighbourhood_group__North Region  \\\n",
       "count                        4871.000000   \n",
       "mean                            0.021556   \n",
       "std                             0.145244   \n",
       "min                             0.000000   \n",
       "25%                             0.000000   \n",
       "50%                             0.000000   \n",
       "75%                             0.000000   \n",
       "max                             1.000000   \n",
       "\n",
       "       neighbourhood_group__North-East Region  \\\n",
       "count                             4871.000000   \n",
       "mean                                 0.043523   \n",
       "std                                  0.204052   \n",
       "min                                  0.000000   \n",
       "25%                                  0.000000   \n",
       "50%                                  0.000000   \n",
       "75%                                  0.000000   \n",
       "max                                  1.000000   \n",
       "\n",
       "       neighbourhood_group__West Region  \n",
       "count                       4871.000000  \n",
       "mean                           0.067132  \n",
       "std                            0.250276  \n",
       "min                            0.000000  \n",
       "25%                            0.000000  \n",
       "50%                            0.000000  \n",
       "75%                            0.000000  \n",
       "max                            1.000000  "
      ]
     },
     "execution_count": 16,
     "metadata": {},
     "output_type": "execute_result"
    }
   ],
   "source": [
    "Singapore.describe()"
   ]
  },
  {
   "cell_type": "code",
   "execution_count": 17,
   "metadata": {},
   "outputs": [
    {
     "data": {
      "text/plain": [
       "<matplotlib.axes._subplots.AxesSubplot at 0x207729219b0>"
      ]
     },
     "execution_count": 17,
     "metadata": {},
     "output_type": "execute_result"
    },
    {
     "data": {
      "image/png": "[encoded data removed]",
      "text/plain": [
       "<Figure size 432x288 with 1 Axes>"
      ]
     },
     "metadata": {
      "needs_background": "light"
     },
     "output_type": "display_data"
    }
   ],
   "source": [
    "sns.boxplot(y=\"price\",x=\"room_type\",data=Singapore,showfliers=False)"
   ]
  },
  {
   "cell_type": "markdown",
   "metadata": {},
   "source": [
    "Observation : Median of price of Entire home is higher than that of private and share room."
   ]
  },
  {
   "cell_type": "code",
   "execution_count": 18,
   "metadata": {},
   "outputs": [
    {
     "data": {
      "text/plain": [
       "<matplotlib.axes._subplots.AxesSubplot at 0x20774a05eb8>"
      ]
     },
     "execution_count": 18,
     "metadata": {},
     "output_type": "execute_result"
    },
    {
     "data": {
      "image/png": "[encoded data removed]",
      "text/plain": [
       "<Figure size 432x288 with 1 Axes>"
      ]
     },
     "metadata": {
      "needs_background": "light"
     },
     "output_type": "display_data"
    }
   ],
   "source": [
    "sns.boxplot(y=\"number_of_reviews\",x=\"room_type\",data=Singapore,showfliers=False)"
   ]
  },
  {
   "cell_type": "markdown",
   "metadata": {},
   "source": [
    "Observation: Median of number of reviews of all three type is at similar level."
   ]
  },
  {
   "cell_type": "code",
   "execution_count": 19,
   "metadata": {},
   "outputs": [
    {
     "data": {
      "text/plain": [
       "<matplotlib.axes._subplots.AxesSubplot at 0x2075f26d780>"
      ]
     },
     "execution_count": 19,
     "metadata": {},
     "output_type": "execute_result"
    },
    {
     "data": {
      "image/png": "[encoded data removed]",
      "text/plain": [
       "<Figure size 432x288 with 1 Axes>"
      ]
     },
     "metadata": {
      "needs_background": "light"
     },
     "output_type": "display_data"
    }
   ],
   "source": [
    "sns.boxplot(y=\"availability_365\",x=\"room_type\",data=Singapore,showfliers=False)"
   ]
  },
  {
   "cell_type": "markdown",
   "metadata": {},
   "source": [
    "Observation: Shared room is having highest median availability. This means that Private room is least available.  "
   ]
  },
  {
   "cell_type": "code",
   "execution_count": 20,
   "metadata": {},
   "outputs": [
    {
     "data": {
      "text/plain": [
       "<matplotlib.axes._subplots.AxesSubplot at 0x20774ac1c50>"
      ]
     },
     "execution_count": 20,
     "metadata": {},
     "output_type": "execute_result"
    },
    {
     "data": {
      "image/png": "[encoded data removed]",
      "text/plain": [
       "<Figure size 432x288 with 1 Axes>"
      ]
     },
     "metadata": {
      "needs_background": "light"
     },
     "output_type": "display_data"
    }
   ],
   "source": [
    "sns.distplot(Singapore[\"price\"])"
   ]
  },
  {
   "cell_type": "markdown",
   "metadata": {},
   "source": [
    "Price is concentrated from 0 to 1500 dollars."
   ]
  },
  {
   "cell_type": "code",
   "execution_count": 21,
   "metadata": {},
   "outputs": [
    {
     "data": {
      "text/plain": [
       "<matplotlib.axes._subplots.AxesSubplot at 0x20774bcc6a0>"
      ]
     },
     "execution_count": 21,
     "metadata": {},
     "output_type": "execute_result"
    },
    {
     "data": {
      "image/png": "[encoded data removed]",
      "text/plain": [
       "<Figure size 432x288 with 1 Axes>"
      ]
     },
     "metadata": {
      "needs_background": "light"
     },
     "output_type": "display_data"
    }
   ],
   "source": [
    "sns.scatterplot(x='price',y='minimum_nights',data=Singapore)"
   ]
  },
  {
   "cell_type": "markdown",
   "metadata": {},
   "source": [
    "Observation: Lower price has more number of minimum number of night stay."
   ]
  },
  {
   "cell_type": "markdown",
   "metadata": {},
   "source": [
    "Scatter distribution of both the room type"
   ]
  },
  {
   "cell_type": "code",
   "execution_count": 22,
   "metadata": {},
   "outputs": [
    {
     "data": {
      "text/plain": [
       "<Figure size 792x504 with 0 Axes>"
      ]
     },
     "metadata": {},
     "output_type": "display_data"
    },
    {
     "data": {
      "image/png": "[encoded data removed]",
      "text/plain": [
       "<Figure size 360x360 with 1 Axes>"
      ]
     },
     "metadata": {
      "needs_background": "light"
     },
     "output_type": "display_data"
    }
   ],
   "source": [
    "import plotly.offline as pyo\n",
    "import plotly.graph_objs as go\n",
    "\n",
    "plt.figure(figsize=(11,7))\n",
    "sns.catplot(x=\"room_type\", y=\"price\", data=Singapore);\n",
    "plt.ioff()"
   ]
  },
  {
   "cell_type": "markdown",
   "metadata": {},
   "source": [
    "### Select dependent and independent variables as per following:"
   ]
  },
  {
   "cell_type": "code",
   "execution_count": 23,
   "metadata": {},
   "outputs": [],
   "source": [
    "y = Singapore[\"room_type\"]"
   ]
  },
  {
   "cell_type": "code",
   "execution_count": 24,
   "metadata": {},
   "outputs": [],
   "source": [
    "X = Singapore.drop('room_type',axis=1)"
   ]
  },
  {
   "cell_type": "markdown",
   "metadata": {},
   "source": [
    "Splitting dataset into test and train dataset with ratio of test size = 20% and train size = 80% of dataset. "
   ]
  },
  {
   "cell_type": "code",
   "execution_count": 25,
   "metadata": {},
   "outputs": [],
   "source": [
    "X_train_org, X_test_org, y_train, y_test = train_test_split(X, y, random_state = 0, test_size = 0.2)\n",
    "\n",
    "scaler = MinMaxScaler()\n",
    "X_train = scaler.fit_transform(X_train_org)\n",
    "X_test = scaler.transform(X_test_org)"
   ]
  },
  {
   "cell_type": "markdown",
   "metadata": {},
   "source": [
    "X_all = Singapore.drop('room_type', axis=1)\n",
    "y_all = Singapore['room_type']\n",
    "scaler = MinMaxScaler()\n",
    "X_all = scaler.fit_transform(X_all)"
   ]
  },
  {
   "cell_type": "code",
   "execution_count": 26,
   "metadata": {},
   "outputs": [],
   "source": [
    "models = ['KNN Classifier','Linear SVM','SVM_with Linear Kernel','Gaussian_SVM_Classification','Decision_Tree_Classifier','Logistics regression']\n",
    "model_performance = pd.DataFrame(columns=['Accuracy','recall','f1_score'], index=models)"
   ]
  },
  {
   "cell_type": "markdown",
   "metadata": {},
   "source": [
    "### Following classification models will be implemented and test score will be compared between them.\n"
   ]
  },
  {
   "cell_type": "markdown",
   "metadata": {},
   "source": [
    "## KNN classification"
   ]
  },
  {
   "cell_type": "markdown",
   "metadata": {},
   "source": [
    "KNN classification model to understand clustering of room type based on price, minimum nights stay, number of reviews, review per month, availability in 365 days, neighbourhood group."
   ]
  },
  {
   "cell_type": "code",
   "execution_count": 27,
   "metadata": {},
   "outputs": [],
   "source": [
    "from sklearn.neighbors import KNeighborsClassifier\n",
    "from sklearn import metrics\n",
    "train_score_array = []\n",
    "test_score_array = []\n",
    "scores = []\n",
    "\n",
    "\n",
    "for k in range(1,20):\n",
    "    knn = KNeighborsClassifier(k)\n",
    "    knn.fit(X_train, y_train)\n",
    "    train_score_array.append(knn.score(X_train, y_train))\n",
    "    test_score_array.append(knn.score(X_test, y_test))\n",
    "    "
   ]
  },
  {
   "cell_type": "markdown",
   "metadata": {},
   "source": [
    "Accuracy of test and train score"
   ]
  },
  {
   "cell_type": "code",
   "execution_count": 28,
   "metadata": {},
   "outputs": [
    {
     "data": {
      "text/plain": [
       "<matplotlib.legend.Legend at 0x20777084208>"
      ]
     },
     "execution_count": 28,
     "metadata": {},
     "output_type": "execute_result"
    },
    {
     "data": {
      "image/png": "[encoded data removed]",
      "text/plain": [
       "<Figure size 432x288 with 1 Axes>"
      ]
     },
     "metadata": {
      "needs_background": "light"
     },
     "output_type": "display_data"
    }
   ],
   "source": [
    "x_axis = range(1,20)\n",
    "%matplotlib inline\n",
    "plt.plot(x_axis, train_score_array, label = 'Train Score', c = 'g')\n",
    "plt.plot(x_axis, test_score_array, label = 'Test Score', c='b')\n",
    "plt.xlabel('k')\n",
    "plt.ylabel('Accuracy')\n",
    "plt.legend()"
   ]
  },
  {
   "cell_type": "markdown",
   "metadata": {},
   "source": [
    "We need to check value of k so that having maximum test score and least difference in test & train score."
   ]
  },
  {
   "cell_type": "code",
   "execution_count": 92,
   "metadata": {},
   "outputs": [
    {
     "name": "stdout",
     "output_type": "stream",
     "text": [
      "[0.7671794871794871, 0.7661538461538462, 0.7692307692307693, 0.7630769230769231, 0.7651282051282051, 0.7682051282051282, 0.7630769230769231, 0.762051282051282, 0.762051282051282, 0.7661538461538462, 0.7610256410256411, 0.764102564102564, 0.7661538461538462, 0.7630769230769231, 0.762051282051282, 0.7548717948717949, 0.7630769230769231]\n"
     ]
    }
   ],
   "source": [
    "# try K=1 through K=18 and record testing accuracy\n",
    "k_range = range(1, 18)\n",
    "\n",
    "# We can create Python dictionary using [] or dict()\n",
    "scores = []\n",
    "\n",
    "# We use a loop through the range 1 to 26\n",
    "# We append the scores in the dictionary\n",
    "for k in k_range:\n",
    "    knn = KNeighborsClassifier(n_neighbors=k)\n",
    "    knn.fit(X_train, y_train)\n",
    "    y_pred = knn.predict(X_test)\n",
    "    scores.append(metrics.accuracy_score(y_test, y_pred))\n",
    "\n",
    "print(scores)"
   ]
  },
  {
   "cell_type": "markdown",
   "metadata": {},
   "source": [
    "Testing accuracy score increases as model complexity increases. We have to select best combination of value of k with less model complexity. By, looking at the above graph, we can select value of k as 3."
   ]
  },
  {
   "cell_type": "code",
   "execution_count": 93,
   "metadata": {},
   "outputs": [
    {
     "name": "stdout",
     "output_type": "stream",
     "text": [
      "Train score: 0.8845\n",
      "Test score: 0.7692\n"
     ]
    }
   ],
   "source": [
    "from sklearn import metrics\n",
    "knn = KNeighborsClassifier(n_neighbors = 3)\n",
    "knn.fit(X_train, y_train)\n",
    "print('Train score: {:.4f}'.format(knn.score(X_train, y_train)))\n",
    "print('Test score: {:.4f}'.format(knn.score(X_test, y_test))) \n",
    "y_pred1 = knn.predict(X_test)"
   ]
  },
  {
   "cell_type": "code",
   "execution_count": 94,
   "metadata": {},
   "outputs": [
    {
     "name": "stdout",
     "output_type": "stream",
     "text": [
      "Confusion matrix:\n",
      "  [[430 108]\n",
      " [117 320]]\n",
      "Classification report KNN : \n",
      "                  precision    recall  f1-score   support\n",
      "\n",
      "Entire home/apt       0.79      0.80      0.79       538\n",
      "   Private room       0.75      0.73      0.74       437\n",
      "\n",
      "       accuracy                           0.77       975\n",
      "      macro avg       0.77      0.77      0.77       975\n",
      "   weighted avg       0.77      0.77      0.77       975\n",
      "\n"
     ]
    }
   ],
   "source": [
    "from sklearn.metrics import classification_report, confusion_matrix\n",
    "from sklearn import metrics\n",
    "from sklearn.metrics import accuracy_score\n",
    "from sklearn.metrics import recall_score\n",
    "\n",
    "accuracy = accuracy_score(y_test, y_pred1)\n",
    "\n",
    "print(\"Confusion matrix:\\n \", confusion_matrix(y_test, y_pred1))\n",
    "print(\"Classification report KNN : \\n\", metrics.classification_report(y_test, y_pred1))\n",
    "Classification_report_KNN = metrics.classification_report(y_test, y_pred1)\n"
   ]
  },
  {
   "cell_type": "code",
   "execution_count": 151,
   "metadata": {},
   "outputs": [
    {
     "data": {
      "image/png": "[encoded data removed]",
      "text/plain": [
       "<Figure size 432x288 with 2 Axes>"
      ]
     },
     "metadata": {
      "needs_background": "light"
     },
     "output_type": "display_data"
    }
   ],
   "source": [
    "from sklearn.metrics import classification_report, confusion_matrix\n",
    "confusion1 = confusion_matrix(y_test, y_pred1 )\n",
    "from mlxtend.plotting import plot_confusion_matrix\n",
    "fig, ax = plot_confusion_matrix(conf_mat=confusion1,\n",
    "                                colorbar=True,\n",
    "                                show_absolute=True,\n",
    "                                show_normed=False,\n",
    "                                class_names=['Entire home/apt', 'Private room'])\n",
    "plt.show()"
   ]
  },
  {
   "cell_type": "code",
   "execution_count": 95,
   "metadata": {},
   "outputs": [],
   "source": [
    "from sklearn import metrics\n",
    "from sklearn.metrics import r2_score\n",
    "from sklearn.metrics import accuracy_score\n",
    "from sklearn.metrics import recall_score\n",
    "from sklearn.metrics import f1_score\n",
    "accuracy1 = accuracy_score(y_test, y_pred1)\n",
    "f1score = f1_score(y_test, y_pred1, average='weighted') \n",
    "recall = recall_score(y_test, y_pred1, average='weighted')\n",
    "model_performance.loc['KNN Classifier'] = pd.Series({'Accuracy': accuracy1,'recall':recall,'f1_score':f1score})"
   ]
  },
  {
   "cell_type": "code",
   "execution_count": 96,
   "metadata": {},
   "outputs": [
    {
     "data": {
      "text/html": [
       "<div>\n",
       "<style scoped>\n",
       "    .dataframe tbody tr th:only-of-type {\n",
       "        vertical-align: middle;\n",
       "    }\n",
       "\n",
       "    .dataframe tbody tr th {\n",
       "        vertical-align: top;\n",
       "    }\n",
       "\n",
       "    .dataframe thead th {\n",
       "        text-align: right;\n",
       "    }\n",
       "</style>\n",
       "<table border=\"1\" class=\"dataframe\">\n",
       "  <thead>\n",
       "    <tr style=\"text-align: right;\">\n",
       "      <th></th>\n",
       "      <th>Accuracy</th>\n",
       "      <th>recall</th>\n",
       "      <th>f1_score</th>\n",
       "    </tr>\n",
       "  </thead>\n",
       "  <tbody>\n",
       "    <tr>\n",
       "      <th>KNN Classifier</th>\n",
       "      <td>0.769231</td>\n",
       "      <td>0.769231</td>\n",
       "      <td>0.768987</td>\n",
       "    </tr>\n",
       "    <tr>\n",
       "      <th>Linear SVM</th>\n",
       "      <td>NaN</td>\n",
       "      <td>NaN</td>\n",
       "      <td>NaN</td>\n",
       "    </tr>\n",
       "    <tr>\n",
       "      <th>SVM_with Linear Kernel</th>\n",
       "      <td>NaN</td>\n",
       "      <td>NaN</td>\n",
       "      <td>NaN</td>\n",
       "    </tr>\n",
       "    <tr>\n",
       "      <th>Gaussian_SVM_Classification</th>\n",
       "      <td>NaN</td>\n",
       "      <td>NaN</td>\n",
       "      <td>NaN</td>\n",
       "    </tr>\n",
       "    <tr>\n",
       "      <th>Decision_Tree_Classifier</th>\n",
       "      <td>NaN</td>\n",
       "      <td>NaN</td>\n",
       "      <td>NaN</td>\n",
       "    </tr>\n",
       "    <tr>\n",
       "      <th>Logistics regression</th>\n",
       "      <td>NaN</td>\n",
       "      <td>NaN</td>\n",
       "      <td>NaN</td>\n",
       "    </tr>\n",
       "  </tbody>\n",
       "</table>\n",
       "</div>"
      ],
      "text/plain": [
       "                             Accuracy    recall  f1_score\n",
       "KNN Classifier               0.769231  0.769231  0.768987\n",
       "Linear SVM                        NaN       NaN       NaN\n",
       "SVM_with Linear Kernel            NaN       NaN       NaN\n",
       "Gaussian_SVM_Classification       NaN       NaN       NaN\n",
       "Decision_Tree_Classifier          NaN       NaN       NaN\n",
       "Logistics regression              NaN       NaN       NaN"
      ]
     },
     "execution_count": 96,
     "metadata": {},
     "output_type": "execute_result"
    }
   ],
   "source": [
    "model_performance"
   ]
  },
  {
   "cell_type": "markdown",
   "metadata": {},
   "source": [
    "## Support Vector Machine Classification"
   ]
  },
  {
   "cell_type": "markdown",
   "metadata": {},
   "source": [
    "### Linear SVM for classification"
   ]
  },
  {
   "cell_type": "markdown",
   "metadata": {},
   "source": [
    "Linear SVM classify the dateset with boundary that divide dataset in such a way that data is classified into different classes. SVC defines decision boundary that is most optimal and maximizes the distance from the nearest data points."
   ]
  },
  {
   "cell_type": "markdown",
   "metadata": {},
   "source": [
    "#### Training the Linear SVM"
   ]
  },
  {
   "cell_type": "markdown",
   "metadata": {},
   "source": [
    "We have already devided dataset into train and test. Now, we will train the Linear SVM by using training dataset and then predict using test dataset."
   ]
  },
  {
   "cell_type": "code",
   "execution_count": 97,
   "metadata": {},
   "outputs": [
    {
     "data": {
      "text/plain": [
       "LinearSVC(C=1.0, class_weight=None, dual=True, fit_intercept=True,\n",
       "          intercept_scaling=1, loss='squared_hinge', max_iter=1000,\n",
       "          multi_class='ovr', penalty='l2', random_state=None, tol=0.0001,\n",
       "          verbose=0)"
      ]
     },
     "execution_count": 97,
     "metadata": {},
     "output_type": "execute_result"
    }
   ],
   "source": [
    "%matplotlib inline\n",
    "from sklearn.svm import LinearSVC\n",
    "# Create Linear SVC\n",
    "linearsvc = LinearSVC()\n",
    "\n",
    "linearsvc.fit(X_train, y_train)\n"
   ]
  },
  {
   "cell_type": "code",
   "execution_count": 98,
   "metadata": {},
   "outputs": [],
   "source": [
    "y_pred2 = linearsvc.predict(X_test)"
   ]
  },
  {
   "cell_type": "code",
   "execution_count": 149,
   "metadata": {},
   "outputs": [
    {
     "name": "stdout",
     "output_type": "stream",
     "text": [
      "Confusion Matrix:\n",
      " [[437 101]\n",
      " [183 254]]\n",
      "classification_report Linear SVM:\n",
      "                  precision    recall  f1-score   support\n",
      "\n",
      "Entire home/apt       0.70      0.81      0.75       538\n",
      "   Private room       0.72      0.58      0.64       437\n",
      "\n",
      "       accuracy                           0.71       975\n",
      "      macro avg       0.71      0.70      0.70       975\n",
      "   weighted avg       0.71      0.71      0.70       975\n",
      "\n"
     ]
    }
   ],
   "source": [
    "from sklearn.metrics import classification_report, confusion_matrix\n",
    "confusion2 = confusion_matrix(y_test, y_pred2 )\n",
    "print(\"Confusion Matrix:\\n\" ,confusion_matrix(y_test,y_pred2))\n",
    "print(\"classification_report Linear SVM:\\n\",classification_report(y_test,y_pred2))\n",
    "Classification_report_Linear_SVM = metrics.classification_report(y_test, y_pred1)"
   ]
  },
  {
   "cell_type": "code",
   "execution_count": 150,
   "metadata": {},
   "outputs": [
    {
     "data": {
      "image/png": "[encoded data removed]",
      "text/plain": [
       "<Figure size 432x288 with 2 Axes>"
      ]
     },
     "metadata": {
      "needs_background": "light"
     },
     "output_type": "display_data"
    }
   ],
   "source": [
    "from mlxtend.plotting import plot_confusion_matrix\n",
    "fig, ax = plot_confusion_matrix(conf_mat=confusion2,\n",
    "                                colorbar=True,\n",
    "                                show_absolute=True,\n",
    "                                show_normed=False,\n",
    "                                class_names=['Entire home/apt', 'Private room'])\n",
    "plt.show()"
   ]
  },
  {
   "cell_type": "code",
   "execution_count": 101,
   "metadata": {},
   "outputs": [],
   "source": [
    "accuracy1 = accuracy_score(y_test, y_pred2)\n",
    "f1score = f1_score(y_test, y_pred2, average='weighted') \n",
    "recall = recall_score(y_test, y_pred2, average='weighted')\n",
    "model_performance.loc['Linear SVM'] = pd.Series({'Accuracy': accuracy1,'recall':recall,'f1_score':f1score})"
   ]
  },
  {
   "cell_type": "code",
   "execution_count": 102,
   "metadata": {},
   "outputs": [
    {
     "data": {
      "text/html": [
       "<div>\n",
       "<style scoped>\n",
       "    .dataframe tbody tr th:only-of-type {\n",
       "        vertical-align: middle;\n",
       "    }\n",
       "\n",
       "    .dataframe tbody tr th {\n",
       "        vertical-align: top;\n",
       "    }\n",
       "\n",
       "    .dataframe thead th {\n",
       "        text-align: right;\n",
       "    }\n",
       "</style>\n",
       "<table border=\"1\" class=\"dataframe\">\n",
       "  <thead>\n",
       "    <tr style=\"text-align: right;\">\n",
       "      <th></th>\n",
       "      <th>Accuracy</th>\n",
       "      <th>recall</th>\n",
       "      <th>f1_score</th>\n",
       "    </tr>\n",
       "  </thead>\n",
       "  <tbody>\n",
       "    <tr>\n",
       "      <th>KNN Classifier</th>\n",
       "      <td>0.769231</td>\n",
       "      <td>0.769231</td>\n",
       "      <td>0.768987</td>\n",
       "    </tr>\n",
       "    <tr>\n",
       "      <th>Linear SVM</th>\n",
       "      <td>0.708718</td>\n",
       "      <td>0.708718</td>\n",
       "      <td>0.703952</td>\n",
       "    </tr>\n",
       "    <tr>\n",
       "      <th>SVM_with Linear Kernel</th>\n",
       "      <td>NaN</td>\n",
       "      <td>NaN</td>\n",
       "      <td>NaN</td>\n",
       "    </tr>\n",
       "    <tr>\n",
       "      <th>Gaussian_SVM_Classification</th>\n",
       "      <td>NaN</td>\n",
       "      <td>NaN</td>\n",
       "      <td>NaN</td>\n",
       "    </tr>\n",
       "    <tr>\n",
       "      <th>Decision_Tree_Classifier</th>\n",
       "      <td>NaN</td>\n",
       "      <td>NaN</td>\n",
       "      <td>NaN</td>\n",
       "    </tr>\n",
       "    <tr>\n",
       "      <th>Logistics regression</th>\n",
       "      <td>NaN</td>\n",
       "      <td>NaN</td>\n",
       "      <td>NaN</td>\n",
       "    </tr>\n",
       "  </tbody>\n",
       "</table>\n",
       "</div>"
      ],
      "text/plain": [
       "                             Accuracy    recall  f1_score\n",
       "KNN Classifier               0.769231  0.769231  0.768987\n",
       "Linear SVM                   0.708718  0.708718  0.703952\n",
       "SVM_with Linear Kernel            NaN       NaN       NaN\n",
       "Gaussian_SVM_Classification       NaN       NaN       NaN\n",
       "Decision_Tree_Classifier          NaN       NaN       NaN\n",
       "Logistics regression              NaN       NaN       NaN"
      ]
     },
     "execution_count": 102,
     "metadata": {},
     "output_type": "execute_result"
    }
   ],
   "source": [
    "model_performance"
   ]
  },
  {
   "cell_type": "markdown",
   "metadata": {},
   "source": [
    "### SVM with Linear Kernel"
   ]
  },
  {
   "cell_type": "code",
   "execution_count": 103,
   "metadata": {},
   "outputs": [
    {
     "name": "stdout",
     "output_type": "stream",
     "text": [
      "Best Hyper Parameters:\n",
      " {'C': 100, 'gamma': 0.01}\n"
     ]
    }
   ],
   "source": [
    "from sklearn import svm\n",
    "#making the instance\n",
    "model=svm.SVC(kernel='linear')\n",
    "\n",
    "#Hyper Parameters Set\n",
    "params = {'C': [1, 10, 100],\n",
    "          'gamma': [0.01, 0.1, 1, 10]}\n",
    "#Making models with hyper parameters sets\n",
    "model3 = GridSearchCV(model, param_grid=params, n_jobs=-1, cv=5)\n",
    "#Learning\n",
    "model3.fit(X_train,y_train)\n",
    "y_pred3=model3.predict(X_test)\n",
    "#The best hyper parameters set\n",
    "print(\"Best Hyper Parameters:\\n\",model3.best_params_)\n"
   ]
  },
  {
   "cell_type": "code",
   "execution_count": 146,
   "metadata": {},
   "outputs": [
    {
     "name": "stdout",
     "output_type": "stream",
     "text": [
      "Confusion Matrix:\n",
      " [[432 106]\n",
      " [ 48 389]]\n",
      "classification_report SVM with Linear Kernel:\n",
      "                  precision    recall  f1-score   support\n",
      "\n",
      "Entire home/apt       0.90      0.80      0.85       538\n",
      "   Private room       0.79      0.89      0.83       437\n",
      "\n",
      "       accuracy                           0.84       975\n",
      "      macro avg       0.84      0.85      0.84       975\n",
      "   weighted avg       0.85      0.84      0.84       975\n",
      "\n"
     ]
    }
   ],
   "source": [
    "from sklearn.metrics import classification_report, confusion_matrix\n",
    "from sklearn import metrics\n",
    "confusion3 = metrics.confusion_matrix(y_test, y_pred3 )\n",
    "print(\"Confusion Matrix:\\n\" , metrics.confusion_matrix(y_test,y_pred3))\n",
    "print(\"classification_report SVM with Linear Kernel:\\n\", metrics.classification_report(y_test,y_pred3))"
   ]
  },
  {
   "cell_type": "code",
   "execution_count": 147,
   "metadata": {},
   "outputs": [],
   "source": [
    "accuracy1 = accuracy_score(y_test, y_pred3)\n",
    "f1score = f1_score(y_test, y_pred3, average='weighted') \n",
    "recall = recall_score(y_test, y_pred3, average='weighted')\n",
    "model_performance.loc['SVM_with Linear Kernel'] = pd.Series({'Accuracy': accuracy1,'recall':recall,'f1_score':f1score})"
   ]
  },
  {
   "cell_type": "code",
   "execution_count": 148,
   "metadata": {},
   "outputs": [
    {
     "data": {
      "image/png": "[encoded data removed]",
      "text/plain": [
       "<Figure size 432x288 with 2 Axes>"
      ]
     },
     "metadata": {
      "needs_background": "light"
     },
     "output_type": "display_data"
    }
   ],
   "source": [
    "from mlxtend.plotting import plot_confusion_matrix\n",
    "fig, ax = plot_confusion_matrix(conf_mat=confusion3,\n",
    "                                colorbar=True,\n",
    "                                show_absolute=True,\n",
    "                                show_normed=False,\n",
    "                                class_names=['Entire home/apt', 'Private room'])\n",
    "plt.show()"
   ]
  },
  {
   "cell_type": "code",
   "execution_count": 106,
   "metadata": {},
   "outputs": [
    {
     "data": {
      "text/html": [
       "<div>\n",
       "<style scoped>\n",
       "    .dataframe tbody tr th:only-of-type {\n",
       "        vertical-align: middle;\n",
       "    }\n",
       "\n",
       "    .dataframe tbody tr th {\n",
       "        vertical-align: top;\n",
       "    }\n",
       "\n",
       "    .dataframe thead th {\n",
       "        text-align: right;\n",
       "    }\n",
       "</style>\n",
       "<table border=\"1\" class=\"dataframe\">\n",
       "  <thead>\n",
       "    <tr style=\"text-align: right;\">\n",
       "      <th></th>\n",
       "      <th>Accuracy</th>\n",
       "      <th>recall</th>\n",
       "      <th>f1_score</th>\n",
       "    </tr>\n",
       "  </thead>\n",
       "  <tbody>\n",
       "    <tr>\n",
       "      <th>KNN Classifier</th>\n",
       "      <td>0.769231</td>\n",
       "      <td>0.769231</td>\n",
       "      <td>0.768987</td>\n",
       "    </tr>\n",
       "    <tr>\n",
       "      <th>Linear SVM</th>\n",
       "      <td>0.708718</td>\n",
       "      <td>0.708718</td>\n",
       "      <td>0.703952</td>\n",
       "    </tr>\n",
       "    <tr>\n",
       "      <th>SVM_with Linear Kernel</th>\n",
       "      <td>0.842051</td>\n",
       "      <td>0.842051</td>\n",
       "      <td>0.842466</td>\n",
       "    </tr>\n",
       "    <tr>\n",
       "      <th>Gaussian_SVM_Classification</th>\n",
       "      <td>NaN</td>\n",
       "      <td>NaN</td>\n",
       "      <td>NaN</td>\n",
       "    </tr>\n",
       "    <tr>\n",
       "      <th>Decision_Tree_Classifier</th>\n",
       "      <td>NaN</td>\n",
       "      <td>NaN</td>\n",
       "      <td>NaN</td>\n",
       "    </tr>\n",
       "    <tr>\n",
       "      <th>Logistics regression</th>\n",
       "      <td>NaN</td>\n",
       "      <td>NaN</td>\n",
       "      <td>NaN</td>\n",
       "    </tr>\n",
       "  </tbody>\n",
       "</table>\n",
       "</div>"
      ],
      "text/plain": [
       "                             Accuracy    recall  f1_score\n",
       "KNN Classifier               0.769231  0.769231  0.768987\n",
       "Linear SVM                   0.708718  0.708718  0.703952\n",
       "SVM_with Linear Kernel       0.842051  0.842051  0.842466\n",
       "Gaussian_SVM_Classification       NaN       NaN       NaN\n",
       "Decision_Tree_Classifier          NaN       NaN       NaN\n",
       "Logistics regression              NaN       NaN       NaN"
      ]
     },
     "execution_count": 106,
     "metadata": {},
     "output_type": "execute_result"
    }
   ],
   "source": [
    "model_performance"
   ]
  },
  {
   "cell_type": "markdown",
   "metadata": {},
   "source": [
    "## Gaussian SVM Classification"
   ]
  },
  {
   "cell_type": "code",
   "execution_count": 107,
   "metadata": {},
   "outputs": [
    {
     "name": "stdout",
     "output_type": "stream",
     "text": [
      "Best Hyper Parameters:\n",
      " {'C': 10000.0, 'gamma': 1}\n"
     ]
    }
   ],
   "source": [
    "from sklearn import svm\n",
    "#making the instance\n",
    "model=svm.SVC(kernel='rbf')\n",
    "\n",
    "#Hyper Parameters Set\n",
    "params = {'C': np.logspace(0, 4, 10),\n",
    "          'gamma': [0.01, 0.1, 1, 10]}\n",
    "#Making models with hyper parameters sets\n",
    "model5 = GridSearchCV(model, param_grid=params, n_jobs=-1, cv=5)\n",
    "#Learning\n",
    "model5.fit(X_train,y_train)\n",
    "#The best hyper parameters set\n",
    "print(\"Best Hyper Parameters:\\n\",model5.best_params_)\n",
    "#Prediction\n",
    "y_pred5=model5.predict(X_test)\n"
   ]
  },
  {
   "cell_type": "code",
   "execution_count": 143,
   "metadata": {},
   "outputs": [
    {
     "name": "stdout",
     "output_type": "stream",
     "text": [
      "[[480  58]\n",
      " [ 57 380]]\n",
      "                 precision    recall  f1-score   support\n",
      "\n",
      "Entire home/apt       0.89      0.89      0.89       538\n",
      "   Private room       0.87      0.87      0.87       437\n",
      "\n",
      "       accuracy                           0.88       975\n",
      "      macro avg       0.88      0.88      0.88       975\n",
      "   weighted avg       0.88      0.88      0.88       975\n",
      "\n"
     ]
    }
   ],
   "source": [
    "from sklearn.metrics import classification_report, confusion_matrix\n",
    "confusion5 = confusion_matrix(y_test, y_pred5 )\n",
    "print(confusion_matrix(y_test,y_pred5))\n",
    "print(classification_report(y_test,y_pred5))"
   ]
  },
  {
   "cell_type": "code",
   "execution_count": 144,
   "metadata": {},
   "outputs": [],
   "source": [
    "accuracy1 = accuracy_score(y_test, y_pred5)\n",
    "f1score = f1_score(y_test, y_pred5, average='weighted') \n",
    "recall = recall_score(y_test, y_pred5, average='weighted')\n",
    "model_performance.loc['Gaussian_SVM_Classification'] = pd.Series({'Accuracy': accuracy1,'recall':recall,'f1_score':f1score})"
   ]
  },
  {
   "cell_type": "code",
   "execution_count": 145,
   "metadata": {},
   "outputs": [
    {
     "data": {
      "image/png": "[encoded data removed]",
      "text/plain": [
       "<Figure size 432x288 with 2 Axes>"
      ]
     },
     "metadata": {
      "needs_background": "light"
     },
     "output_type": "display_data"
    }
   ],
   "source": [
    "from mlxtend.plotting import plot_confusion_matrix\n",
    "fig, ax = plot_confusion_matrix(conf_mat=confusion5,\n",
    "                                colorbar=True,\n",
    "                                show_absolute=True,\n",
    "                                show_normed=False,\n",
    "                                class_names=['Entire home/apt', 'Private room'])\n",
    "plt.show()"
   ]
  },
  {
   "cell_type": "code",
   "execution_count": 110,
   "metadata": {},
   "outputs": [
    {
     "data": {
      "text/html": [
       "<div>\n",
       "<style scoped>\n",
       "    .dataframe tbody tr th:only-of-type {\n",
       "        vertical-align: middle;\n",
       "    }\n",
       "\n",
       "    .dataframe tbody tr th {\n",
       "        vertical-align: top;\n",
       "    }\n",
       "\n",
       "    .dataframe thead th {\n",
       "        text-align: right;\n",
       "    }\n",
       "</style>\n",
       "<table border=\"1\" class=\"dataframe\">\n",
       "  <thead>\n",
       "    <tr style=\"text-align: right;\">\n",
       "      <th></th>\n",
       "      <th>Accuracy</th>\n",
       "      <th>recall</th>\n",
       "      <th>f1_score</th>\n",
       "    </tr>\n",
       "  </thead>\n",
       "  <tbody>\n",
       "    <tr>\n",
       "      <th>KNN Classifier</th>\n",
       "      <td>0.769231</td>\n",
       "      <td>0.769231</td>\n",
       "      <td>0.768987</td>\n",
       "    </tr>\n",
       "    <tr>\n",
       "      <th>Linear SVM</th>\n",
       "      <td>0.708718</td>\n",
       "      <td>0.708718</td>\n",
       "      <td>0.703952</td>\n",
       "    </tr>\n",
       "    <tr>\n",
       "      <th>SVM_with Linear Kernel</th>\n",
       "      <td>0.842051</td>\n",
       "      <td>0.842051</td>\n",
       "      <td>0.842466</td>\n",
       "    </tr>\n",
       "    <tr>\n",
       "      <th>Gaussian_SVM_Classification</th>\n",
       "      <td>0.882051</td>\n",
       "      <td>0.882051</td>\n",
       "      <td>0.882064</td>\n",
       "    </tr>\n",
       "    <tr>\n",
       "      <th>Decision_Tree_Classifier</th>\n",
       "      <td>NaN</td>\n",
       "      <td>NaN</td>\n",
       "      <td>NaN</td>\n",
       "    </tr>\n",
       "    <tr>\n",
       "      <th>Logistics regression</th>\n",
       "      <td>NaN</td>\n",
       "      <td>NaN</td>\n",
       "      <td>NaN</td>\n",
       "    </tr>\n",
       "  </tbody>\n",
       "</table>\n",
       "</div>"
      ],
      "text/plain": [
       "                             Accuracy    recall  f1_score\n",
       "KNN Classifier               0.769231  0.769231  0.768987\n",
       "Linear SVM                   0.708718  0.708718  0.703952\n",
       "SVM_with Linear Kernel       0.842051  0.842051  0.842466\n",
       "Gaussian_SVM_Classification  0.882051  0.882051  0.882064\n",
       "Decision_Tree_Classifier          NaN       NaN       NaN\n",
       "Logistics regression              NaN       NaN       NaN"
      ]
     },
     "execution_count": 110,
     "metadata": {},
     "output_type": "execute_result"
    }
   ],
   "source": [
    "model_performance"
   ]
  },
  {
   "cell_type": "markdown",
   "metadata": {},
   "source": [
    "## Decision Tree Classifier"
   ]
  },
  {
   "cell_type": "markdown",
   "metadata": {},
   "source": [
    "Decision tree classifier has been trained. Now, we have to make predictions on the test dataset. Following predict method has been used to predict the class in test data set"
   ]
  },
  {
   "cell_type": "code",
   "execution_count": 111,
   "metadata": {},
   "outputs": [],
   "source": [
    "from sklearn.tree import DecisionTreeClassifier\n",
    "#making the instance\n",
    "model= DecisionTreeClassifier(random_state=0)\n",
    "#Hyper Parameters Set\n",
    "params = {'max_features': ['auto', 'sqrt', 'log2'],\n",
    "          'min_samples_split': [2,3,4,5,6,7,8,9,10,11,12,13,14,15], \n",
    "          'min_samples_leaf':[1,2,3,4,5,6,7,8,9,10,11],\n",
    "          'random_state':[0]}"
   ]
  },
  {
   "cell_type": "code",
   "execution_count": 112,
   "metadata": {},
   "outputs": [
    {
     "name": "stderr",
     "output_type": "stream",
     "text": [
      "C:\\Users\\Vaibhav\\AppData\\Roaming\\Python\\Python37\\site-packages\\sklearn\\model_selection\\_split.py:1978: FutureWarning: The default value of cv will change from 3 to 5 in version 0.22. Specify it explicitly to silence this warning.\n",
      "  warnings.warn(CV_WARNING, FutureWarning)\n"
     ]
    },
    {
     "name": "stdout",
     "output_type": "stream",
     "text": [
      "Best Hyper Parameters: {'max_features': 'auto', 'min_samples_leaf': 8, 'min_samples_split': 2, 'random_state': 0}\n"
     ]
    }
   ],
   "source": [
    "#Making models with hyper parameters sets\n",
    "model6 = GridSearchCV(model, param_grid=params, n_jobs=-1)\n",
    "#Learning\n",
    "model6.fit(X_train,y_train)\n",
    "#The best hyper parameters set\n",
    "print(\"Best Hyper Parameters:\",model6.best_params_)\n",
    "#Prediction\n",
    "y_pred6=model6.predict(X_test)\n"
   ]
  },
  {
   "cell_type": "markdown",
   "metadata": {},
   "source": [
    "#### Evaluation of model prediction"
   ]
  },
  {
   "cell_type": "markdown",
   "metadata": {},
   "source": [
    "We have completed training our model and made prediction using test data. Now, we need to check how accurate our model works."
   ]
  },
  {
   "cell_type": "code",
   "execution_count": 113,
   "metadata": {},
   "outputs": [
    {
     "name": "stdout",
     "output_type": "stream",
     "text": [
      "[[487  51]\n",
      " [ 65 372]]\n",
      "                 precision    recall  f1-score   support\n",
      "\n",
      "Entire home/apt       0.88      0.91      0.89       538\n",
      "   Private room       0.88      0.85      0.87       437\n",
      "\n",
      "       accuracy                           0.88       975\n",
      "      macro avg       0.88      0.88      0.88       975\n",
      "   weighted avg       0.88      0.88      0.88       975\n",
      "\n"
     ]
    }
   ],
   "source": [
    "from sklearn.metrics import classification_report, confusion_matrix\n",
    "confusion = confusion_matrix(y_test, y_pred6 )\n",
    "print(confusion_matrix(y_test,y_pred6))\n",
    "print(classification_report(y_test,y_pred6))"
   ]
  },
  {
   "cell_type": "code",
   "execution_count": 114,
   "metadata": {},
   "outputs": [],
   "source": [
    "accuracy1 = accuracy_score(y_test, y_pred6)\n",
    "f1score = f1_score(y_test, y_pred6, average='weighted') \n",
    "recall = recall_score(y_test, y_pred6, average='weighted')\n",
    "model_performance.loc['Decision_Tree_Classifier'] = pd.Series({'Accuracy': accuracy1,'recall':recall,'f1_score':f1score})"
   ]
  },
  {
   "cell_type": "markdown",
   "metadata": {},
   "source": [
    "Let's plot confusion matrix"
   ]
  },
  {
   "cell_type": "code",
   "execution_count": 115,
   "metadata": {},
   "outputs": [
    {
     "data": {
      "image/png": "[encoded data removed]",
      "text/plain": [
       "<Figure size 432x288 with 2 Axes>"
      ]
     },
     "metadata": {
      "needs_background": "light"
     },
     "output_type": "display_data"
    }
   ],
   "source": [
    "from mlxtend.plotting import plot_confusion_matrix\n",
    "fig, ax = plot_confusion_matrix(conf_mat=confusion,\n",
    "                                colorbar=True,\n",
    "                                show_absolute=True,\n",
    "                                show_normed=False,\n",
    "                                class_names=['Entire home/apt', 'Private room'])\n",
    "plt.show()"
   ]
  },
  {
   "cell_type": "markdown",
   "metadata": {},
   "source": [
    "From confusion matrix, our model has precision of 0.88 for Entire home/apt, 0.85 for Private room and 0.72 for Shared room."
   ]
  },
  {
   "cell_type": "code",
   "execution_count": 117,
   "metadata": {},
   "outputs": [
    {
     "data": {
      "text/html": [
       "<div>\n",
       "<style scoped>\n",
       "    .dataframe tbody tr th:only-of-type {\n",
       "        vertical-align: middle;\n",
       "    }\n",
       "\n",
       "    .dataframe tbody tr th {\n",
       "        vertical-align: top;\n",
       "    }\n",
       "\n",
       "    .dataframe thead th {\n",
       "        text-align: right;\n",
       "    }\n",
       "</style>\n",
       "<table border=\"1\" class=\"dataframe\">\n",
       "  <thead>\n",
       "    <tr style=\"text-align: right;\">\n",
       "      <th></th>\n",
       "      <th>Accuracy</th>\n",
       "      <th>recall</th>\n",
       "      <th>f1_score</th>\n",
       "    </tr>\n",
       "  </thead>\n",
       "  <tbody>\n",
       "    <tr>\n",
       "      <th>KNN Classifier</th>\n",
       "      <td>0.769231</td>\n",
       "      <td>0.769231</td>\n",
       "      <td>0.768987</td>\n",
       "    </tr>\n",
       "    <tr>\n",
       "      <th>Linear SVM</th>\n",
       "      <td>0.708718</td>\n",
       "      <td>0.708718</td>\n",
       "      <td>0.703952</td>\n",
       "    </tr>\n",
       "    <tr>\n",
       "      <th>SVM_with Linear Kernel</th>\n",
       "      <td>0.842051</td>\n",
       "      <td>0.842051</td>\n",
       "      <td>0.842466</td>\n",
       "    </tr>\n",
       "    <tr>\n",
       "      <th>Gaussian_SVM_Classification</th>\n",
       "      <td>0.882051</td>\n",
       "      <td>0.882051</td>\n",
       "      <td>0.882064</td>\n",
       "    </tr>\n",
       "    <tr>\n",
       "      <th>Decision_Tree_Classifier</th>\n",
       "      <td>0.881026</td>\n",
       "      <td>0.881026</td>\n",
       "      <td>0.880821</td>\n",
       "    </tr>\n",
       "    <tr>\n",
       "      <th>Logistics regression</th>\n",
       "      <td>NaN</td>\n",
       "      <td>NaN</td>\n",
       "      <td>NaN</td>\n",
       "    </tr>\n",
       "  </tbody>\n",
       "</table>\n",
       "</div>"
      ],
      "text/plain": [
       "                             Accuracy    recall  f1_score\n",
       "KNN Classifier               0.769231  0.769231  0.768987\n",
       "Linear SVM                   0.708718  0.708718  0.703952\n",
       "SVM_with Linear Kernel       0.842051  0.842051  0.842466\n",
       "Gaussian_SVM_Classification  0.882051  0.882051  0.882064\n",
       "Decision_Tree_Classifier     0.881026  0.881026  0.880821\n",
       "Logistics regression              NaN       NaN       NaN"
      ]
     },
     "execution_count": 117,
     "metadata": {},
     "output_type": "execute_result"
    }
   ],
   "source": [
    "model_performance"
   ]
  },
  {
   "cell_type": "code",
   "execution_count": null,
   "metadata": {},
   "outputs": [],
   "source": []
  },
  {
   "cell_type": "markdown",
   "metadata": {},
   "source": [
    "### Logistics Regression"
   ]
  },
  {
   "cell_type": "code",
   "execution_count": 118,
   "metadata": {},
   "outputs": [
    {
     "name": "stderr",
     "output_type": "stream",
     "text": [
      "C:\\Users\\Vaibhav\\AppData\\Roaming\\Python\\Python37\\site-packages\\sklearn\\linear_model\\logistic.py:432: FutureWarning: Default solver will be changed to 'lbfgs' in 0.22. Specify a solver to silence this warning.\n",
      "  FutureWarning)\n"
     ]
    },
    {
     "data": {
      "text/plain": [
       "LogisticRegression(C=1.0, class_weight=None, dual=False, fit_intercept=True,\n",
       "                   intercept_scaling=1, l1_ratio=None, max_iter=100,\n",
       "                   multi_class='warn', n_jobs=None, penalty='l2',\n",
       "                   random_state=None, solver='warn', tol=0.0001, verbose=0,\n",
       "                   warm_start=False)"
      ]
     },
     "execution_count": 118,
     "metadata": {},
     "output_type": "execute_result"
    }
   ],
   "source": [
    "from sklearn.linear_model import LogisticRegression\n",
    "lr = LogisticRegression()\n",
    "lr.fit(X_train, y_train)"
   ]
  },
  {
   "cell_type": "code",
   "execution_count": 119,
   "metadata": {},
   "outputs": [
    {
     "name": "stdout",
     "output_type": "stream",
     "text": [
      "[[-7.03873065  0.72273433  0.22206829 -1.34955106 -4.03792686  0.76747356\n",
      "  -0.87989296  0.41254104  0.29866711  0.59198042  0.2632766 ]]\n",
      "[0.68657221]\n"
     ]
    }
   ],
   "source": [
    "print(lr.coef_)\n",
    "print(lr.intercept_)"
   ]
  },
  {
   "cell_type": "code",
   "execution_count": 133,
   "metadata": {},
   "outputs": [],
   "source": [
    "y_pred7 = lr.predict(X_test)"
   ]
  },
  {
   "cell_type": "code",
   "execution_count": 134,
   "metadata": {},
   "outputs": [
    {
     "data": {
      "text/plain": [
       "array([[424, 114],\n",
       "       [194, 243]], dtype=int64)"
      ]
     },
     "execution_count": 134,
     "metadata": {},
     "output_type": "execute_result"
    }
   ],
   "source": [
    "confusion_matrix(y_test, y_pred7)"
   ]
  },
  {
   "cell_type": "code",
   "execution_count": 139,
   "metadata": {},
   "outputs": [
    {
     "name": "stdout",
     "output_type": "stream",
     "text": [
      "Confusion matrix:\n",
      "  [[424 114]\n",
      " [194 243]]\n",
      "Classification report KNN : \n",
      "                  precision    recall  f1-score   support\n",
      "\n",
      "Entire home/apt       0.69      0.79      0.73       538\n",
      "   Private room       0.68      0.56      0.61       437\n",
      "\n",
      "       accuracy                           0.68       975\n",
      "      macro avg       0.68      0.67      0.67       975\n",
      "   weighted avg       0.68      0.68      0.68       975\n",
      "\n"
     ]
    }
   ],
   "source": [
    "accuracy = accuracy_score(y_test, y_pred7)\n",
    "from sklearn.metrics import classification_report, confusion_matrix\n",
    "confusion7 = confusion_matrix(y_test, y_pred7 )\n",
    "print(\"Confusion matrix:\\n \", confusion_matrix(y_test, y_pred7))\n",
    "print(\"Classification report KNN : \\n\", metrics.classification_report(y_test, y_pred7))\n",
    "Classification_report_KNN = metrics.classification_report(y_test, y_pred7)\n"
   ]
  },
  {
   "cell_type": "code",
   "execution_count": 140,
   "metadata": {},
   "outputs": [],
   "source": [
    "accuracy1 = accuracy_score(y_test, y_pred2)\n",
    "f1score = f1_score(y_test, y_pred2, average='weighted') \n",
    "recall = recall_score(y_test, y_pred2, average='weighted')\n",
    "model_performance.loc['Logistics regression'] = pd.Series({'Accuracy': accuracy1,'recall':recall,'f1_score':f1score})"
   ]
  },
  {
   "cell_type": "code",
   "execution_count": 141,
   "metadata": {},
   "outputs": [
    {
     "data": {
      "text/html": [
       "<div>\n",
       "<style scoped>\n",
       "    .dataframe tbody tr th:only-of-type {\n",
       "        vertical-align: middle;\n",
       "    }\n",
       "\n",
       "    .dataframe tbody tr th {\n",
       "        vertical-align: top;\n",
       "    }\n",
       "\n",
       "    .dataframe thead th {\n",
       "        text-align: right;\n",
       "    }\n",
       "</style>\n",
       "<table border=\"1\" class=\"dataframe\">\n",
       "  <thead>\n",
       "    <tr style=\"text-align: right;\">\n",
       "      <th></th>\n",
       "      <th>Accuracy</th>\n",
       "      <th>recall</th>\n",
       "      <th>f1_score</th>\n",
       "    </tr>\n",
       "  </thead>\n",
       "  <tbody>\n",
       "    <tr>\n",
       "      <th>KNN Classifier</th>\n",
       "      <td>0.769231</td>\n",
       "      <td>0.769231</td>\n",
       "      <td>0.768987</td>\n",
       "    </tr>\n",
       "    <tr>\n",
       "      <th>Linear SVM</th>\n",
       "      <td>0.708718</td>\n",
       "      <td>0.708718</td>\n",
       "      <td>0.703952</td>\n",
       "    </tr>\n",
       "    <tr>\n",
       "      <th>SVM_with Linear Kernel</th>\n",
       "      <td>0.842051</td>\n",
       "      <td>0.842051</td>\n",
       "      <td>0.842466</td>\n",
       "    </tr>\n",
       "    <tr>\n",
       "      <th>Gaussian_SVM_Classification</th>\n",
       "      <td>0.882051</td>\n",
       "      <td>0.882051</td>\n",
       "      <td>0.882064</td>\n",
       "    </tr>\n",
       "    <tr>\n",
       "      <th>Decision_Tree_Classifier</th>\n",
       "      <td>0.881026</td>\n",
       "      <td>0.881026</td>\n",
       "      <td>0.880821</td>\n",
       "    </tr>\n",
       "    <tr>\n",
       "      <th>Logistics regression</th>\n",
       "      <td>0.708718</td>\n",
       "      <td>0.708718</td>\n",
       "      <td>0.703952</td>\n",
       "    </tr>\n",
       "  </tbody>\n",
       "</table>\n",
       "</div>"
      ],
      "text/plain": [
       "                             Accuracy    recall  f1_score\n",
       "KNN Classifier               0.769231  0.769231  0.768987\n",
       "Linear SVM                   0.708718  0.708718  0.703952\n",
       "SVM_with Linear Kernel       0.842051  0.842051  0.842466\n",
       "Gaussian_SVM_Classification  0.882051  0.882051  0.882064\n",
       "Decision_Tree_Classifier     0.881026  0.881026  0.880821\n",
       "Logistics regression         0.708718  0.708718  0.703952"
      ]
     },
     "execution_count": 141,
     "metadata": {},
     "output_type": "execute_result"
    }
   ],
   "source": [
    "model_performance"
   ]
  },
  {
   "cell_type": "code",
   "execution_count": 142,
   "metadata": {},
   "outputs": [
    {
     "data": {
      "image/png": "[encoded data removed]",
      "text/plain": [
       "<Figure size 432x288 with 2 Axes>"
      ]
     },
     "metadata": {
      "needs_background": "light"
     },
     "output_type": "display_data"
    }
   ],
   "source": [
    "from mlxtend.plotting import plot_confusion_matrix\n",
    "fig, ax = plot_confusion_matrix(conf_mat=confusion7,\n",
    "                                colorbar=True,\n",
    "                                show_absolute=True,\n",
    "                                show_normed=False,\n",
    "                                class_names=['Entire home/apt', 'Private room'])\n",
    "plt.show()"
   ]
  },
  {
   "cell_type": "markdown",
   "metadata": {},
   "source": [
    "##  Which model gives the best results?"
   ]
  },
  {
   "cell_type": "code",
   "execution_count": 166,
   "metadata": {},
   "outputs": [
    {
     "data": {
      "text/html": [
       "<div>\n",
       "<style scoped>\n",
       "    .dataframe tbody tr th:only-of-type {\n",
       "        vertical-align: middle;\n",
       "    }\n",
       "\n",
       "    .dataframe tbody tr th {\n",
       "        vertical-align: top;\n",
       "    }\n",
       "\n",
       "    .dataframe thead th {\n",
       "        text-align: right;\n",
       "    }\n",
       "</style>\n",
       "<table border=\"1\" class=\"dataframe\">\n",
       "  <thead>\n",
       "    <tr style=\"text-align: right;\">\n",
       "      <th></th>\n",
       "      <th>Accuracy</th>\n",
       "      <th>recall</th>\n",
       "      <th>f1_score</th>\n",
       "    </tr>\n",
       "  </thead>\n",
       "  <tbody>\n",
       "    <tr>\n",
       "      <th>KNN Classifier</th>\n",
       "      <td>0.769231</td>\n",
       "      <td>0.769231</td>\n",
       "      <td>0.768987</td>\n",
       "    </tr>\n",
       "    <tr>\n",
       "      <th>Linear SVM</th>\n",
       "      <td>0.708718</td>\n",
       "      <td>0.708718</td>\n",
       "      <td>0.703952</td>\n",
       "    </tr>\n",
       "    <tr>\n",
       "      <th>SVM_with Linear Kernel</th>\n",
       "      <td>0.842051</td>\n",
       "      <td>0.842051</td>\n",
       "      <td>0.842466</td>\n",
       "    </tr>\n",
       "    <tr>\n",
       "      <th>Gaussian_SVM_Classification</th>\n",
       "      <td>0.882051</td>\n",
       "      <td>0.882051</td>\n",
       "      <td>0.882064</td>\n",
       "    </tr>\n",
       "    <tr>\n",
       "      <th>Decision_Tree_Classifier</th>\n",
       "      <td>0.881026</td>\n",
       "      <td>0.881026</td>\n",
       "      <td>0.880821</td>\n",
       "    </tr>\n",
       "    <tr>\n",
       "      <th>Logistics regression</th>\n",
       "      <td>0.708718</td>\n",
       "      <td>0.708718</td>\n",
       "      <td>0.703952</td>\n",
       "    </tr>\n",
       "  </tbody>\n",
       "</table>\n",
       "</div>"
      ],
      "text/plain": [
       "                             Accuracy    recall  f1_score\n",
       "KNN Classifier               0.769231  0.769231  0.768987\n",
       "Linear SVM                   0.708718  0.708718  0.703952\n",
       "SVM_with Linear Kernel       0.842051  0.842051  0.842466\n",
       "Gaussian_SVM_Classification  0.882051  0.882051  0.882064\n",
       "Decision_Tree_Classifier     0.881026  0.881026  0.880821\n",
       "Logistics regression         0.708718  0.708718  0.703952"
      ]
     },
     "execution_count": 166,
     "metadata": {},
     "output_type": "execute_result"
    }
   ],
   "source": [
    "model_performance"
   ]
  },
  {
   "cell_type": "markdown",
   "metadata": {},
   "source": [
    "By looking at summary of model performance, we can finalize that Gaussian_SVM classfier is performing best amoung the other classifier."
   ]
  },
  {
   "cell_type": "markdown",
   "metadata": {},
   "source": [
    "## Regression Project"
   ]
  },
  {
   "cell_type": "markdown",
   "metadata": {},
   "source": [
    "The basic idea of analyzing the Zomato dataset is to get a fair idea about the factors affecting the establishment of different types of restaurant at different places in Bengaluru, aggregate rating of each restaurant. Link of data is https://www.kaggle.com/himanshupoddar/zomato-bangalore-restaurants"
   ]
  },
  {
   "cell_type": "markdown",
   "metadata": {},
   "source": [
    "We have to do regression to predict the cost of the two people dining out."
   ]
  },
  {
   "cell_type": "code",
   "execution_count": 181,
   "metadata": {},
   "outputs": [
    {
     "data": {
      "text/html": [
       "<div>\n",
       "<style scoped>\n",
       "    .dataframe tbody tr th:only-of-type {\n",
       "        vertical-align: middle;\n",
       "    }\n",
       "\n",
       "    .dataframe tbody tr th {\n",
       "        vertical-align: top;\n",
       "    }\n",
       "\n",
       "    .dataframe thead th {\n",
       "        text-align: right;\n",
       "    }\n",
       "</style>\n",
       "<table border=\"1\" class=\"dataframe\">\n",
       "  <thead>\n",
       "    <tr style=\"text-align: right;\">\n",
       "      <th></th>\n",
       "      <th>url</th>\n",
       "      <th>address</th>\n",
       "      <th>name</th>\n",
       "      <th>online_order</th>\n",
       "      <th>book_table</th>\n",
       "      <th>rate</th>\n",
       "      <th>votes</th>\n",
       "      <th>phone</th>\n",
       "      <th>location</th>\n",
       "      <th>rest_type</th>\n",
       "      <th>dish_liked</th>\n",
       "      <th>cuisines</th>\n",
       "      <th>approx_cost(for two people)</th>\n",
       "      <th>reviews_list</th>\n",
       "      <th>menu_item</th>\n",
       "      <th>listed_in(type)</th>\n",
       "      <th>listed_in(city)</th>\n",
       "    </tr>\n",
       "  </thead>\n",
       "  <tbody>\n",
       "    <tr>\n",
       "      <th>0</th>\n",
       "      <td>https://www.zomato.com/bangalore/jalsa-banasha...</td>\n",
       "      <td>942, 21st Main Road, 2nd Stage, Banashankari, ...</td>\n",
       "      <td>Jalsa</td>\n",
       "      <td>Yes</td>\n",
       "      <td>Yes</td>\n",
       "      <td>4.1/5</td>\n",
       "      <td>775</td>\n",
       "      <td>080 42297555\\r\\n+91 9743772233</td>\n",
       "      <td>Banashankari</td>\n",
       "      <td>Casual Dining</td>\n",
       "      <td>Pasta, Lunch Buffet, Masala Papad, Paneer Laja...</td>\n",
       "      <td>North Indian, Mughlai, Chinese</td>\n",
       "      <td>800</td>\n",
       "      <td>[('Rated 4.0', 'RATED\\n  A beautiful place to ...</td>\n",
       "      <td>[]</td>\n",
       "      <td>Buffet</td>\n",
       "      <td>Banashankari</td>\n",
       "    </tr>\n",
       "    <tr>\n",
       "      <th>1</th>\n",
       "      <td>https://www.zomato.com/bangalore/spice-elephan...</td>\n",
       "      <td>2nd Floor, 80 Feet Road, Near Big Bazaar, 6th ...</td>\n",
       "      <td>Spice Elephant</td>\n",
       "      <td>Yes</td>\n",
       "      <td>No</td>\n",
       "      <td>4.1/5</td>\n",
       "      <td>787</td>\n",
       "      <td>080 41714161</td>\n",
       "      <td>Banashankari</td>\n",
       "      <td>Casual Dining</td>\n",
       "      <td>Momos, Lunch Buffet, Chocolate Nirvana, Thai G...</td>\n",
       "      <td>Chinese, North Indian, Thai</td>\n",
       "      <td>800</td>\n",
       "      <td>[('Rated 4.0', 'RATED\\n  Had been here for din...</td>\n",
       "      <td>[]</td>\n",
       "      <td>Buffet</td>\n",
       "      <td>Banashankari</td>\n",
       "    </tr>\n",
       "    <tr>\n",
       "      <th>2</th>\n",
       "      <td>https://www.zomato.com/SanchurroBangalore?cont...</td>\n",
       "      <td>1112, Next to KIMS Medical College, 17th Cross...</td>\n",
       "      <td>San Churro Cafe</td>\n",
       "      <td>Yes</td>\n",
       "      <td>No</td>\n",
       "      <td>3.8/5</td>\n",
       "      <td>918</td>\n",
       "      <td>+91 9663487993</td>\n",
       "      <td>Banashankari</td>\n",
       "      <td>Cafe, Casual Dining</td>\n",
       "      <td>Churros, Cannelloni, Minestrone Soup, Hot Choc...</td>\n",
       "      <td>Cafe, Mexican, Italian</td>\n",
       "      <td>800</td>\n",
       "      <td>[('Rated 3.0', \"RATED\\n  Ambience is not that ...</td>\n",
       "      <td>[]</td>\n",
       "      <td>Buffet</td>\n",
       "      <td>Banashankari</td>\n",
       "    </tr>\n",
       "    <tr>\n",
       "      <th>3</th>\n",
       "      <td>https://www.zomato.com/bangalore/addhuri-udupi...</td>\n",
       "      <td>1st Floor, Annakuteera, 3rd Stage, Banashankar...</td>\n",
       "      <td>Addhuri Udupi Bhojana</td>\n",
       "      <td>No</td>\n",
       "      <td>No</td>\n",
       "      <td>3.7/5</td>\n",
       "      <td>88</td>\n",
       "      <td>+91 9620009302</td>\n",
       "      <td>Banashankari</td>\n",
       "      <td>Quick Bites</td>\n",
       "      <td>Masala Dosa</td>\n",
       "      <td>South Indian, North Indian</td>\n",
       "      <td>300</td>\n",
       "      <td>[('Rated 4.0', \"RATED\\n  Great food and proper...</td>\n",
       "      <td>[]</td>\n",
       "      <td>Buffet</td>\n",
       "      <td>Banashankari</td>\n",
       "    </tr>\n",
       "    <tr>\n",
       "      <th>4</th>\n",
       "      <td>https://www.zomato.com/bangalore/grand-village...</td>\n",
       "      <td>10, 3rd Floor, Lakshmi Associates, Gandhi Baza...</td>\n",
       "      <td>Grand Village</td>\n",
       "      <td>No</td>\n",
       "      <td>No</td>\n",
       "      <td>3.8/5</td>\n",
       "      <td>166</td>\n",
       "      <td>+91 8026612447\\r\\n+91 9901210005</td>\n",
       "      <td>Basavanagudi</td>\n",
       "      <td>Casual Dining</td>\n",
       "      <td>Panipuri, Gol Gappe</td>\n",
       "      <td>North Indian, Rajasthani</td>\n",
       "      <td>600</td>\n",
       "      <td>[('Rated 4.0', 'RATED\\n  Very good restaurant ...</td>\n",
       "      <td>[]</td>\n",
       "      <td>Buffet</td>\n",
       "      <td>Banashankari</td>\n",
       "    </tr>\n",
       "  </tbody>\n",
       "</table>\n",
       "</div>"
      ],
      "text/plain": [
       "                                                 url  \\\n",
       "0  https://www.zomato.com/bangalore/jalsa-banasha...   \n",
       "1  https://www.zomato.com/bangalore/spice-elephan...   \n",
       "2  https://www.zomato.com/SanchurroBangalore?cont...   \n",
       "3  https://www.zomato.com/bangalore/addhuri-udupi...   \n",
       "4  https://www.zomato.com/bangalore/grand-village...   \n",
       "\n",
       "                                             address                   name  \\\n",
       "0  942, 21st Main Road, 2nd Stage, Banashankari, ...                  Jalsa   \n",
       "1  2nd Floor, 80 Feet Road, Near Big Bazaar, 6th ...         Spice Elephant   \n",
       "2  1112, Next to KIMS Medical College, 17th Cross...        San Churro Cafe   \n",
       "3  1st Floor, Annakuteera, 3rd Stage, Banashankar...  Addhuri Udupi Bhojana   \n",
       "4  10, 3rd Floor, Lakshmi Associates, Gandhi Baza...          Grand Village   \n",
       "\n",
       "  online_order book_table   rate  votes                             phone  \\\n",
       "0          Yes        Yes  4.1/5    775    080 42297555\\r\\n+91 9743772233   \n",
       "1          Yes         No  4.1/5    787                      080 41714161   \n",
       "2          Yes         No  3.8/5    918                    +91 9663487993   \n",
       "3           No         No  3.7/5     88                    +91 9620009302   \n",
       "4           No         No  3.8/5    166  +91 8026612447\\r\\n+91 9901210005   \n",
       "\n",
       "       location            rest_type  \\\n",
       "0  Banashankari        Casual Dining   \n",
       "1  Banashankari        Casual Dining   \n",
       "2  Banashankari  Cafe, Casual Dining   \n",
       "3  Banashankari          Quick Bites   \n",
       "4  Basavanagudi        Casual Dining   \n",
       "\n",
       "                                          dish_liked  \\\n",
       "0  Pasta, Lunch Buffet, Masala Papad, Paneer Laja...   \n",
       "1  Momos, Lunch Buffet, Chocolate Nirvana, Thai G...   \n",
       "2  Churros, Cannelloni, Minestrone Soup, Hot Choc...   \n",
       "3                                        Masala Dosa   \n",
       "4                                Panipuri, Gol Gappe   \n",
       "\n",
       "                         cuisines approx_cost(for two people)  \\\n",
       "0  North Indian, Mughlai, Chinese                         800   \n",
       "1     Chinese, North Indian, Thai                         800   \n",
       "2          Cafe, Mexican, Italian                         800   \n",
       "3      South Indian, North Indian                         300   \n",
       "4        North Indian, Rajasthani                         600   \n",
       "\n",
       "                                        reviews_list menu_item  \\\n",
       "0  [('Rated 4.0', 'RATED\\n  A beautiful place to ...        []   \n",
       "1  [('Rated 4.0', 'RATED\\n  Had been here for din...        []   \n",
       "2  [('Rated 3.0', \"RATED\\n  Ambience is not that ...        []   \n",
       "3  [('Rated 4.0', \"RATED\\n  Great food and proper...        []   \n",
       "4  [('Rated 4.0', 'RATED\\n  Very good restaurant ...        []   \n",
       "\n",
       "  listed_in(type) listed_in(city)  \n",
       "0          Buffet    Banashankari  \n",
       "1          Buffet    Banashankari  \n",
       "2          Buffet    Banashankari  \n",
       "3          Buffet    Banashankari  \n",
       "4          Buffet    Banashankari  "
      ]
     },
     "execution_count": 181,
     "metadata": {},
     "output_type": "execute_result"
    }
   ],
   "source": [
    "#Reading the dataset\n",
    "zomato = pd.read_csv('zomato.csv')\n",
    "#Taking look at the dataset\n",
    "zomato.head() "
   ]
  },
  {
   "cell_type": "code",
   "execution_count": 182,
   "metadata": {},
   "outputs": [
    {
     "data": {
      "text/plain": [
       "(51717, 17)"
      ]
     },
     "execution_count": 182,
     "metadata": {},
     "output_type": "execute_result"
    }
   ],
   "source": [
    "#shape of the dataset\n",
    "zomato.shape\n"
   ]
  },
  {
   "cell_type": "code",
   "execution_count": 183,
   "metadata": {},
   "outputs": [
    {
     "data": {
      "text/plain": [
       "url                                0\n",
       "address                            0\n",
       "name                               0\n",
       "online_order                       0\n",
       "book_table                         0\n",
       "rate                            7775\n",
       "votes                              0\n",
       "phone                           1208\n",
       "location                          21\n",
       "rest_type                        227\n",
       "dish_liked                     28078\n",
       "cuisines                          45\n",
       "approx_cost(for two people)      346\n",
       "reviews_list                       0\n",
       "menu_item                          0\n",
       "listed_in(type)                    0\n",
       "listed_in(city)                    0\n",
       "dtype: int64"
      ]
     },
     "execution_count": 183,
     "metadata": {},
     "output_type": "execute_result"
    }
   ],
   "source": [
    "#Summing Null values for the dataset \n",
    "zomato.isnull().sum() \n"
   ]
  },
  {
   "cell_type": "code",
   "execution_count": 184,
   "metadata": {},
   "outputs": [],
   "source": [
    "#dropping the null values in the dataset\n",
    "zomato.dropna(inplace=True)\n"
   ]
  },
  {
   "cell_type": "code",
   "execution_count": 185,
   "metadata": {},
   "outputs": [
    {
     "data": {
      "text/plain": [
       "url                            0\n",
       "address                        0\n",
       "name                           0\n",
       "online_order                   0\n",
       "book_table                     0\n",
       "rate                           0\n",
       "votes                          0\n",
       "phone                          0\n",
       "location                       0\n",
       "rest_type                      0\n",
       "dish_liked                     0\n",
       "cuisines                       0\n",
       "approx_cost(for two people)    0\n",
       "reviews_list                   0\n",
       "menu_item                      0\n",
       "listed_in(type)                0\n",
       "listed_in(city)                0\n",
       "dtype: int64"
      ]
     },
     "execution_count": 185,
     "metadata": {},
     "output_type": "execute_result"
    }
   ],
   "source": [
    "#again checking if some columns have null values\n",
    "zomato.isnull().sum() \n"
   ]
  },
  {
   "cell_type": "code",
   "execution_count": 186,
   "metadata": {},
   "outputs": [
    {
     "data": {
      "text/plain": [
       "(23193, 17)"
      ]
     },
     "execution_count": 186,
     "metadata": {},
     "output_type": "execute_result"
    }
   ],
   "source": [
    "#final shape of the dataset\n",
    "zomato.shape\n"
   ]
  },
  {
   "cell_type": "code",
   "execution_count": 187,
   "metadata": {},
   "outputs": [
    {
     "data": {
      "text/plain": [
       "BTM                      1423\n",
       "Koramangala 7th Block    1367\n",
       "Koramangala 4th Block    1342\n",
       "Koramangala 5th Block    1305\n",
       "Koramangala 6th Block    1247\n",
       "Jayanagar                1048\n",
       "Indiranagar              1021\n",
       "MG Road                  1015\n",
       "Church Street             979\n",
       "Brigade Road              965\n",
       "Lavelle Road              897\n",
       "Residency Road            843\n",
       "JP Nagar                  821\n",
       "Old Airport Road          748\n",
       "HSR                       737\n",
       "Whitefield                630\n",
       "Marathahalli              621\n",
       "Basavanagudi              597\n",
       "Brookefield               595\n",
       "Bannerghatta Road         547\n",
       "Frazer Town               545\n",
       "Kammanahalli              532\n",
       "Kalyan Nagar              519\n",
       "Bellandur                 502\n",
       "Sarjapur Road             501\n",
       "Malleshwaram              492\n",
       "Rajajinagar               374\n",
       "Banashankari              372\n",
       "Electronic City           326\n",
       "New BEL Road              282\n",
       "Name: listed_in(city), dtype: int64"
      ]
     },
     "execution_count": 187,
     "metadata": {},
     "output_type": "execute_result"
    }
   ],
   "source": [
    "zomato['listed_in(city)'].value_counts()"
   ]
  },
  {
   "cell_type": "markdown",
   "metadata": {},
   "source": [
    "# EDA"
   ]
  },
  {
   "cell_type": "code",
   "execution_count": 188,
   "metadata": {},
   "outputs": [
    {
     "data": {
      "text/plain": [
       "Text(0.5, 1.0, 'Restaurants delivering online or Not')"
      ]
     },
     "execution_count": 188,
     "metadata": {},
     "output_type": "execute_result"
    },
    {
     "data": {
      "image/png": "[encoded data removed]",
      "text/plain": [
       "<Figure size 288x288 with 1 Axes>"
      ]
     },
     "metadata": {
      "needs_background": "light"
     },
     "output_type": "display_data"
    }
   ],
   "source": [
    "#Resturants delivering online\n",
    "sns.countplot(x=zomato['online_order'])\n",
    "fig = plt.gcf()\n",
    "fig.set_size_inches(4,4)\n",
    "plt.title('Restaurants delivering online or Not')"
   ]
  },
  {
   "cell_type": "markdown",
   "metadata": {},
   "source": [
    "Observation: The graph shows resturants which deliver food online or not. Thus there are more restaurants which order online rather than which do not."
   ]
  },
  {
   "cell_type": "code",
   "execution_count": 189,
   "metadata": {},
   "outputs": [
    {
     "data": {
      "text/plain": [
       "Text(0.5, 1.0, 'Type of Restaurants delivering online or Not')"
      ]
     },
     "execution_count": 189,
     "metadata": {},
     "output_type": "execute_result"
    },
    {
     "data": {
      "image/png": "[encoded data removed]",
      "text/plain": [
       "<Figure size 288x288 with 1 Axes>"
      ]
     },
     "metadata": {
      "needs_background": "light"
     },
     "output_type": "display_data"
    }
   ],
   "source": [
    "#Type of resturants delivering or not\n",
    "sns.countplot(x=zomato['online_order'], hue = zomato['listed_in(type)'])\n",
    "fig = plt.gcf()\n",
    "fig.set_size_inches(4,4)\n",
    "plt.title('Type of Restaurants delivering online or Not')"
   ]
  },
  {
   "cell_type": "markdown",
   "metadata": {},
   "source": [
    "Observation: The graph shows the comparision of types of service the resturants give and they deliver food online and which do not. "
   ]
  },
  {
   "cell_type": "code",
   "execution_count": 190,
   "metadata": {},
   "outputs": [
    {
     "data": {
      "text/plain": [
       "Text(0.5, 1.0, 'Restaurants providing Table booking facility:')"
      ]
     },
     "execution_count": 190,
     "metadata": {},
     "output_type": "execute_result"
    },
    {
     "data": {
      "image/png": "[encoded data removed]",
      "text/plain": [
       "<Figure size 288x288 with 1 Axes>"
      ]
     },
     "metadata": {
      "needs_background": "light"
     },
     "output_type": "display_data"
    }
   ],
   "source": [
    "#Restaurants providing Table booking facility\n",
    "sns.countplot(x=zomato['book_table'])\n",
    "fig = plt.gcf()\n",
    "fig.set_size_inches(4,4)\n",
    "plt.title('Restaurants providing Table booking facility:')"
   ]
  },
  {
   "cell_type": "markdown",
   "metadata": {},
   "source": [
    "Observation: The graph shows the resturants which have the facility of booking table and which not. The graph shows that there are more resturants which do not book table rather than which book."
   ]
  },
  {
   "cell_type": "code",
   "execution_count": 191,
   "metadata": {},
   "outputs": [
    {
     "data": {
      "text/plain": [
       "Text(0.5, 1.0, 'Type Of Restaurants providing Table booking facility:')"
      ]
     },
     "execution_count": 191,
     "metadata": {},
     "output_type": "execute_result"
    },
    {
     "data": {
      "image/png": "[encoded data removed]",
      "text/plain": [
       "<Figure size 288x288 with 1 Axes>"
      ]
     },
     "metadata": {
      "needs_background": "light"
     },
     "output_type": "display_data"
    }
   ],
   "source": [
    "sns.countplot(x=zomato['book_table'],hue = zomato['listed_in(type)'])\n",
    "fig = plt.gcf()\n",
    "fig.set_size_inches(4,4)\n",
    "plt.title('Type Of Restaurants providing Table booking facility:')"
   ]
  },
  {
   "cell_type": "markdown",
   "metadata": {},
   "source": [
    "Observation: The graph shows the comparision of types of service the resturants give and they book table online and which do not. "
   ]
  },
  {
   "cell_type": "code",
   "execution_count": 192,
   "metadata": {},
   "outputs": [],
   "source": [
    "#Removing '/5' from the rate attribute\n",
    "zomato['rate_trans']=zomato['rate'].apply(lambda x: x.replace('/5','')) "
   ]
  },
  {
   "cell_type": "code",
   "execution_count": 193,
   "metadata": {},
   "outputs": [],
   "source": [
    "#Removing NEW value from rate attribute\n",
    "zomato = zomato[zomato.rate_trans != 'NEW']"
   ]
  },
  {
   "cell_type": "code",
   "execution_count": 194,
   "metadata": {},
   "outputs": [],
   "source": [
    "# Changing data type rate from string(object) to float\n",
    "zomato['rate_trans'] = zomato['rate_trans'].astype(float)"
   ]
  },
  {
   "cell_type": "code",
   "execution_count": 195,
   "metadata": {},
   "outputs": [
    {
     "data": {
      "image/png": "[encoded data removed]",
      "text/plain": [
       "<Figure size 504x360 with 1 Axes>"
      ]
     },
     "metadata": {},
     "output_type": "display_data"
    }
   ],
   "source": [
    "sns.set(style='white', palette='muted', color_codes=True)\n",
    "fig, ax = plt.subplots(figsize=(7, 5))\n",
    "sns.despine(left=True)\n",
    "sns.distplot(zomato['rate_trans'], bins=30, color='navy')\n",
    "ax.set_title(\"Restaurant's Rate Distribution\", size=14)\n",
    "ax.set_xlabel('Restaurant Rate')\n",
    "plt.setp(ax, yticks=[])\n",
    "plt.show()"
   ]
  },
  {
   "cell_type": "markdown",
   "metadata": {},
   "source": [
    "Observation: The histogram shows the distribution of resturants rate. The average rate of the resturants is almost 4 out of 5"
   ]
  },
  {
   "cell_type": "code",
   "execution_count": 196,
   "metadata": {},
   "outputs": [
    {
     "data": {
      "image/png": "[encoded data removed]",
      "text/plain": [
       "<Figure size 720x504 with 1 Axes>"
      ]
     },
     "metadata": {},
     "output_type": "display_data"
    }
   ],
   "source": [
    "#plot the count of rating.\n",
    "plt.rcParams['figure.figsize'] = 10,7\n",
    "sns.countplot(zomato[\"rate_trans\"], palette=\"Set3\")\n",
    "plt.title(\"Count plot of rate variable\")\n",
    "plt.show()"
   ]
  },
  {
   "cell_type": "markdown",
   "metadata": {},
   "source": [
    "Observation: The graph shows the bar chart for all the resturant rate distribution"
   ]
  },
  {
   "cell_type": "code",
   "execution_count": 197,
   "metadata": {},
   "outputs": [
    {
     "data": {
      "image/png": "[encoded data removed]",
      "text/plain": [
       "<Figure size 1080x360 with 1 Axes>"
      ]
     },
     "metadata": {},
     "output_type": "display_data"
    }
   ],
   "source": [
    "#Table booking Rate vs Rate\n",
    "plt.rcParams['figure.figsize'] = (15, 5)\n",
    "Y = pd.crosstab(zomato['rate'], zomato['book_table'])\n",
    "Y.div(Y.sum(1).astype(float), axis = 0).plot(kind = 'bar', stacked = True,color=['pink','blue'])\n",
    "plt.title('Table booking vs rate', fontweight = 30, fontsize = 20)\n",
    "plt.legend(loc=\"upper right\")\n",
    "plt.show()"
   ]
  },
  {
   "cell_type": "markdown",
   "metadata": {},
   "source": [
    "Observation: The graph shows the table booking with rate. The resturants which have high rating they have high number of table bookings."
   ]
  },
  {
   "cell_type": "code",
   "execution_count": 198,
   "metadata": {},
   "outputs": [
    {
     "data": {
      "text/plain": [
       "Text(0.5, 1.0, 'Location')"
      ]
     },
     "execution_count": 198,
     "metadata": {},
     "output_type": "execute_result"
    },
    {
     "data": {
      "image/png": "[encoded data removed]",
      "text/plain": [
       "<Figure size 1008x432 with 1 Axes>"
      ]
     },
     "metadata": {},
     "output_type": "display_data"
    }
   ],
   "source": [
    "# Location\n",
    "sns.countplot(zomato['location'])\n",
    "sns.countplot(zomato['location']).set_xticklabels(sns.countplot(zomato['location']).get_xticklabels(), rotation=90, ha=\"right\")\n",
    "fig = plt.gcf()\n",
    "fig.set_size_inches(14,6)\n",
    "plt.title('Location')\n"
   ]
  },
  {
   "cell_type": "markdown",
   "metadata": {},
   "source": [
    "Observation: The graph shows the number of resturants in a particular location. The most number of resturants are located in Kormangala."
   ]
  },
  {
   "cell_type": "code",
   "execution_count": 199,
   "metadata": {},
   "outputs": [
    {
     "data": {
      "text/plain": [
       "Text(0.5, 1.0, 'Type of Service')"
      ]
     },
     "execution_count": 199,
     "metadata": {},
     "output_type": "execute_result"
    },
    {
     "data": {
      "image/png": "[encoded data removed]",
      "text/plain": [
       "<Figure size 288x288 with 1 Axes>"
      ]
     },
     "metadata": {},
     "output_type": "display_data"
    }
   ],
   "source": [
    "#Types of Services\n",
    "sns.countplot(zomato['listed_in(type)'])\n",
    "sns.countplot(zomato['listed_in(type)']).set_xticklabels(sns.countplot(zomato['listed_in(type)']).get_xticklabels(), rotation=90, ha=\"right\")\n",
    "fig = plt.gcf()\n",
    "fig.set_size_inches(4,4)\n",
    "plt.title('Type of Service')"
   ]
  },
  {
   "cell_type": "markdown",
   "metadata": {},
   "source": [
    "Observation: The graph shows the type of service given by resturants. "
   ]
  },
  {
   "cell_type": "code",
   "execution_count": 200,
   "metadata": {},
   "outputs": [
    {
     "data": {
      "text/plain": [
       "Text(0.5, 1.0, 'Cost of Restuarant')"
      ]
     },
     "execution_count": 200,
     "metadata": {},
     "output_type": "execute_result"
    },
    {
     "data": {
      "image/png": "[encoded data removed]",
      "text/plain": [
       "<Figure size 864x288 with 1 Axes>"
      ]
     },
     "metadata": {},
     "output_type": "display_data"
    }
   ],
   "source": [
    "#Cost of Restuarant\n",
    "sns.countplot(zomato['listed_in(city)'])\n",
    "sns.countplot(zomato['listed_in(city)']).set_xticklabels(sns.countplot(zomato['listed_in(city)']).get_xticklabels(), rotation=90, ha=\"right\")\n",
    "fig = plt.gcf()\n",
    "fig.set_size_inches(12,4)\n",
    "plt.title('Cost of Restuarant')"
   ]
  },
  {
   "cell_type": "markdown",
   "metadata": {},
   "source": [
    "Observation: Cost of dining out in different location. BTM area has the most costly resturants"
   ]
  },
  {
   "cell_type": "code",
   "execution_count": 201,
   "metadata": {},
   "outputs": [
    {
     "data": {
      "text/plain": [
       "Text(0.5, 1.0, 'Cost of Restuarant')"
      ]
     },
     "execution_count": 201,
     "metadata": {},
     "output_type": "execute_result"
    },
    {
     "data": {
      "image/png": "[encoded data removed]",
      "text/plain": [
       "<Figure size 1080x360 with 1 Axes>"
      ]
     },
     "metadata": {},
     "output_type": "display_data"
    }
   ],
   "source": [
    "#Cost of Restuarant\n",
    "sns.countplot(zomato['approx_cost(for two people)'])\n",
    "sns.countplot(zomato['approx_cost(for two people)']).set_xticklabels(sns.countplot(zomato['approx_cost(for two people)']).get_xticklabels(), rotation=90, ha=\"right\")\n",
    "fig = plt.gcf()\n",
    "fig.set_size_inches(15,5)\n",
    "plt.title('Cost of Restuarant')"
   ]
  },
  {
   "cell_type": "markdown",
   "metadata": {},
   "source": [
    "Observation: The avaergae cost of eating out for two people is Rs 750."
   ]
  },
  {
   "cell_type": "markdown",
   "metadata": {},
   "source": [
    "# Modelling of Data"
   ]
  },
  {
   "cell_type": "code",
   "execution_count": 202,
   "metadata": {},
   "outputs": [
    {
     "data": {
      "text/html": [
       "<div>\n",
       "<style scoped>\n",
       "    .dataframe tbody tr th:only-of-type {\n",
       "        vertical-align: middle;\n",
       "    }\n",
       "\n",
       "    .dataframe tbody tr th {\n",
       "        vertical-align: top;\n",
       "    }\n",
       "\n",
       "    .dataframe thead th {\n",
       "        text-align: right;\n",
       "    }\n",
       "</style>\n",
       "<table border=\"1\" class=\"dataframe\">\n",
       "  <thead>\n",
       "    <tr style=\"text-align: right;\">\n",
       "      <th></th>\n",
       "      <th>url</th>\n",
       "      <th>address</th>\n",
       "      <th>name</th>\n",
       "      <th>online_order</th>\n",
       "      <th>book_table</th>\n",
       "      <th>rate</th>\n",
       "      <th>votes</th>\n",
       "      <th>phone</th>\n",
       "      <th>location</th>\n",
       "      <th>rest_type</th>\n",
       "      <th>dish_liked</th>\n",
       "      <th>cuisines</th>\n",
       "      <th>approx_cost(for two people)</th>\n",
       "      <th>reviews_list</th>\n",
       "      <th>menu_item</th>\n",
       "      <th>listed_in(type)</th>\n",
       "      <th>listed_in(city)</th>\n",
       "      <th>rate_trans</th>\n",
       "    </tr>\n",
       "  </thead>\n",
       "  <tbody>\n",
       "    <tr>\n",
       "      <th>0</th>\n",
       "      <td>https://www.zomato.com/bangalore/jalsa-banasha...</td>\n",
       "      <td>942, 21st Main Road, 2nd Stage, Banashankari, ...</td>\n",
       "      <td>Jalsa</td>\n",
       "      <td>Yes</td>\n",
       "      <td>Yes</td>\n",
       "      <td>4.1/5</td>\n",
       "      <td>775</td>\n",
       "      <td>080 42297555\\r\\n+91 9743772233</td>\n",
       "      <td>Banashankari</td>\n",
       "      <td>Casual Dining</td>\n",
       "      <td>Pasta, Lunch Buffet, Masala Papad, Paneer Laja...</td>\n",
       "      <td>North Indian, Mughlai, Chinese</td>\n",
       "      <td>800</td>\n",
       "      <td>[('Rated 4.0', 'RATED\\n  A beautiful place to ...</td>\n",
       "      <td>[]</td>\n",
       "      <td>Buffet</td>\n",
       "      <td>Banashankari</td>\n",
       "      <td>4.1</td>\n",
       "    </tr>\n",
       "    <tr>\n",
       "      <th>1</th>\n",
       "      <td>https://www.zomato.com/bangalore/spice-elephan...</td>\n",
       "      <td>2nd Floor, 80 Feet Road, Near Big Bazaar, 6th ...</td>\n",
       "      <td>Spice Elephant</td>\n",
       "      <td>Yes</td>\n",
       "      <td>No</td>\n",
       "      <td>4.1/5</td>\n",
       "      <td>787</td>\n",
       "      <td>080 41714161</td>\n",
       "      <td>Banashankari</td>\n",
       "      <td>Casual Dining</td>\n",
       "      <td>Momos, Lunch Buffet, Chocolate Nirvana, Thai G...</td>\n",
       "      <td>Chinese, North Indian, Thai</td>\n",
       "      <td>800</td>\n",
       "      <td>[('Rated 4.0', 'RATED\\n  Had been here for din...</td>\n",
       "      <td>[]</td>\n",
       "      <td>Buffet</td>\n",
       "      <td>Banashankari</td>\n",
       "      <td>4.1</td>\n",
       "    </tr>\n",
       "    <tr>\n",
       "      <th>2</th>\n",
       "      <td>https://www.zomato.com/SanchurroBangalore?cont...</td>\n",
       "      <td>1112, Next to KIMS Medical College, 17th Cross...</td>\n",
       "      <td>San Churro Cafe</td>\n",
       "      <td>Yes</td>\n",
       "      <td>No</td>\n",
       "      <td>3.8/5</td>\n",
       "      <td>918</td>\n",
       "      <td>+91 9663487993</td>\n",
       "      <td>Banashankari</td>\n",
       "      <td>Cafe, Casual Dining</td>\n",
       "      <td>Churros, Cannelloni, Minestrone Soup, Hot Choc...</td>\n",
       "      <td>Cafe, Mexican, Italian</td>\n",
       "      <td>800</td>\n",
       "      <td>[('Rated 3.0', \"RATED\\n  Ambience is not that ...</td>\n",
       "      <td>[]</td>\n",
       "      <td>Buffet</td>\n",
       "      <td>Banashankari</td>\n",
       "      <td>3.8</td>\n",
       "    </tr>\n",
       "    <tr>\n",
       "      <th>3</th>\n",
       "      <td>https://www.zomato.com/bangalore/addhuri-udupi...</td>\n",
       "      <td>1st Floor, Annakuteera, 3rd Stage, Banashankar...</td>\n",
       "      <td>Addhuri Udupi Bhojana</td>\n",
       "      <td>No</td>\n",
       "      <td>No</td>\n",
       "      <td>3.7/5</td>\n",
       "      <td>88</td>\n",
       "      <td>+91 9620009302</td>\n",
       "      <td>Banashankari</td>\n",
       "      <td>Quick Bites</td>\n",
       "      <td>Masala Dosa</td>\n",
       "      <td>South Indian, North Indian</td>\n",
       "      <td>300</td>\n",
       "      <td>[('Rated 4.0', \"RATED\\n  Great food and proper...</td>\n",
       "      <td>[]</td>\n",
       "      <td>Buffet</td>\n",
       "      <td>Banashankari</td>\n",
       "      <td>3.7</td>\n",
       "    </tr>\n",
       "    <tr>\n",
       "      <th>4</th>\n",
       "      <td>https://www.zomato.com/bangalore/grand-village...</td>\n",
       "      <td>10, 3rd Floor, Lakshmi Associates, Gandhi Baza...</td>\n",
       "      <td>Grand Village</td>\n",
       "      <td>No</td>\n",
       "      <td>No</td>\n",
       "      <td>3.8/5</td>\n",
       "      <td>166</td>\n",
       "      <td>+91 8026612447\\r\\n+91 9901210005</td>\n",
       "      <td>Basavanagudi</td>\n",
       "      <td>Casual Dining</td>\n",
       "      <td>Panipuri, Gol Gappe</td>\n",
       "      <td>North Indian, Rajasthani</td>\n",
       "      <td>600</td>\n",
       "      <td>[('Rated 4.0', 'RATED\\n  Very good restaurant ...</td>\n",
       "      <td>[]</td>\n",
       "      <td>Buffet</td>\n",
       "      <td>Banashankari</td>\n",
       "      <td>3.8</td>\n",
       "    </tr>\n",
       "  </tbody>\n",
       "</table>\n",
       "</div>"
      ],
      "text/plain": [
       "                                                 url  \\\n",
       "0  https://www.zomato.com/bangalore/jalsa-banasha...   \n",
       "1  https://www.zomato.com/bangalore/spice-elephan...   \n",
       "2  https://www.zomato.com/SanchurroBangalore?cont...   \n",
       "3  https://www.zomato.com/bangalore/addhuri-udupi...   \n",
       "4  https://www.zomato.com/bangalore/grand-village...   \n",
       "\n",
       "                                             address                   name  \\\n",
       "0  942, 21st Main Road, 2nd Stage, Banashankari, ...                  Jalsa   \n",
       "1  2nd Floor, 80 Feet Road, Near Big Bazaar, 6th ...         Spice Elephant   \n",
       "2  1112, Next to KIMS Medical College, 17th Cross...        San Churro Cafe   \n",
       "3  1st Floor, Annakuteera, 3rd Stage, Banashankar...  Addhuri Udupi Bhojana   \n",
       "4  10, 3rd Floor, Lakshmi Associates, Gandhi Baza...          Grand Village   \n",
       "\n",
       "  online_order book_table   rate  votes                             phone  \\\n",
       "0          Yes        Yes  4.1/5    775    080 42297555\\r\\n+91 9743772233   \n",
       "1          Yes         No  4.1/5    787                      080 41714161   \n",
       "2          Yes         No  3.8/5    918                    +91 9663487993   \n",
       "3           No         No  3.7/5     88                    +91 9620009302   \n",
       "4           No         No  3.8/5    166  +91 8026612447\\r\\n+91 9901210005   \n",
       "\n",
       "       location            rest_type  \\\n",
       "0  Banashankari        Casual Dining   \n",
       "1  Banashankari        Casual Dining   \n",
       "2  Banashankari  Cafe, Casual Dining   \n",
       "3  Banashankari          Quick Bites   \n",
       "4  Basavanagudi        Casual Dining   \n",
       "\n",
       "                                          dish_liked  \\\n",
       "0  Pasta, Lunch Buffet, Masala Papad, Paneer Laja...   \n",
       "1  Momos, Lunch Buffet, Chocolate Nirvana, Thai G...   \n",
       "2  Churros, Cannelloni, Minestrone Soup, Hot Choc...   \n",
       "3                                        Masala Dosa   \n",
       "4                                Panipuri, Gol Gappe   \n",
       "\n",
       "                         cuisines approx_cost(for two people)  \\\n",
       "0  North Indian, Mughlai, Chinese                         800   \n",
       "1     Chinese, North Indian, Thai                         800   \n",
       "2          Cafe, Mexican, Italian                         800   \n",
       "3      South Indian, North Indian                         300   \n",
       "4        North Indian, Rajasthani                         600   \n",
       "\n",
       "                                        reviews_list menu_item  \\\n",
       "0  [('Rated 4.0', 'RATED\\n  A beautiful place to ...        []   \n",
       "1  [('Rated 4.0', 'RATED\\n  Had been here for din...        []   \n",
       "2  [('Rated 3.0', \"RATED\\n  Ambience is not that ...        []   \n",
       "3  [('Rated 4.0', \"RATED\\n  Great food and proper...        []   \n",
       "4  [('Rated 4.0', 'RATED\\n  Very good restaurant ...        []   \n",
       "\n",
       "  listed_in(type) listed_in(city)  rate_trans  \n",
       "0          Buffet    Banashankari         4.1  \n",
       "1          Buffet    Banashankari         4.1  \n",
       "2          Buffet    Banashankari         3.8  \n",
       "3          Buffet    Banashankari         3.7  \n",
       "4          Buffet    Banashankari         3.8  "
      ]
     },
     "execution_count": 202,
     "metadata": {},
     "output_type": "execute_result"
    }
   ],
   "source": [
    "zomato.head()"
   ]
  },
  {
   "cell_type": "code",
   "execution_count": 203,
   "metadata": {},
   "outputs": [],
   "source": [
    "#dropping some of the attributes\n",
    "zomato.drop(columns=['url','address','name','phone','location','rest_type','dish_liked','cuisines','menu_item',\n",
    "                     'reviews_list','rate_trans'],inplace=True) \n"
   ]
  },
  {
   "cell_type": "code",
   "execution_count": 204,
   "metadata": {},
   "outputs": [
    {
     "data": {
      "text/plain": [
       "BTM                      1404\n",
       "Koramangala 7th Block    1357\n",
       "Koramangala 4th Block    1331\n",
       "Koramangala 5th Block    1293\n",
       "Koramangala 6th Block    1237\n",
       "Jayanagar                1042\n",
       "Indiranagar              1011\n",
       "MG Road                  1007\n",
       "Name: listed_in(city), dtype: int64"
      ]
     },
     "execution_count": 204,
     "metadata": {},
     "output_type": "execute_result"
    }
   ],
   "source": [
    "#Removing some places or location which have less than 1000 resturants from listed_in(city) attribute\n",
    "zomato = zomato[zomato['listed_in(city)'] != 'Church Street']\n",
    "zomato = zomato[zomato['listed_in(city)'] != 'Brigade Road']\n",
    "zomato = zomato[zomato['listed_in(city)'] != 'Lavelle Road']\n",
    "zomato = zomato[zomato['listed_in(city)'] != 'Residency Road']\n",
    "zomato = zomato[zomato['listed_in(city)'] != 'JP Nagar']\n",
    "zomato = zomato[zomato['listed_in(city)'] != 'Old Airport Road']\n",
    "zomato = zomato[zomato['listed_in(city)'] != 'HSR']\n",
    "zomato = zomato[zomato['listed_in(city)'] != 'Whitefield']\n",
    "zomato = zomato[zomato['listed_in(city)'] != 'Marathahalli']\n",
    "zomato = zomato[zomato['listed_in(city)'] != 'Basavanagudi']\n",
    "zomato = zomato[zomato['listed_in(city)'] != 'Brookefield']\n",
    "zomato = zomato[zomato['listed_in(city)'] != 'Bannerghatta Road']\n",
    "zomato = zomato[zomato['listed_in(city)'] != 'Frazer Town']\n",
    "zomato = zomato[zomato['listed_in(city)'] != 'Kammanahalli']\n",
    "zomato = zomato[zomato['listed_in(city)'] != 'Kalyan Nagar']\n",
    "zomato = zomato[zomato['listed_in(city)'] != 'Bellandur'] \n",
    "zomato = zomato[zomato['listed_in(city)'] != 'Brookefield']\n",
    "zomato = zomato[zomato['listed_in(city)'] != 'Sarjapur Road']\n",
    "zomato = zomato[zomato['listed_in(city)'] != 'Malleshwaram']\n",
    "zomato = zomato[zomato['listed_in(city)'] != 'Rajajinagar']\n",
    "zomato = zomato[zomato['listed_in(city)'] != 'Banashankari']\n",
    "zomato = zomato[zomato['listed_in(city)'] != 'Electronic City'] \n",
    "zomato = zomato[zomato['listed_in(city)'] != 'New BEL Road']\n",
    "\n",
    "zomato['listed_in(city)'].value_counts()"
   ]
  },
  {
   "cell_type": "code",
   "execution_count": 205,
   "metadata": {},
   "outputs": [
    {
     "data": {
      "text/plain": [
       "online_order                   object\n",
       "book_table                     object\n",
       "rate                           object\n",
       "votes                           int64\n",
       "approx_cost(for two people)    object\n",
       "listed_in(type)                object\n",
       "listed_in(city)                object\n",
       "dtype: object"
      ]
     },
     "execution_count": 205,
     "metadata": {},
     "output_type": "execute_result"
    }
   ],
   "source": [
    "zomato.dtypes"
   ]
  },
  {
   "cell_type": "code",
   "execution_count": 206,
   "metadata": {},
   "outputs": [],
   "source": [
    "#Changing listed_in(type) into dummy variables\n",
    "zomato = pd.concat([zomato.drop('listed_in(type)', axis=1), pd.get_dummies(zomato['listed_in(type)'],prefix='listed_in(type)_')], \n",
    "                     axis=1)\n",
    "\n",
    "zomato = pd.concat([zomato.drop('listed_in(city)', axis=1), pd.get_dummies(zomato['listed_in(city)'],\n",
    "                                                                                  prefix='listed_in(city)_')], \n",
    "                    axis=1) "
   ]
  },
  {
   "cell_type": "code",
   "execution_count": 207,
   "metadata": {},
   "outputs": [
    {
     "data": {
      "text/html": [
       "<div>\n",
       "<style scoped>\n",
       "    .dataframe tbody tr th:only-of-type {\n",
       "        vertical-align: middle;\n",
       "    }\n",
       "\n",
       "    .dataframe tbody tr th {\n",
       "        vertical-align: top;\n",
       "    }\n",
       "\n",
       "    .dataframe thead th {\n",
       "        text-align: right;\n",
       "    }\n",
       "</style>\n",
       "<table border=\"1\" class=\"dataframe\">\n",
       "  <thead>\n",
       "    <tr style=\"text-align: right;\">\n",
       "      <th></th>\n",
       "      <th>online_order</th>\n",
       "      <th>book_table</th>\n",
       "      <th>rate</th>\n",
       "      <th>votes</th>\n",
       "      <th>approx_cost(for two people)</th>\n",
       "      <th>listed_in(type)__Buffet</th>\n",
       "      <th>listed_in(type)__Cafes</th>\n",
       "      <th>listed_in(type)__Delivery</th>\n",
       "      <th>listed_in(type)__Desserts</th>\n",
       "      <th>listed_in(type)__Dine-out</th>\n",
       "      <th>listed_in(type)__Drinks &amp; nightlife</th>\n",
       "      <th>listed_in(type)__Pubs and bars</th>\n",
       "      <th>listed_in(city)__BTM</th>\n",
       "      <th>listed_in(city)__Indiranagar</th>\n",
       "      <th>listed_in(city)__Jayanagar</th>\n",
       "      <th>listed_in(city)__Koramangala 4th Block</th>\n",
       "      <th>listed_in(city)__Koramangala 5th Block</th>\n",
       "      <th>listed_in(city)__Koramangala 6th Block</th>\n",
       "      <th>listed_in(city)__Koramangala 7th Block</th>\n",
       "      <th>listed_in(city)__MG Road</th>\n",
       "    </tr>\n",
       "  </thead>\n",
       "  <tbody>\n",
       "    <tr>\n",
       "      <th>8260</th>\n",
       "      <td>No</td>\n",
       "      <td>Yes</td>\n",
       "      <td>4.9/5</td>\n",
       "      <td>6375</td>\n",
       "      <td>1,600</td>\n",
       "      <td>1</td>\n",
       "      <td>0</td>\n",
       "      <td>0</td>\n",
       "      <td>0</td>\n",
       "      <td>0</td>\n",
       "      <td>0</td>\n",
       "      <td>0</td>\n",
       "      <td>1</td>\n",
       "      <td>0</td>\n",
       "      <td>0</td>\n",
       "      <td>0</td>\n",
       "      <td>0</td>\n",
       "      <td>0</td>\n",
       "      <td>0</td>\n",
       "      <td>0</td>\n",
       "    </tr>\n",
       "    <tr>\n",
       "      <th>8261</th>\n",
       "      <td>No</td>\n",
       "      <td>Yes</td>\n",
       "      <td>4.4/5</td>\n",
       "      <td>201</td>\n",
       "      <td>1,300</td>\n",
       "      <td>1</td>\n",
       "      <td>0</td>\n",
       "      <td>0</td>\n",
       "      <td>0</td>\n",
       "      <td>0</td>\n",
       "      <td>0</td>\n",
       "      <td>0</td>\n",
       "      <td>1</td>\n",
       "      <td>0</td>\n",
       "      <td>0</td>\n",
       "      <td>0</td>\n",
       "      <td>0</td>\n",
       "      <td>0</td>\n",
       "      <td>0</td>\n",
       "      <td>0</td>\n",
       "    </tr>\n",
       "    <tr>\n",
       "      <th>8262</th>\n",
       "      <td>Yes</td>\n",
       "      <td>Yes</td>\n",
       "      <td>4.2/5</td>\n",
       "      <td>3230</td>\n",
       "      <td>1,600</td>\n",
       "      <td>1</td>\n",
       "      <td>0</td>\n",
       "      <td>0</td>\n",
       "      <td>0</td>\n",
       "      <td>0</td>\n",
       "      <td>0</td>\n",
       "      <td>0</td>\n",
       "      <td>1</td>\n",
       "      <td>0</td>\n",
       "      <td>0</td>\n",
       "      <td>0</td>\n",
       "      <td>0</td>\n",
       "      <td>0</td>\n",
       "      <td>0</td>\n",
       "      <td>0</td>\n",
       "    </tr>\n",
       "    <tr>\n",
       "      <th>8263</th>\n",
       "      <td>No</td>\n",
       "      <td>Yes</td>\n",
       "      <td>4.4/5</td>\n",
       "      <td>1149</td>\n",
       "      <td>1,100</td>\n",
       "      <td>1</td>\n",
       "      <td>0</td>\n",
       "      <td>0</td>\n",
       "      <td>0</td>\n",
       "      <td>0</td>\n",
       "      <td>0</td>\n",
       "      <td>0</td>\n",
       "      <td>1</td>\n",
       "      <td>0</td>\n",
       "      <td>0</td>\n",
       "      <td>0</td>\n",
       "      <td>0</td>\n",
       "      <td>0</td>\n",
       "      <td>0</td>\n",
       "      <td>0</td>\n",
       "    </tr>\n",
       "    <tr>\n",
       "      <th>8264</th>\n",
       "      <td>Yes</td>\n",
       "      <td>No</td>\n",
       "      <td>3.9/5</td>\n",
       "      <td>420</td>\n",
       "      <td>800</td>\n",
       "      <td>1</td>\n",
       "      <td>0</td>\n",
       "      <td>0</td>\n",
       "      <td>0</td>\n",
       "      <td>0</td>\n",
       "      <td>0</td>\n",
       "      <td>0</td>\n",
       "      <td>1</td>\n",
       "      <td>0</td>\n",
       "      <td>0</td>\n",
       "      <td>0</td>\n",
       "      <td>0</td>\n",
       "      <td>0</td>\n",
       "      <td>0</td>\n",
       "      <td>0</td>\n",
       "    </tr>\n",
       "  </tbody>\n",
       "</table>\n",
       "</div>"
      ],
      "text/plain": [
       "     online_order book_table   rate  votes approx_cost(for two people)  \\\n",
       "8260           No        Yes  4.9/5   6375                       1,600   \n",
       "8261           No        Yes  4.4/5    201                       1,300   \n",
       "8262          Yes        Yes  4.2/5   3230                       1,600   \n",
       "8263           No        Yes  4.4/5   1149                       1,100   \n",
       "8264          Yes         No  3.9/5    420                         800   \n",
       "\n",
       "      listed_in(type)__Buffet  listed_in(type)__Cafes  \\\n",
       "8260                        1                       0   \n",
       "8261                        1                       0   \n",
       "8262                        1                       0   \n",
       "8263                        1                       0   \n",
       "8264                        1                       0   \n",
       "\n",
       "      listed_in(type)__Delivery  listed_in(type)__Desserts  \\\n",
       "8260                          0                          0   \n",
       "8261                          0                          0   \n",
       "8262                          0                          0   \n",
       "8263                          0                          0   \n",
       "8264                          0                          0   \n",
       "\n",
       "      listed_in(type)__Dine-out  listed_in(type)__Drinks & nightlife  \\\n",
       "8260                          0                                    0   \n",
       "8261                          0                                    0   \n",
       "8262                          0                                    0   \n",
       "8263                          0                                    0   \n",
       "8264                          0                                    0   \n",
       "\n",
       "      listed_in(type)__Pubs and bars  listed_in(city)__BTM  \\\n",
       "8260                               0                     1   \n",
       "8261                               0                     1   \n",
       "8262                               0                     1   \n",
       "8263                               0                     1   \n",
       "8264                               0                     1   \n",
       "\n",
       "      listed_in(city)__Indiranagar  listed_in(city)__Jayanagar  \\\n",
       "8260                             0                           0   \n",
       "8261                             0                           0   \n",
       "8262                             0                           0   \n",
       "8263                             0                           0   \n",
       "8264                             0                           0   \n",
       "\n",
       "      listed_in(city)__Koramangala 4th Block  \\\n",
       "8260                                       0   \n",
       "8261                                       0   \n",
       "8262                                       0   \n",
       "8263                                       0   \n",
       "8264                                       0   \n",
       "\n",
       "      listed_in(city)__Koramangala 5th Block  \\\n",
       "8260                                       0   \n",
       "8261                                       0   \n",
       "8262                                       0   \n",
       "8263                                       0   \n",
       "8264                                       0   \n",
       "\n",
       "      listed_in(city)__Koramangala 6th Block  \\\n",
       "8260                                       0   \n",
       "8261                                       0   \n",
       "8262                                       0   \n",
       "8263                                       0   \n",
       "8264                                       0   \n",
       "\n",
       "      listed_in(city)__Koramangala 7th Block  listed_in(city)__MG Road  \n",
       "8260                                       0                         0  \n",
       "8261                                       0                         0  \n",
       "8262                                       0                         0  \n",
       "8263                                       0                         0  \n",
       "8264                                       0                         0  "
      ]
     },
     "execution_count": 207,
     "metadata": {},
     "output_type": "execute_result"
    }
   ],
   "source": [
    "zomato.head()\n"
   ]
  },
  {
   "cell_type": "code",
   "execution_count": 208,
   "metadata": {},
   "outputs": [],
   "source": [
    "#Changing online_order into 1 or 0\n",
    "zomato['online_order']=zomato['online_order'].map({'Yes': 0, 'No': 1})"
   ]
  },
  {
   "cell_type": "code",
   "execution_count": 209,
   "metadata": {},
   "outputs": [],
   "source": [
    "#Changing book_table into 1 or 0\n",
    "zomato['book_table']=zomato['book_table'].map({'Yes': 0, 'No': 1})"
   ]
  },
  {
   "cell_type": "code",
   "execution_count": 210,
   "metadata": {},
   "outputs": [],
   "source": [
    "#Replacing ',' with ''\n",
    "zomato['approx_cost(for two people)']=zomato['approx_cost(for two people)'].apply(lambda x: int(x.replace(',','')))\n"
   ]
  },
  {
   "cell_type": "code",
   "execution_count": 211,
   "metadata": {},
   "outputs": [],
   "source": [
    "#Converting obejct type into float\n",
    "zomato['approx_cost(for two people)']=zomato['approx_cost(for two people)'].astype(dtype=np.float64)"
   ]
  },
  {
   "cell_type": "code",
   "execution_count": 212,
   "metadata": {},
   "outputs": [],
   "source": [
    "#Dropping the 'NEW' values in rate attribute\n",
    "zomato = zomato[zomato.rate != 'NEW']"
   ]
  },
  {
   "cell_type": "code",
   "execution_count": 213,
   "metadata": {},
   "outputs": [],
   "source": [
    "#Removing '/5' from frate attribute\n",
    "zomato['rate']=zomato['rate'].apply(lambda x: x.replace('/5',''))"
   ]
  },
  {
   "cell_type": "markdown",
   "metadata": {},
   "source": [
    "# Regression"
   ]
  },
  {
   "cell_type": "code",
   "execution_count": 214,
   "metadata": {},
   "outputs": [],
   "source": [
    "# target variable is 'approx_cost(for two people)'\n",
    "\n",
    "Y = zomato[\"approx_cost(for two people)\"]\n",
    "X = zomato.drop('approx_cost(for two people)',axis=1)"
   ]
  },
  {
   "cell_type": "code",
   "execution_count": 215,
   "metadata": {},
   "outputs": [
    {
     "data": {
      "text/html": [
       "<div>\n",
       "<style scoped>\n",
       "    .dataframe tbody tr th:only-of-type {\n",
       "        vertical-align: middle;\n",
       "    }\n",
       "\n",
       "    .dataframe tbody tr th {\n",
       "        vertical-align: top;\n",
       "    }\n",
       "\n",
       "    .dataframe thead th {\n",
       "        text-align: right;\n",
       "    }\n",
       "</style>\n",
       "<table border=\"1\" class=\"dataframe\">\n",
       "  <thead>\n",
       "    <tr style=\"text-align: right;\">\n",
       "      <th></th>\n",
       "      <th>online_order</th>\n",
       "      <th>book_table</th>\n",
       "      <th>rate</th>\n",
       "      <th>votes</th>\n",
       "      <th>approx_cost(for two people)</th>\n",
       "      <th>listed_in(type)__Buffet</th>\n",
       "      <th>listed_in(type)__Cafes</th>\n",
       "      <th>listed_in(type)__Delivery</th>\n",
       "      <th>listed_in(type)__Desserts</th>\n",
       "      <th>listed_in(type)__Dine-out</th>\n",
       "      <th>listed_in(type)__Drinks &amp; nightlife</th>\n",
       "      <th>listed_in(type)__Pubs and bars</th>\n",
       "      <th>listed_in(city)__BTM</th>\n",
       "      <th>listed_in(city)__Indiranagar</th>\n",
       "      <th>listed_in(city)__Jayanagar</th>\n",
       "      <th>listed_in(city)__Koramangala 4th Block</th>\n",
       "      <th>listed_in(city)__Koramangala 5th Block</th>\n",
       "      <th>listed_in(city)__Koramangala 6th Block</th>\n",
       "      <th>listed_in(city)__Koramangala 7th Block</th>\n",
       "      <th>listed_in(city)__MG Road</th>\n",
       "    </tr>\n",
       "  </thead>\n",
       "  <tbody>\n",
       "    <tr>\n",
       "      <th>8260</th>\n",
       "      <td>1</td>\n",
       "      <td>0</td>\n",
       "      <td>4.9</td>\n",
       "      <td>6375</td>\n",
       "      <td>1600.0</td>\n",
       "      <td>1</td>\n",
       "      <td>0</td>\n",
       "      <td>0</td>\n",
       "      <td>0</td>\n",
       "      <td>0</td>\n",
       "      <td>0</td>\n",
       "      <td>0</td>\n",
       "      <td>1</td>\n",
       "      <td>0</td>\n",
       "      <td>0</td>\n",
       "      <td>0</td>\n",
       "      <td>0</td>\n",
       "      <td>0</td>\n",
       "      <td>0</td>\n",
       "      <td>0</td>\n",
       "    </tr>\n",
       "    <tr>\n",
       "      <th>8261</th>\n",
       "      <td>1</td>\n",
       "      <td>0</td>\n",
       "      <td>4.4</td>\n",
       "      <td>201</td>\n",
       "      <td>1300.0</td>\n",
       "      <td>1</td>\n",
       "      <td>0</td>\n",
       "      <td>0</td>\n",
       "      <td>0</td>\n",
       "      <td>0</td>\n",
       "      <td>0</td>\n",
       "      <td>0</td>\n",
       "      <td>1</td>\n",
       "      <td>0</td>\n",
       "      <td>0</td>\n",
       "      <td>0</td>\n",
       "      <td>0</td>\n",
       "      <td>0</td>\n",
       "      <td>0</td>\n",
       "      <td>0</td>\n",
       "    </tr>\n",
       "    <tr>\n",
       "      <th>8262</th>\n",
       "      <td>0</td>\n",
       "      <td>0</td>\n",
       "      <td>4.2</td>\n",
       "      <td>3230</td>\n",
       "      <td>1600.0</td>\n",
       "      <td>1</td>\n",
       "      <td>0</td>\n",
       "      <td>0</td>\n",
       "      <td>0</td>\n",
       "      <td>0</td>\n",
       "      <td>0</td>\n",
       "      <td>0</td>\n",
       "      <td>1</td>\n",
       "      <td>0</td>\n",
       "      <td>0</td>\n",
       "      <td>0</td>\n",
       "      <td>0</td>\n",
       "      <td>0</td>\n",
       "      <td>0</td>\n",
       "      <td>0</td>\n",
       "    </tr>\n",
       "    <tr>\n",
       "      <th>8263</th>\n",
       "      <td>1</td>\n",
       "      <td>0</td>\n",
       "      <td>4.4</td>\n",
       "      <td>1149</td>\n",
       "      <td>1100.0</td>\n",
       "      <td>1</td>\n",
       "      <td>0</td>\n",
       "      <td>0</td>\n",
       "      <td>0</td>\n",
       "      <td>0</td>\n",
       "      <td>0</td>\n",
       "      <td>0</td>\n",
       "      <td>1</td>\n",
       "      <td>0</td>\n",
       "      <td>0</td>\n",
       "      <td>0</td>\n",
       "      <td>0</td>\n",
       "      <td>0</td>\n",
       "      <td>0</td>\n",
       "      <td>0</td>\n",
       "    </tr>\n",
       "    <tr>\n",
       "      <th>8264</th>\n",
       "      <td>0</td>\n",
       "      <td>1</td>\n",
       "      <td>3.9</td>\n",
       "      <td>420</td>\n",
       "      <td>800.0</td>\n",
       "      <td>1</td>\n",
       "      <td>0</td>\n",
       "      <td>0</td>\n",
       "      <td>0</td>\n",
       "      <td>0</td>\n",
       "      <td>0</td>\n",
       "      <td>0</td>\n",
       "      <td>1</td>\n",
       "      <td>0</td>\n",
       "      <td>0</td>\n",
       "      <td>0</td>\n",
       "      <td>0</td>\n",
       "      <td>0</td>\n",
       "      <td>0</td>\n",
       "      <td>0</td>\n",
       "    </tr>\n",
       "  </tbody>\n",
       "</table>\n",
       "</div>"
      ],
      "text/plain": [
       "      online_order  book_table rate  votes  approx_cost(for two people)  \\\n",
       "8260             1           0  4.9   6375                       1600.0   \n",
       "8261             1           0  4.4    201                       1300.0   \n",
       "8262             0           0  4.2   3230                       1600.0   \n",
       "8263             1           0  4.4   1149                       1100.0   \n",
       "8264             0           1  3.9    420                        800.0   \n",
       "\n",
       "      listed_in(type)__Buffet  listed_in(type)__Cafes  \\\n",
       "8260                        1                       0   \n",
       "8261                        1                       0   \n",
       "8262                        1                       0   \n",
       "8263                        1                       0   \n",
       "8264                        1                       0   \n",
       "\n",
       "      listed_in(type)__Delivery  listed_in(type)__Desserts  \\\n",
       "8260                          0                          0   \n",
       "8261                          0                          0   \n",
       "8262                          0                          0   \n",
       "8263                          0                          0   \n",
       "8264                          0                          0   \n",
       "\n",
       "      listed_in(type)__Dine-out  listed_in(type)__Drinks & nightlife  \\\n",
       "8260                          0                                    0   \n",
       "8261                          0                                    0   \n",
       "8262                          0                                    0   \n",
       "8263                          0                                    0   \n",
       "8264                          0                                    0   \n",
       "\n",
       "      listed_in(type)__Pubs and bars  listed_in(city)__BTM  \\\n",
       "8260                               0                     1   \n",
       "8261                               0                     1   \n",
       "8262                               0                     1   \n",
       "8263                               0                     1   \n",
       "8264                               0                     1   \n",
       "\n",
       "      listed_in(city)__Indiranagar  listed_in(city)__Jayanagar  \\\n",
       "8260                             0                           0   \n",
       "8261                             0                           0   \n",
       "8262                             0                           0   \n",
       "8263                             0                           0   \n",
       "8264                             0                           0   \n",
       "\n",
       "      listed_in(city)__Koramangala 4th Block  \\\n",
       "8260                                       0   \n",
       "8261                                       0   \n",
       "8262                                       0   \n",
       "8263                                       0   \n",
       "8264                                       0   \n",
       "\n",
       "      listed_in(city)__Koramangala 5th Block  \\\n",
       "8260                                       0   \n",
       "8261                                       0   \n",
       "8262                                       0   \n",
       "8263                                       0   \n",
       "8264                                       0   \n",
       "\n",
       "      listed_in(city)__Koramangala 6th Block  \\\n",
       "8260                                       0   \n",
       "8261                                       0   \n",
       "8262                                       0   \n",
       "8263                                       0   \n",
       "8264                                       0   \n",
       "\n",
       "      listed_in(city)__Koramangala 7th Block  listed_in(city)__MG Road  \n",
       "8260                                       0                         0  \n",
       "8261                                       0                         0  \n",
       "8262                                       0                         0  \n",
       "8263                                       0                         0  \n",
       "8264                                       0                         0  "
      ]
     },
     "execution_count": 215,
     "metadata": {},
     "output_type": "execute_result"
    }
   ],
   "source": [
    "zomato.head()"
   ]
  },
  {
   "cell_type": "markdown",
   "metadata": {},
   "source": [
    "Splitting of the data set and we have used standard scaling. \n",
    "Standard scaling works well with Regression"
   ]
  },
  {
   "cell_type": "code",
   "execution_count": 216,
   "metadata": {},
   "outputs": [],
   "source": [
    "X_train_org, X_test_org, y_train, y_test = train_test_split(X, Y, random_state = 0, test_size = 0.2)\n",
    "\n",
    "scaler = StandardScaler()\n",
    "X_train = scaler.fit_transform(X_train_org)\n",
    "X_test = scaler.transform(X_test_org)"
   ]
  },
  {
   "cell_type": "code",
   "execution_count": 217,
   "metadata": {},
   "outputs": [
    {
     "name": "stdout",
     "output_type": "stream",
     "text": [
      "X_train shape:  (7745, 19)\n",
      "y_train shape:  (7745,)\n",
      "X_test shape:  (1937, 19)\n",
      "y_test shape (1937,)\n"
     ]
    }
   ],
   "source": [
    "#Shape of the train and test data\n",
    "\n",
    "print(\"X_train shape: \",X_train.shape)\n",
    "print(\"y_train shape: \",y_train.shape)\n",
    "print(\"X_test shape: \",X_test.shape)\n",
    "print(\"y_test shape\",y_test.shape)"
   ]
  },
  {
   "cell_type": "code",
   "execution_count": 218,
   "metadata": {},
   "outputs": [],
   "source": [
    "regmodel_perfo = pd.DataFrame(columns=['Train Score','Test Score','Average CV Score','Best Parameters'])"
   ]
  },
  {
   "cell_type": "markdown",
   "metadata": {},
   "source": [
    "# Data Modelling"
   ]
  },
  {
   "cell_type": "markdown",
   "metadata": {},
   "source": [
    "## Linear Regression"
   ]
  },
  {
   "cell_type": "code",
   "execution_count": 219,
   "metadata": {},
   "outputs": [
    {
     "name": "stdout",
     "output_type": "stream",
     "text": [
      "Train Score 0.5161265532231285\n",
      "Test Score 0.48863318084556906\n",
      "linear model coeff (w): [ 4.72620832e+01 -2.17115365e+02  4.33535820e+01  4.74573554e+01\n",
      " -1.83028525e+15 -2.35497353e+15 -5.38022161e+15 -2.60478517e+15\n",
      " -5.06143660e+15 -2.06385657e+15 -1.64205954e+15  7.23152502e+14\n",
      "  6.23925282e+14  6.32695184e+14  6.99293255e+14  6.93363631e+14\n",
      "  6.80331747e+14  7.07054696e+14  6.25966669e+14]\n",
      "\n",
      "linear model intercept (b): 724.968\n",
      "\n",
      "R-squared score (training): 0.516\n",
      "\n",
      "R-squared score (test): 0.489\n"
     ]
    }
   ],
   "source": [
    "from sklearn.linear_model import LinearRegression \n",
    "from sklearn.metrics import r2_score\n",
    "\n",
    "lreg = LinearRegression()\n",
    "lreg.fit(X_train, y_train)\n",
    "\n",
    "train_score = lreg.score(X_train, y_train)\n",
    "test_score = lreg.score(X_test, y_test)\n",
    "\n",
    "print('Train Score',train_score)\n",
    "print('Test Score',test_score) \n",
    "\n",
    "print('linear model coeff (w): {}\\n'.format(lreg.coef_))\n",
    "print('linear model intercept (b): {:.3f}\\n'.format(lreg.intercept_))\n",
    "print('R-squared score (training): {:.3f}\\n'.format(lreg.score(X_train, y_train)))\n",
    "print('R-squared score (test): {:.3f}'.format(lreg.score(X_test, y_test)))"
   ]
  },
  {
   "cell_type": "code",
   "execution_count": 220,
   "metadata": {},
   "outputs": [
    {
     "data": {
      "text/plain": [
       "Text(0.5, 1.0, 'Cost Vs. Rating')"
      ]
     },
     "execution_count": 220,
     "metadata": {},
     "output_type": "execute_result"
    },
    {
     "data": {
      "image/png": "[encoded data removed]",
      "text/plain": [
       "<Figure size 1080x360 with 1 Axes>"
      ]
     },
     "metadata": {},
     "output_type": "display_data"
    }
   ],
   "source": [
    "X_b = X_train[:,2].reshape(-1,1)\n",
    "y_b = y_train[:]\n",
    "\n",
    "regressor = LinearRegression()\n",
    "\n",
    "regressor.fit(X_b, y_b)\n",
    "X_new=np.linspace(X_b.min(), X_b.max(), 50).reshape(50, 1)\n",
    "y_predict = regressor.predict(X_new)\n",
    "\n",
    "plt.plot(X_new, y_predict, c = 'r',label='Prediction')\n",
    "plt.scatter(X_b, y_b,label='Actual Data Points')\n",
    "plt.xlabel('Rating')\n",
    "plt.ylabel('Cost')\n",
    "plt.title('Cost Vs. Rating')"
   ]
  },
  {
   "cell_type": "code",
   "execution_count": 221,
   "metadata": {},
   "outputs": [
    {
     "name": "stdout",
     "output_type": "stream",
     "text": [
      "Cross-validation scores train: [0.52092347 0.49078779 0.52981378]\n",
      "Average cross-validation score: 0.5138\n",
      "Cross-validation scores test: [0.51972653 0.4733657  0.47568826]\n",
      "Average cross-validation score: 0.4896\n"
     ]
    }
   ],
   "source": [
    "# cross validation\n",
    "from sklearn.model_selection import cross_val_score\n",
    "\n",
    "scores = cross_val_score(LinearRegression(), X_train, y_train,cv=3)\n",
    "print(\"Cross-validation scores train: {}\".format(scores))\n",
    "print(\"Average cross-validation score: {:.4f}\".format(scores.mean()))\n",
    "\n",
    "scores = cross_val_score(LinearRegression(), X_test, y_test,cv=3)\n",
    "print(\"Cross-validation scores test: {}\".format(scores))\n",
    "print(\"Average cross-validation score: {:.4f}\".format(scores.mean())) \n",
    "\n",
    "regmodel_perfo.loc['Linear Regression'] = pd.Series({'Train Score':train_score,'Test Score':test_score,'Average CV Score':scores.mean(),'Best Parameters':''})"
   ]
  },
  {
   "cell_type": "markdown",
   "metadata": {},
   "source": [
    "## Ridge Regression"
   ]
  },
  {
   "cell_type": "code",
   "execution_count": 222,
   "metadata": {},
   "outputs": [
    {
     "name": "stdout",
     "output_type": "stream",
     "text": [
      "Cross-validation scores train: [0.51532756 0.4822442  0.52821557]\n",
      "Cross-validation scores test: [0.46635874 0.42084052 0.43475039]\n"
     ]
    },
    {
     "name": "stderr",
     "output_type": "stream",
     "text": [
      "C:\\Users\\Vaibhav\\AppData\\Roaming\\Python\\Python37\\site-packages\\sklearn\\model_selection\\_split.py:1978: FutureWarning:\n",
      "\n",
      "The default value of cv will change from 3 to 5 in version 0.22. Specify it explicitly to silence this warning.\n",
      "\n",
      "C:\\Users\\Vaibhav\\AppData\\Roaming\\Python\\Python37\\site-packages\\sklearn\\model_selection\\_split.py:1978: FutureWarning:\n",
      "\n",
      "The default value of cv will change from 3 to 5 in version 0.22. Specify it explicitly to silence this warning.\n",
      "\n"
     ]
    },
    {
     "data": {
      "image/png": "[encoded data removed]",
      "text/plain": [
       "<Figure size 1080x360 with 1 Axes>"
      ]
     },
     "metadata": {},
     "output_type": "display_data"
    }
   ],
   "source": [
    "from  sklearn.linear_model import Ridge\n",
    "from sklearn.model_selection import cross_val_score\n",
    "# Ridge uses L2 Penalty\n",
    "\n",
    "# Defining values for hyperparameter alpha\n",
    "alpha = [0.001,0.01, 0.1, 1, 10, 100,1000]\n",
    "\n",
    "train_score_list = []\n",
    "test_score_list = []\n",
    "\n",
    "# Fitting models for different values of alpha\n",
    "for i in alpha: \n",
    "    ridge = Ridge(i)\n",
    "    ridge.fit(X_train,y_train)\n",
    "    train_score_list.append(ridge.score(X_train,y_train))\n",
    "    test_score_list.append(ridge.score(X_test, y_test))\n",
    "\n",
    "plt.plot(alpha, train_score_list, c = 'g', label = 'Train Score')\n",
    "plt.plot(alpha, test_score_list, c = 'b', label = 'Test Score')\n",
    "plt.xscale('log')\n",
    "plt.legend(loc = 3)\n",
    "plt.xlabel(r'$\\alpha$') \n",
    "\n",
    "scores = cross_val_score(ridge, X_train, y_train)\n",
    "print(\"Cross-validation scores train: {}\".format(scores)) \n",
    "\n",
    "scores_test = cross_val_score(ridge, X_test, y_test)\n",
    "print(\"Cross-validation scores test: {}\".format(scores_test))"
   ]
  },
  {
   "cell_type": "code",
   "execution_count": 223,
   "metadata": {},
   "outputs": [
    {
     "name": "stdout",
     "output_type": "stream",
     "text": [
      "Best parameters: {'alpha': 100}\n"
     ]
    }
   ],
   "source": [
    "#Grid search\n",
    "param_grid = {'alpha': [0.001, 0.01, 0.1, 1, 10, 100]}\n",
    "from sklearn.model_selection import GridSearchCV\n",
    "grid_search = GridSearchCV(Ridge(), param_grid, cv=5, return_train_score=True)\n",
    "\n",
    "grid_search.fit(X_train, y_train)\n",
    "print(\"Best parameters: {}\".format(grid_search.best_params_))\n"
   ]
  },
  {
   "cell_type": "code",
   "execution_count": 224,
   "metadata": {},
   "outputs": [
    {
     "name": "stdout",
     "output_type": "stream",
     "text": [
      "Train score on best parameters 0.5163341497137299\n",
      "Test score on best parameters 0.48965579741055965\n",
      "Average cross-validation score: 0.51\n",
      "Average cross-validation score: 0.44\n"
     ]
    }
   ],
   "source": [
    "ridge = Ridge(alpha=100)\n",
    "ridge.fit(X_train, y_train)\n",
    "\n",
    "print('Train score on best parameters {}'.format(ridge.score(X_train,y_train)))\n",
    "print('Test score on best parameters {}'.format(ridge.score(X_test,y_test))) \n",
    "\n",
    "print(\"Average cross-validation score: {:.2f}\".format(scores.mean()))\n",
    "print(\"Average cross-validation score: {:.2f}\".format(scores_test.mean()))\n",
    "\n",
    "regmodel_perfo.loc['Ridge'] = pd.Series({'Train Score':train_score,'Test Score':test_score,'Average CV Score':scores.mean(),'Best Parameters':''})"
   ]
  },
  {
   "cell_type": "markdown",
   "metadata": {},
   "source": [
    "# Laaso"
   ]
  },
  {
   "cell_type": "code",
   "execution_count": 225,
   "metadata": {},
   "outputs": [
    {
     "name": "stderr",
     "output_type": "stream",
     "text": [
      "C:\\Users\\Vaibhav\\AppData\\Roaming\\Python\\Python37\\site-packages\\sklearn\\linear_model\\coordinate_descent.py:475: ConvergenceWarning:\n",
      "\n",
      "Objective did not converge. You might want to increase the number of iterations. Duality gap: 87725431.00450915, tolerance: 176890.6358992899\n",
      "\n"
     ]
    }
   ],
   "source": [
    "from sklearn.linear_model import Lasso\n",
    "x_range = [0.01, 0.1, 1, 10, 100]\n",
    "train_score_list = []\n",
    "test_score_list = []\n",
    "\n",
    "for alpha in x_range: \n",
    "    lasso = Lasso(alpha)\n",
    "    lasso.fit(X_train,y_train)\n",
    "    train_score_list.append(lasso.score(X_train,y_train))\n",
    "    test_score_list.append(lasso.score(X_test, y_test))"
   ]
  },
  {
   "cell_type": "code",
   "execution_count": 226,
   "metadata": {},
   "outputs": [
    {
     "data": {
      "text/plain": [
       "Text(0.5, 0, '$\\\\alpha$')"
      ]
     },
     "execution_count": 226,
     "metadata": {},
     "output_type": "execute_result"
    },
    {
     "data": {
      "image/png": "[encoded data removed]",
      "text/plain": [
       "<Figure size 1080x360 with 1 Axes>"
      ]
     },
     "metadata": {},
     "output_type": "display_data"
    }
   ],
   "source": [
    "plt.plot(x_range, train_score_list, c = 'g', label = 'Train Score')\n",
    "plt.plot(x_range, test_score_list, c = 'b', label = 'Test Score')\n",
    "plt.xscale('log')\n",
    "plt.legend(loc = 3)\n",
    "plt.xlabel(r'$\\alpha$')"
   ]
  },
  {
   "cell_type": "code",
   "execution_count": 227,
   "metadata": {},
   "outputs": [
    {
     "name": "stderr",
     "output_type": "stream",
     "text": [
      "C:\\Users\\Vaibhav\\AppData\\Roaming\\Python\\Python37\\site-packages\\sklearn\\linear_model\\coordinate_descent.py:475: ConvergenceWarning:\n",
      "\n",
      "Objective did not converge. You might want to increase the number of iterations. Duality gap: 71327674.32007211, tolerance: 140787.75804228548\n",
      "\n",
      "C:\\Users\\Vaibhav\\AppData\\Roaming\\Python\\Python37\\site-packages\\sklearn\\linear_model\\coordinate_descent.py:475: ConvergenceWarning:\n",
      "\n",
      "Objective did not converge. You might want to increase the number of iterations. Duality gap: 68877641.79106462, tolerance: 141346.48003227884\n",
      "\n",
      "C:\\Users\\Vaibhav\\AppData\\Roaming\\Python\\Python37\\site-packages\\sklearn\\linear_model\\coordinate_descent.py:475: ConvergenceWarning:\n",
      "\n",
      "Objective did not converge. You might want to increase the number of iterations. Duality gap: 66270426.982669175, tolerance: 136378.19762911563\n",
      "\n",
      "C:\\Users\\Vaibhav\\AppData\\Roaming\\Python\\Python37\\site-packages\\sklearn\\linear_model\\coordinate_descent.py:475: ConvergenceWarning:\n",
      "\n",
      "Objective did not converge. You might want to increase the number of iterations. Duality gap: 72548626.79223228, tolerance: 144866.4297143318\n",
      "\n",
      "C:\\Users\\Vaibhav\\AppData\\Roaming\\Python\\Python37\\site-packages\\sklearn\\linear_model\\coordinate_descent.py:475: ConvergenceWarning:\n",
      "\n",
      "Objective did not converge. You might want to increase the number of iterations. Duality gap: 71595055.7729311, tolerance: 144158.03499515806\n",
      "\n",
      "C:\\Users\\Vaibhav\\AppData\\Roaming\\Python\\Python37\\site-packages\\sklearn\\linear_model\\coordinate_descent.py:475: ConvergenceWarning:\n",
      "\n",
      "Objective did not converge. You might want to increase the number of iterations. Duality gap: 71345910.12259156, tolerance: 140787.75804228548\n",
      "\n",
      "C:\\Users\\Vaibhav\\AppData\\Roaming\\Python\\Python37\\site-packages\\sklearn\\linear_model\\coordinate_descent.py:475: ConvergenceWarning:\n",
      "\n",
      "Objective did not converge. You might want to increase the number of iterations. Duality gap: 68895613.67154413, tolerance: 141346.48003227884\n",
      "\n",
      "C:\\Users\\Vaibhav\\AppData\\Roaming\\Python\\Python37\\site-packages\\sklearn\\linear_model\\coordinate_descent.py:475: ConvergenceWarning:\n",
      "\n",
      "Objective did not converge. You might want to increase the number of iterations. Duality gap: 66288482.794531286, tolerance: 136378.19762911563\n",
      "\n",
      "C:\\Users\\Vaibhav\\AppData\\Roaming\\Python\\Python37\\site-packages\\sklearn\\linear_model\\coordinate_descent.py:475: ConvergenceWarning:\n",
      "\n",
      "Objective did not converge. You might want to increase the number of iterations. Duality gap: 72567533.03231907, tolerance: 144866.4297143318\n",
      "\n",
      "C:\\Users\\Vaibhav\\AppData\\Roaming\\Python\\Python37\\site-packages\\sklearn\\linear_model\\coordinate_descent.py:475: ConvergenceWarning:\n",
      "\n",
      "Objective did not converge. You might want to increase the number of iterations. Duality gap: 71613561.55392623, tolerance: 144158.03499515806\n",
      "\n"
     ]
    },
    {
     "name": "stdout",
     "output_type": "stream",
     "text": [
      "Best parameters: {'alpha': 1}\n",
      "Best cross-validation score: 0.5150\n"
     ]
    }
   ],
   "source": [
    "#Grid search\n",
    "param_grid = {'alpha': [0.001, 0.01, 1, 10, 100]}\n",
    "\n",
    "from sklearn.model_selection import GridSearchCV\n",
    "from sklearn.linear_model import Lasso\n",
    "\n",
    "grid_search = GridSearchCV(Lasso(), param_grid, cv=5, return_train_score=True)\n",
    "grid_search.fit(X_train, y_train)\n",
    "\n",
    "print(\"Best parameters: {}\".format(grid_search.best_params_))\n",
    "print(\"Best cross-validation score: {:.4f}\".format(grid_search.best_score_))"
   ]
  },
  {
   "cell_type": "code",
   "execution_count": 228,
   "metadata": {},
   "outputs": [
    {
     "name": "stdout",
     "output_type": "stream",
     "text": [
      "Train score on best parameters 0.5163220440882772\n",
      "Test score on best parameters 0.4893494877998358\n",
      "Average cross-validation score: 0.51\n",
      "Average cross-validation score: 0.44\n"
     ]
    }
   ],
   "source": [
    "lasso = Lasso(alpha=1)\n",
    "lasso.fit(X_train,y_train)\n",
    "\n",
    "print('Train score on best parameters {}'.format(lasso.score(X_train,y_train)))\n",
    "print('Test score on best parameters {}'.format(lasso.score(X_test,y_test))) \n",
    "\n",
    "print(\"Average cross-validation score: {:.2f}\".format(scores.mean()))\n",
    "print(\"Average cross-validation score: {:.2f}\".format(scores_test.mean())) \n",
    "\n",
    "regmodel_perfo.loc['Lasso'] = pd.Series({'Train Score':train_score,'Test Score':test_score,'Average CV Score':scores.mean(),'Best Parameters':''}).loc['Lasso Regression'] = pd.Series({'Train Score':train_score,'Test Score':test_score,'Average CV Score':grid_search.best_score_,'Best Parameters':grid_search.best_params_})"
   ]
  },
  {
   "cell_type": "markdown",
   "metadata": {},
   "source": [
    "# Polynomial Regession"
   ]
  },
  {
   "cell_type": "code",
   "execution_count": 229,
   "metadata": {},
   "outputs": [
    {
     "name": "stdout",
     "output_type": "stream",
     "text": [
      "Fitting 5 folds for each of 8 candidates, totalling 40 fits\n"
     ]
    },
    {
     "name": "stderr",
     "output_type": "stream",
     "text": [
      "[Parallel(n_jobs=-1)]: Using backend LokyBackend with 8 concurrent workers.\n",
      "[Parallel(n_jobs=-1)]: Done  40 out of  40 | elapsed:   15.2s finished\n"
     ]
    },
    {
     "name": "stdout",
     "output_type": "stream",
     "text": [
      "{'copy_X': True, 'fit_intercept': True, 'normalize': False}\n"
     ]
    }
   ],
   "source": [
    "poly = PolynomialFeatures(degree=2)\n",
    "lreg_poly =LinearRegression()\n",
    "X_train_reduced_poly =poly.fit_transform(X_train)\n",
    "X_test_reduced_poly =poly.fit_transform(X_test)\n",
    "lreg_poly.fit(X_train_reduced_poly, y_train)\n",
    "\n",
    "param_grid_poly = {\n",
    "            'fit_intercept':[True,False], 'normalize':[True,False], 'copy_X':[True, False]\n",
    "            }\n",
    "grid_poly = GridSearchCV(estimator =lreg_poly,cv=5 ,param_grid=param_grid_poly, verbose=1, n_jobs=-1, scoring= None)\n",
    "grid_poly.fit(X_train_reduced_poly, y_train)\n",
    "\n",
    "best_parameters_poly=grid_poly.best_params_\n",
    "print(best_parameters_poly)"
   ]
  },
  {
   "cell_type": "code",
   "execution_count": 230,
   "metadata": {},
   "outputs": [
    {
     "name": "stdout",
     "output_type": "stream",
     "text": [
      "Train score:  0.5881\n",
      "Test score:  0.5562\n",
      "Cross-validation scores: [0.50721923 0.5268288  0.44316624 0.48710049]\n",
      "Average cross-validation score: 0.4911\n"
     ]
    }
   ],
   "source": [
    "y_pred_poly=grid_poly.predict(X_test_reduced_poly)\n",
    "\n",
    "TR_poly =round(grid_poly.score(X_train_reduced_poly, y_train),4)\n",
    "TS_poly =round(grid_poly.score(X_test_reduced_poly, y_test),4)\n",
    "print('Train score: ',TR_poly)\n",
    "print('Test score: ',TS_poly)\n",
    "\n",
    "#RMSE_poly=round(np.sqrt(mean_squared_error(y_test,y_pred_poly)),4)\n",
    "#print('RMSE: ',RMSE_poly)\n",
    "\n",
    "#r2_poly_pca= round(r2_score(y_test,y_pred_poly),4)\n",
    "#print('R2 score: ',r2_poly_pca) \n",
    "\n",
    "scores = cross_val_score(LinearRegression(), X_test, y_test,cv=4)\n",
    "print(\"Cross-validation scores: {}\".format(scores))\n",
    "print(\"Average cross-validation score: {:.4f}\".format(scores.mean()))"
   ]
  },
  {
   "cell_type": "code",
   "execution_count": 231,
   "metadata": {},
   "outputs": [],
   "source": [
    "regmodel_perfo.loc['Polynomial Regression'] = pd.Series({'Train Score':TR_poly,'Test Score':TS_poly,'Average CV Score':scores.mean() ,'Best Parameters': best_parameters_poly})"
   ]
  },
  {
   "cell_type": "code",
   "execution_count": 232,
   "metadata": {},
   "outputs": [
    {
     "data": {
      "text/html": [
       "<div>\n",
       "<style scoped>\n",
       "    .dataframe tbody tr th:only-of-type {\n",
       "        vertical-align: middle;\n",
       "    }\n",
       "\n",
       "    .dataframe tbody tr th {\n",
       "        vertical-align: top;\n",
       "    }\n",
       "\n",
       "    .dataframe thead th {\n",
       "        text-align: right;\n",
       "    }\n",
       "</style>\n",
       "<table border=\"1\" class=\"dataframe\">\n",
       "  <thead>\n",
       "    <tr style=\"text-align: right;\">\n",
       "      <th></th>\n",
       "      <th>Train Score</th>\n",
       "      <th>Test Score</th>\n",
       "      <th>Average CV Score</th>\n",
       "      <th>Best Parameters</th>\n",
       "    </tr>\n",
       "  </thead>\n",
       "  <tbody>\n",
       "    <tr>\n",
       "      <th>Linear Regression</th>\n",
       "      <td>0.516127</td>\n",
       "      <td>0.488633</td>\n",
       "      <td>0.489593</td>\n",
       "      <td></td>\n",
       "    </tr>\n",
       "    <tr>\n",
       "      <th>Ridge</th>\n",
       "      <td>0.516127</td>\n",
       "      <td>0.488633</td>\n",
       "      <td>0.508596</td>\n",
       "      <td></td>\n",
       "    </tr>\n",
       "    <tr>\n",
       "      <th>Lasso</th>\n",
       "      <td>0.516127</td>\n",
       "      <td>0.488633</td>\n",
       "      <td>0.515000</td>\n",
       "      <td>{'alpha': 1}</td>\n",
       "    </tr>\n",
       "    <tr>\n",
       "      <th>Polynomial Regression</th>\n",
       "      <td>0.588100</td>\n",
       "      <td>0.556200</td>\n",
       "      <td>0.491079</td>\n",
       "      <td>{'copy_X': True, 'fit_intercept': True, 'norma...</td>\n",
       "    </tr>\n",
       "  </tbody>\n",
       "</table>\n",
       "</div>"
      ],
      "text/plain": [
       "                       Train Score  Test Score  Average CV Score  \\\n",
       "Linear Regression         0.516127    0.488633          0.489593   \n",
       "Ridge                     0.516127    0.488633          0.508596   \n",
       "Lasso                     0.516127    0.488633          0.515000   \n",
       "Polynomial Regression     0.588100    0.556200          0.491079   \n",
       "\n",
       "                                                         Best Parameters  \n",
       "Linear Regression                                                         \n",
       "Ridge                                                                     \n",
       "Lasso                                                       {'alpha': 1}  \n",
       "Polynomial Regression  {'copy_X': True, 'fit_intercept': True, 'norma...  "
      ]
     },
     "execution_count": 232,
     "metadata": {},
     "output_type": "execute_result"
    }
   ],
   "source": [
    "regmodel_perfo"
   ]
  },
  {
   "cell_type": "markdown",
   "metadata": {},
   "source": [
    "# Simple SVM"
   ]
  },
  {
   "cell_type": "code",
   "execution_count": 233,
   "metadata": {},
   "outputs": [
    {
     "name": "stdout",
     "output_type": "stream",
     "text": [
      "0.4623623954871989\n",
      "0.43529391207811075\n"
     ]
    }
   ],
   "source": [
    "linear_svm = LinearSVR(0)\n",
    "\n",
    "linear_svm.fit(X_train, y_train)\n",
    "train_score = linear_svm.score(X_train, y_train)\n",
    "print(train_score)\n",
    "test_score = linear_svm.score(X_test, y_test)\n",
    "print(test_score)"
   ]
  },
  {
   "cell_type": "code",
   "execution_count": 234,
   "metadata": {},
   "outputs": [
    {
     "name": "stdout",
     "output_type": "stream",
     "text": [
      "Best parameters: {'C': 100}\n",
      "Best cross-validation score: 0.4872\n"
     ]
    }
   ],
   "source": [
    "param_grid = {'C': [0.001,0.01, 0.1, 1, 10, 100]}\n",
    "grid_search = GridSearchCV(LinearSVR(), param_grid, cv=10, return_train_score=True)\n",
    "\n",
    "grid_search.fit(X_train, y_train)\n",
    "\n",
    "print(\"Best parameters: {}\".format(grid_search.best_params_))\n",
    "print(\"Best cross-validation score: {:.4f}\".format(grid_search.best_score_))\n",
    "\n",
    "regmodel_perfo.loc['Simple SVM'] = pd.Series({'Train Score':train_score,'Test Score':test_score,'Average CV Score':grid_search.best_score_,'Best Parameters':grid_search.best_params_})"
   ]
  },
  {
   "cell_type": "code",
   "execution_count": 235,
   "metadata": {},
   "outputs": [
    {
     "data": {
      "text/plain": [
       "Text(0, 0.5, 'accuracy')"
      ]
     },
     "execution_count": 235,
     "metadata": {},
     "output_type": "execute_result"
    },
    {
     "data": {
      "image/png": "[encoded data removed]",
      "text/plain": [
       "<Figure size 432x288 with 1 Axes>"
      ]
     },
     "metadata": {
      "needs_background": "light"
     },
     "output_type": "display_data"
    }
   ],
   "source": [
    "x_range = [0.001,0.01, 0.1, 1, 10, 100]\n",
    "train_score_list = []\n",
    "test_score_list = []\n",
    "\n",
    "for c in x_range: \n",
    "    linear_svm = LinearSVR(c)\n",
    "    linear_svm.fit(X_train,y_train)\n",
    "    train_score_list.append(linear_svm.score(X_train,y_train))\n",
    "    test_score_list.append(linear_svm.score(X_test, y_test))\n",
    "%matplotlib inline\n",
    "plt.plot(x_range, train_score_list, c = 'g', label = 'Train Score')\n",
    "plt.plot(x_range, test_score_list, c = 'b', label = 'Test Score')\n",
    "plt.xscale('log')\n",
    "plt.legend(loc = 3)\n",
    "plt.xlabel(r'$\\alpha$')\n",
    "plt.ylabel('accuracy')"
   ]
  },
  {
   "cell_type": "markdown",
   "metadata": {},
   "source": [
    "# KNN Regressor"
   ]
  },
  {
   "cell_type": "code",
   "execution_count": 236,
   "metadata": {},
   "outputs": [
    {
     "name": "stdout",
     "output_type": "stream",
     "text": [
      "Mean squared error varying with k [166463.44863190502, 122600.60660815694, 110849.1768485057, 106287.183789365, 102757.00980898297, 101630.45660528883, 99410.76564854132, 95210.44463087249, 94550.01816478327, 95006.79865771811, 94824.54635053781, 94674.68486491137, 93876.99578131254, 93282.79450654812]\n"
     ]
    },
    {
     "data": {
      "image/png": "[encoded data removed]",
      "text/plain": [
       "<Figure size 432x288 with 1 Axes>"
      ]
     },
     "metadata": {
      "needs_background": "light"
     },
     "output_type": "display_data"
    }
   ],
   "source": [
    "from sklearn.neighbors import KNeighborsRegressor\n",
    "from sklearn.metrics import mean_squared_error\n",
    "\n",
    "train_score_array = []\n",
    "test_score_array = []\n",
    "mean_squared=[]\n",
    "\n",
    "for k in range(1,15):\n",
    "    knn = KNeighborsRegressor(k)\n",
    "    knn.fit(X_train, y_train)\n",
    "    train_score_array.append(knn.score(X_train, y_train))\n",
    "    test_score_array.append(knn.score(X_test, y_test))\n",
    "    mean_squared.append(mean_squared_error(y_test,knn.predict(X_test)))\n",
    "\n",
    "x_axis = range(1,15)\n",
    "plt.plot(x_axis, train_score_array, c = 'g', label = 'Train Score')\n",
    "plt.plot(x_axis, test_score_array, c = 'b', label = 'Test Score')\n",
    "plt.legend()\n",
    "plt.xlabel('k')\n",
    "plt.ylabel('MSE')\n",
    "\n",
    "print('Mean squared error varying with k {}'.format(mean_squared))\n"
   ]
  },
  {
   "cell_type": "code",
   "execution_count": 237,
   "metadata": {},
   "outputs": [
    {
     "name": "stdout",
     "output_type": "stream",
     "text": [
      "Train score on best parameters 0.7248180506982088\n",
      "Test score on best parameters 0.42901383535401005\n",
      "Best parameters: {'n_neighbors': 10}\n",
      "Cross-validation scores test: [0.43697747 0.38379574 0.36138243]\n",
      "Average cross-validation score: 0.3941\n"
     ]
    }
   ],
   "source": [
    "knn=KNeighborsRegressor(3)\n",
    "knn.fit(X_train, y_train)\n",
    "print('Train score on best parameters {}'.format(knn.score(X_train,y_train)))\n",
    "print('Test score on best parameters {}'.format(knn.score(X_test,y_test))) \n",
    "\n",
    "para_grid = {'n_neighbors': [1, 2,  3,  4,  5,  6,  7,  8,  9, 10]}\n",
    "gridsearch = GridSearchCV(KNeighborsRegressor(), para_grid, cv=15, return_train_score=True)\n",
    "\n",
    "gridsearch.fit(X_train, y_train)\n",
    "print(\"Best parameters: {}\".format(gridsearch.best_params_)) \n",
    "\n",
    "scores = cross_val_score(knn, X_test, y_test,cv=3)\n",
    "print(\"Cross-validation scores test: {}\".format(scores))\n",
    "print(\"Average cross-validation score: {:.4f}\".format(scores.mean())) "
   ]
  },
  {
   "cell_type": "code",
   "execution_count": 238,
   "metadata": {},
   "outputs": [
    {
     "data": {
      "text/plain": [
       "Text(0.5, 1.0, 'Cost Vs. Rate')"
      ]
     },
     "execution_count": 238,
     "metadata": {},
     "output_type": "execute_result"
    },
    {
     "data": {
      "image/png": "[encoded data removed]",
      "text/plain": [
       "<Figure size 432x288 with 1 Axes>"
      ]
     },
     "metadata": {
      "needs_background": "light"
     },
     "output_type": "display_data"
    }
   ],
   "source": [
    "#Score and Audit_Risk\n",
    "X_b = X_train[:50,2].reshape(-1,1)\n",
    "y_b = y_train[:50]\n",
    "\n",
    "knn = KNeighborsRegressor(4)\n",
    "knn.fit(X_b, y_b)\n",
    "\n",
    "X_new=np.linspace(X_b.min(), X_b.max(), 50).reshape(50, 1)\n",
    "y_predict = knn.predict(X_new)\n",
    "\n",
    "plt.plot(X_new, y_predict, c = 'r',label='Prediction')\n",
    "plt.scatter(X_b, y_b,label='Actual Data Points')\n",
    "plt.xlabel('Cost')\n",
    "plt.ylabel('Rate')\n",
    "plt.title('Cost Vs. Rate')"
   ]
  },
  {
   "cell_type": "code",
   "execution_count": 241,
   "metadata": {},
   "outputs": [],
   "source": [
    "regmodel_perfo.loc['KNN Regression'] = pd.Series({'Train Score':train_score,'Test Score':test_score, 'Average CV Score':scores.mean(),'Best Parameters':gridsearch.best_params_})"
   ]
  },
  {
   "cell_type": "code",
   "execution_count": 242,
   "metadata": {
    "scrolled": true
   },
   "outputs": [
    {
     "data": {
      "text/html": [
       "<div>\n",
       "<style scoped>\n",
       "    .dataframe tbody tr th:only-of-type {\n",
       "        vertical-align: middle;\n",
       "    }\n",
       "\n",
       "    .dataframe tbody tr th {\n",
       "        vertical-align: top;\n",
       "    }\n",
       "\n",
       "    .dataframe thead th {\n",
       "        text-align: right;\n",
       "    }\n",
       "</style>\n",
       "<table border=\"1\" class=\"dataframe\">\n",
       "  <thead>\n",
       "    <tr style=\"text-align: right;\">\n",
       "      <th></th>\n",
       "      <th>Train Score</th>\n",
       "      <th>Test Score</th>\n",
       "      <th>Average CV Score</th>\n",
       "      <th>Best Parameters</th>\n",
       "    </tr>\n",
       "  </thead>\n",
       "  <tbody>\n",
       "    <tr>\n",
       "      <th>Linear Regression</th>\n",
       "      <td>0.516127</td>\n",
       "      <td>0.488633</td>\n",
       "      <td>0.489593</td>\n",
       "      <td></td>\n",
       "    </tr>\n",
       "    <tr>\n",
       "      <th>Ridge</th>\n",
       "      <td>0.516127</td>\n",
       "      <td>0.488633</td>\n",
       "      <td>0.508596</td>\n",
       "      <td></td>\n",
       "    </tr>\n",
       "    <tr>\n",
       "      <th>Lasso</th>\n",
       "      <td>0.516127</td>\n",
       "      <td>0.488633</td>\n",
       "      <td>0.515000</td>\n",
       "      <td>{'alpha': 1}</td>\n",
       "    </tr>\n",
       "    <tr>\n",
       "      <th>Polynomial Regression</th>\n",
       "      <td>0.588100</td>\n",
       "      <td>0.556200</td>\n",
       "      <td>0.491079</td>\n",
       "      <td>{'copy_X': True, 'fit_intercept': True, 'norma...</td>\n",
       "    </tr>\n",
       "    <tr>\n",
       "      <th>Simple SVM</th>\n",
       "      <td>0.462362</td>\n",
       "      <td>0.435294</td>\n",
       "      <td>0.487191</td>\n",
       "      <td>{'C': 100}</td>\n",
       "    </tr>\n",
       "    <tr>\n",
       "      <th>KNN Regression</th>\n",
       "      <td>0.462362</td>\n",
       "      <td>0.435294</td>\n",
       "      <td>0.394052</td>\n",
       "      <td>{'n_neighbors': 10}</td>\n",
       "    </tr>\n",
       "  </tbody>\n",
       "</table>\n",
       "</div>"
      ],
      "text/plain": [
       "                       Train Score  Test Score  Average CV Score  \\\n",
       "Linear Regression         0.516127    0.488633          0.489593   \n",
       "Ridge                     0.516127    0.488633          0.508596   \n",
       "Lasso                     0.516127    0.488633          0.515000   \n",
       "Polynomial Regression     0.588100    0.556200          0.491079   \n",
       "Simple SVM                0.462362    0.435294          0.487191   \n",
       "KNN Regression            0.462362    0.435294          0.394052   \n",
       "\n",
       "                                                         Best Parameters  \n",
       "Linear Regression                                                         \n",
       "Ridge                                                                     \n",
       "Lasso                                                       {'alpha': 1}  \n",
       "Polynomial Regression  {'copy_X': True, 'fit_intercept': True, 'norma...  \n",
       "Simple SVM                                                    {'C': 100}  \n",
       "KNN Regression                                       {'n_neighbors': 10}  "
      ]
     },
     "execution_count": 242,
     "metadata": {},
     "output_type": "execute_result"
    }
   ],
   "source": [
    "regmodel_perfo"
   ]
  },
  {
   "cell_type": "markdown",
   "metadata": {},
   "source": [
    "# Kernel SVM (rbf)"
   ]
  },
  {
   "cell_type": "code",
   "execution_count": 243,
   "metadata": {},
   "outputs": [
    {
     "data": {
      "text/html": [
       "<div>\n",
       "<style scoped>\n",
       "    .dataframe tbody tr th:only-of-type {\n",
       "        vertical-align: middle;\n",
       "    }\n",
       "\n",
       "    .dataframe tbody tr th {\n",
       "        vertical-align: top;\n",
       "    }\n",
       "\n",
       "    .dataframe thead th {\n",
       "        text-align: right;\n",
       "    }\n",
       "</style>\n",
       "<table border=\"1\" class=\"dataframe\">\n",
       "  <thead>\n",
       "    <tr style=\"text-align: right;\">\n",
       "      <th></th>\n",
       "      <th>online_order</th>\n",
       "      <th>book_table</th>\n",
       "      <th>rate</th>\n",
       "      <th>votes</th>\n",
       "      <th>approx_cost(for two people)</th>\n",
       "      <th>listed_in(type)__Buffet</th>\n",
       "      <th>listed_in(type)__Cafes</th>\n",
       "      <th>listed_in(type)__Delivery</th>\n",
       "      <th>listed_in(type)__Desserts</th>\n",
       "      <th>listed_in(type)__Dine-out</th>\n",
       "      <th>listed_in(type)__Drinks &amp; nightlife</th>\n",
       "      <th>listed_in(type)__Pubs and bars</th>\n",
       "      <th>listed_in(city)__BTM</th>\n",
       "      <th>listed_in(city)__Indiranagar</th>\n",
       "      <th>listed_in(city)__Jayanagar</th>\n",
       "      <th>listed_in(city)__Koramangala 4th Block</th>\n",
       "      <th>listed_in(city)__Koramangala 5th Block</th>\n",
       "      <th>listed_in(city)__Koramangala 6th Block</th>\n",
       "      <th>listed_in(city)__Koramangala 7th Block</th>\n",
       "      <th>listed_in(city)__MG Road</th>\n",
       "    </tr>\n",
       "  </thead>\n",
       "  <tbody>\n",
       "    <tr>\n",
       "      <th>8260</th>\n",
       "      <td>1</td>\n",
       "      <td>0</td>\n",
       "      <td>4.9</td>\n",
       "      <td>6375</td>\n",
       "      <td>1600.0</td>\n",
       "      <td>1</td>\n",
       "      <td>0</td>\n",
       "      <td>0</td>\n",
       "      <td>0</td>\n",
       "      <td>0</td>\n",
       "      <td>0</td>\n",
       "      <td>0</td>\n",
       "      <td>1</td>\n",
       "      <td>0</td>\n",
       "      <td>0</td>\n",
       "      <td>0</td>\n",
       "      <td>0</td>\n",
       "      <td>0</td>\n",
       "      <td>0</td>\n",
       "      <td>0</td>\n",
       "    </tr>\n",
       "    <tr>\n",
       "      <th>8261</th>\n",
       "      <td>1</td>\n",
       "      <td>0</td>\n",
       "      <td>4.4</td>\n",
       "      <td>201</td>\n",
       "      <td>1300.0</td>\n",
       "      <td>1</td>\n",
       "      <td>0</td>\n",
       "      <td>0</td>\n",
       "      <td>0</td>\n",
       "      <td>0</td>\n",
       "      <td>0</td>\n",
       "      <td>0</td>\n",
       "      <td>1</td>\n",
       "      <td>0</td>\n",
       "      <td>0</td>\n",
       "      <td>0</td>\n",
       "      <td>0</td>\n",
       "      <td>0</td>\n",
       "      <td>0</td>\n",
       "      <td>0</td>\n",
       "    </tr>\n",
       "    <tr>\n",
       "      <th>8262</th>\n",
       "      <td>0</td>\n",
       "      <td>0</td>\n",
       "      <td>4.2</td>\n",
       "      <td>3230</td>\n",
       "      <td>1600.0</td>\n",
       "      <td>1</td>\n",
       "      <td>0</td>\n",
       "      <td>0</td>\n",
       "      <td>0</td>\n",
       "      <td>0</td>\n",
       "      <td>0</td>\n",
       "      <td>0</td>\n",
       "      <td>1</td>\n",
       "      <td>0</td>\n",
       "      <td>0</td>\n",
       "      <td>0</td>\n",
       "      <td>0</td>\n",
       "      <td>0</td>\n",
       "      <td>0</td>\n",
       "      <td>0</td>\n",
       "    </tr>\n",
       "    <tr>\n",
       "      <th>8263</th>\n",
       "      <td>1</td>\n",
       "      <td>0</td>\n",
       "      <td>4.4</td>\n",
       "      <td>1149</td>\n",
       "      <td>1100.0</td>\n",
       "      <td>1</td>\n",
       "      <td>0</td>\n",
       "      <td>0</td>\n",
       "      <td>0</td>\n",
       "      <td>0</td>\n",
       "      <td>0</td>\n",
       "      <td>0</td>\n",
       "      <td>1</td>\n",
       "      <td>0</td>\n",
       "      <td>0</td>\n",
       "      <td>0</td>\n",
       "      <td>0</td>\n",
       "      <td>0</td>\n",
       "      <td>0</td>\n",
       "      <td>0</td>\n",
       "    </tr>\n",
       "    <tr>\n",
       "      <th>8264</th>\n",
       "      <td>0</td>\n",
       "      <td>1</td>\n",
       "      <td>3.9</td>\n",
       "      <td>420</td>\n",
       "      <td>800.0</td>\n",
       "      <td>1</td>\n",
       "      <td>0</td>\n",
       "      <td>0</td>\n",
       "      <td>0</td>\n",
       "      <td>0</td>\n",
       "      <td>0</td>\n",
       "      <td>0</td>\n",
       "      <td>1</td>\n",
       "      <td>0</td>\n",
       "      <td>0</td>\n",
       "      <td>0</td>\n",
       "      <td>0</td>\n",
       "      <td>0</td>\n",
       "      <td>0</td>\n",
       "      <td>0</td>\n",
       "    </tr>\n",
       "    <tr>\n",
       "      <th>...</th>\n",
       "      <td>...</td>\n",
       "      <td>...</td>\n",
       "      <td>...</td>\n",
       "      <td>...</td>\n",
       "      <td>...</td>\n",
       "      <td>...</td>\n",
       "      <td>...</td>\n",
       "      <td>...</td>\n",
       "      <td>...</td>\n",
       "      <td>...</td>\n",
       "      <td>...</td>\n",
       "      <td>...</td>\n",
       "      <td>...</td>\n",
       "      <td>...</td>\n",
       "      <td>...</td>\n",
       "      <td>...</td>\n",
       "      <td>...</td>\n",
       "      <td>...</td>\n",
       "      <td>...</td>\n",
       "      <td>...</td>\n",
       "    </tr>\n",
       "    <tr>\n",
       "      <th>11041</th>\n",
       "      <td>0</td>\n",
       "      <td>1</td>\n",
       "      <td>4.2</td>\n",
       "      <td>522</td>\n",
       "      <td>450.0</td>\n",
       "      <td>0</td>\n",
       "      <td>0</td>\n",
       "      <td>0</td>\n",
       "      <td>0</td>\n",
       "      <td>1</td>\n",
       "      <td>0</td>\n",
       "      <td>0</td>\n",
       "      <td>1</td>\n",
       "      <td>0</td>\n",
       "      <td>0</td>\n",
       "      <td>0</td>\n",
       "      <td>0</td>\n",
       "      <td>0</td>\n",
       "      <td>0</td>\n",
       "      <td>0</td>\n",
       "    </tr>\n",
       "    <tr>\n",
       "      <th>11043</th>\n",
       "      <td>0</td>\n",
       "      <td>1</td>\n",
       "      <td>3.8</td>\n",
       "      <td>53</td>\n",
       "      <td>350.0</td>\n",
       "      <td>0</td>\n",
       "      <td>0</td>\n",
       "      <td>0</td>\n",
       "      <td>0</td>\n",
       "      <td>1</td>\n",
       "      <td>0</td>\n",
       "      <td>0</td>\n",
       "      <td>1</td>\n",
       "      <td>0</td>\n",
       "      <td>0</td>\n",
       "      <td>0</td>\n",
       "      <td>0</td>\n",
       "      <td>0</td>\n",
       "      <td>0</td>\n",
       "      <td>0</td>\n",
       "    </tr>\n",
       "    <tr>\n",
       "      <th>11047</th>\n",
       "      <td>0</td>\n",
       "      <td>0</td>\n",
       "      <td>3.5</td>\n",
       "      <td>59</td>\n",
       "      <td>700.0</td>\n",
       "      <td>0</td>\n",
       "      <td>0</td>\n",
       "      <td>0</td>\n",
       "      <td>0</td>\n",
       "      <td>1</td>\n",
       "      <td>0</td>\n",
       "      <td>0</td>\n",
       "      <td>1</td>\n",
       "      <td>0</td>\n",
       "      <td>0</td>\n",
       "      <td>0</td>\n",
       "      <td>0</td>\n",
       "      <td>0</td>\n",
       "      <td>0</td>\n",
       "      <td>0</td>\n",
       "    </tr>\n",
       "    <tr>\n",
       "      <th>11048</th>\n",
       "      <td>0</td>\n",
       "      <td>1</td>\n",
       "      <td>4.3</td>\n",
       "      <td>165</td>\n",
       "      <td>500.0</td>\n",
       "      <td>0</td>\n",
       "      <td>0</td>\n",
       "      <td>0</td>\n",
       "      <td>0</td>\n",
       "      <td>1</td>\n",
       "      <td>0</td>\n",
       "      <td>0</td>\n",
       "      <td>1</td>\n",
       "      <td>0</td>\n",
       "      <td>0</td>\n",
       "      <td>0</td>\n",
       "      <td>0</td>\n",
       "      <td>0</td>\n",
       "      <td>0</td>\n",
       "      <td>0</td>\n",
       "    </tr>\n",
       "    <tr>\n",
       "      <th>11049</th>\n",
       "      <td>1</td>\n",
       "      <td>1</td>\n",
       "      <td>3.9</td>\n",
       "      <td>118</td>\n",
       "      <td>800.0</td>\n",
       "      <td>0</td>\n",
       "      <td>0</td>\n",
       "      <td>0</td>\n",
       "      <td>0</td>\n",
       "      <td>1</td>\n",
       "      <td>0</td>\n",
       "      <td>0</td>\n",
       "      <td>1</td>\n",
       "      <td>0</td>\n",
       "      <td>0</td>\n",
       "      <td>0</td>\n",
       "      <td>0</td>\n",
       "      <td>0</td>\n",
       "      <td>0</td>\n",
       "      <td>0</td>\n",
       "    </tr>\n",
       "  </tbody>\n",
       "</table>\n",
       "<p>1200 rows × 20 columns</p>\n",
       "</div>"
      ],
      "text/plain": [
       "       online_order  book_table rate  votes  approx_cost(for two people)  \\\n",
       "8260              1           0  4.9   6375                       1600.0   \n",
       "8261              1           0  4.4    201                       1300.0   \n",
       "8262              0           0  4.2   3230                       1600.0   \n",
       "8263              1           0  4.4   1149                       1100.0   \n",
       "8264              0           1  3.9    420                        800.0   \n",
       "...             ...         ...  ...    ...                          ...   \n",
       "11041             0           1  4.2    522                        450.0   \n",
       "11043             0           1  3.8     53                        350.0   \n",
       "11047             0           0  3.5     59                        700.0   \n",
       "11048             0           1  4.3    165                        500.0   \n",
       "11049             1           1  3.9    118                        800.0   \n",
       "\n",
       "       listed_in(type)__Buffet  listed_in(type)__Cafes  \\\n",
       "8260                         1                       0   \n",
       "8261                         1                       0   \n",
       "8262                         1                       0   \n",
       "8263                         1                       0   \n",
       "8264                         1                       0   \n",
       "...                        ...                     ...   \n",
       "11041                        0                       0   \n",
       "11043                        0                       0   \n",
       "11047                        0                       0   \n",
       "11048                        0                       0   \n",
       "11049                        0                       0   \n",
       "\n",
       "       listed_in(type)__Delivery  listed_in(type)__Desserts  \\\n",
       "8260                           0                          0   \n",
       "8261                           0                          0   \n",
       "8262                           0                          0   \n",
       "8263                           0                          0   \n",
       "8264                           0                          0   \n",
       "...                          ...                        ...   \n",
       "11041                          0                          0   \n",
       "11043                          0                          0   \n",
       "11047                          0                          0   \n",
       "11048                          0                          0   \n",
       "11049                          0                          0   \n",
       "\n",
       "       listed_in(type)__Dine-out  listed_in(type)__Drinks & nightlife  \\\n",
       "8260                           0                                    0   \n",
       "8261                           0                                    0   \n",
       "8262                           0                                    0   \n",
       "8263                           0                                    0   \n",
       "8264                           0                                    0   \n",
       "...                          ...                                  ...   \n",
       "11041                          1                                    0   \n",
       "11043                          1                                    0   \n",
       "11047                          1                                    0   \n",
       "11048                          1                                    0   \n",
       "11049                          1                                    0   \n",
       "\n",
       "       listed_in(type)__Pubs and bars  listed_in(city)__BTM  \\\n",
       "8260                                0                     1   \n",
       "8261                                0                     1   \n",
       "8262                                0                     1   \n",
       "8263                                0                     1   \n",
       "8264                                0                     1   \n",
       "...                               ...                   ...   \n",
       "11041                               0                     1   \n",
       "11043                               0                     1   \n",
       "11047                               0                     1   \n",
       "11048                               0                     1   \n",
       "11049                               0                     1   \n",
       "\n",
       "       listed_in(city)__Indiranagar  listed_in(city)__Jayanagar  \\\n",
       "8260                              0                           0   \n",
       "8261                              0                           0   \n",
       "8262                              0                           0   \n",
       "8263                              0                           0   \n",
       "8264                              0                           0   \n",
       "...                             ...                         ...   \n",
       "11041                             0                           0   \n",
       "11043                             0                           0   \n",
       "11047                             0                           0   \n",
       "11048                             0                           0   \n",
       "11049                             0                           0   \n",
       "\n",
       "       listed_in(city)__Koramangala 4th Block  \\\n",
       "8260                                        0   \n",
       "8261                                        0   \n",
       "8262                                        0   \n",
       "8263                                        0   \n",
       "8264                                        0   \n",
       "...                                       ...   \n",
       "11041                                       0   \n",
       "11043                                       0   \n",
       "11047                                       0   \n",
       "11048                                       0   \n",
       "11049                                       0   \n",
       "\n",
       "       listed_in(city)__Koramangala 5th Block  \\\n",
       "8260                                        0   \n",
       "8261                                        0   \n",
       "8262                                        0   \n",
       "8263                                        0   \n",
       "8264                                        0   \n",
       "...                                       ...   \n",
       "11041                                       0   \n",
       "11043                                       0   \n",
       "11047                                       0   \n",
       "11048                                       0   \n",
       "11049                                       0   \n",
       "\n",
       "       listed_in(city)__Koramangala 6th Block  \\\n",
       "8260                                        0   \n",
       "8261                                        0   \n",
       "8262                                        0   \n",
       "8263                                        0   \n",
       "8264                                        0   \n",
       "...                                       ...   \n",
       "11041                                       0   \n",
       "11043                                       0   \n",
       "11047                                       0   \n",
       "11048                                       0   \n",
       "11049                                       0   \n",
       "\n",
       "       listed_in(city)__Koramangala 7th Block  listed_in(city)__MG Road  \n",
       "8260                                        0                         0  \n",
       "8261                                        0                         0  \n",
       "8262                                        0                         0  \n",
       "8263                                        0                         0  \n",
       "8264                                        0                         0  \n",
       "...                                       ...                       ...  \n",
       "11041                                       0                         0  \n",
       "11043                                       0                         0  \n",
       "11047                                       0                         0  \n",
       "11048                                       0                         0  \n",
       "11049                                       0                         0  \n",
       "\n",
       "[1200 rows x 20 columns]"
      ]
     },
     "execution_count": 243,
     "metadata": {},
     "output_type": "execute_result"
    }
   ],
   "source": [
    "zomato_new=zomato[:1200]\n",
    "zomato_new"
   ]
  },
  {
   "cell_type": "markdown",
   "metadata": {},
   "source": [
    "Due to very complex model processing, we have taken sample of 1200 samples to run the model."
   ]
  },
  {
   "cell_type": "code",
   "execution_count": 244,
   "metadata": {},
   "outputs": [],
   "source": [
    "# target variable is 'approx_cost(for two people)'\n",
    "\n",
    "Y = zomato_new[\"approx_cost(for two people)\"]\n",
    "X = zomato_new.drop('approx_cost(for two people)',axis=1)"
   ]
  },
  {
   "cell_type": "code",
   "execution_count": 245,
   "metadata": {},
   "outputs": [],
   "source": [
    "X_train_org, X_test_org, y_train, y_test = train_test_split(X, Y, random_state = 0, test_size = 0.2)\n",
    "\n",
    "scaler = StandardScaler()\n",
    "X_train = scaler.fit_transform(X_train_org)\n",
    "X_test = scaler.transform(X_test_org)"
   ]
  },
  {
   "cell_type": "code",
   "execution_count": 246,
   "metadata": {},
   "outputs": [
    {
     "name": "stdout",
     "output_type": "stream",
     "text": [
      "X_train shape:  (960, 19)\n",
      "y_train shape:  (960,)\n",
      "X_test shape:  (240, 19)\n",
      "y_test shape (240,)\n"
     ]
    }
   ],
   "source": [
    "#Shape of the train and test data\n",
    "\n",
    "print(\"X_train shape: \",X_train.shape)\n",
    "print(\"y_train shape: \",y_train.shape)\n",
    "print(\"X_test shape: \",X_test.shape)\n",
    "print(\"y_test shape\",y_test.shape)"
   ]
  },
  {
   "cell_type": "code",
   "execution_count": 247,
   "metadata": {},
   "outputs": [
    {
     "name": "stdout",
     "output_type": "stream",
     "text": [
      "0.44616760708649905\n",
      "0.5685606206401277\n",
      "Best parameters: {'C': 100, 'gamma': 0.1}\n",
      "Best cross-validation score: 0.4815\n"
     ]
    }
   ],
   "source": [
    "param_grid = {'C': [0.1, 1, 10, 100],\n",
    "              'gamma': [0.1, 1, 10],\n",
    "             }\n",
    "grid_search = GridSearchCV(SVR(kernel='rbf'), param_grid, cv=5, return_train_score=True)\n",
    "\n",
    "grid_search.fit(X_train, y_train)\n",
    "grid_search.fit(X_test, y_test)\n",
    "\n",
    "train_score = grid_search.score(X_train, y_train)\n",
    "print(train_score)\n",
    "\n",
    "test_score = grid_search.score(X_test, y_test)\n",
    "print(test_score)\n",
    "\n",
    "print(\"Best parameters: {}\".format(grid_search.best_params_))\n",
    "print(\"Best cross-validation score: {:.4f}\".format(grid_search.best_score_))\n",
    "\n",
    "regmodel_perfo.loc['Kernelized SVR (rbf)'] = pd.Series({'Train Score':train_score,'Test Score':test_score,'Average CV Score':grid_search.best_score_,'Best Parameters':grid_search.best_params_})"
   ]
  },
  {
   "cell_type": "code",
   "execution_count": 248,
   "metadata": {},
   "outputs": [
    {
     "name": "stderr",
     "output_type": "stream",
     "text": [
      "C:\\Users\\Vaibhav\\AppData\\Roaming\\Python\\Python37\\site-packages\\sklearn\\model_selection\\_split.py:1978: FutureWarning:\n",
      "\n",
      "The default value of cv will change from 3 to 5 in version 0.22. Specify it explicitly to silence this warning.\n",
      "\n"
     ]
    },
    {
     "name": "stdout",
     "output_type": "stream",
     "text": [
      "Cross-validation scores: [0.51937321 0.52131007 0.45850537]\n",
      "Average cross-validation score: 0.4997\n",
      "Cross-validation scores: [0.40000134 0.53106163 0.52076253]\n",
      "Average cross-validation score: 0.4839\n"
     ]
    },
    {
     "name": "stderr",
     "output_type": "stream",
     "text": [
      "C:\\Users\\Vaibhav\\AppData\\Roaming\\Python\\Python37\\site-packages\\sklearn\\model_selection\\_split.py:1978: FutureWarning:\n",
      "\n",
      "The default value of cv will change from 3 to 5 in version 0.22. Specify it explicitly to silence this warning.\n",
      "\n"
     ]
    }
   ],
   "source": [
    "from sklearn.model_selection import cross_val_score\n",
    "\n",
    "scores = cross_val_score(SVR(kernel='rbf',gamma=0.1,C=100), X_train, y_train)\n",
    "print(\"Cross-validation scores: {}\".format(scores))\n",
    "\n",
    "print(\"Average cross-validation score: {:.4f}\".format(scores.mean()))\n",
    "\n",
    "scores = cross_val_score(SVR(kernel='rbf',gamma=0.1,C=100), X_test, y_test)\n",
    "print(\"Cross-validation scores: {}\".format(scores))\n",
    "\n",
    "print(\"Average cross-validation score: {:.4f}\".format(scores.mean()))"
   ]
  },
  {
   "cell_type": "markdown",
   "metadata": {},
   "source": [
    "# Kernel SVR (poly)"
   ]
  },
  {
   "cell_type": "code",
   "execution_count": null,
   "metadata": {},
   "outputs": [
    {
     "name": "stderr",
     "output_type": "stream",
     "text": [
      "C:\\Users\\Vaibhav\\AppData\\Roaming\\Python\\Python37\\site-packages\\sklearn\\model_selection\\_split.py:1978: FutureWarning:\n",
      "\n",
      "The default value of cv will change from 3 to 5 in version 0.22. Specify it explicitly to silence this warning.\n",
      "\n"
     ]
    }
   ],
   "source": [
    "param_grid = {'C': [0.1, 1, 10],\n",
    "              'gamma': [0.1, 1, 10],\n",
    "             }\n",
    "grid_search = GridSearchCV(SVR(kernel='poly'), param_grid, return_train_score=True)\n",
    "\n",
    "grid_search.fit(X_train, y_train)\n",
    "grid_search.fit(X_test, y_test)\n",
    "\n",
    "print(grid_search.score(X_train, y_train))\n",
    "print(grid_search.score(X_test, y_test))\n",
    "\n",
    "print(\"Best parameters: {}\".format(grid_search.best_params_))\n",
    "print(\"Best cross-validation score: {:.4f}\".format(grid_search.best_score_))\n",
    "\n",
    "regmodel_perfo.loc['Kernelized SVR (poly)'] = pd.Series({'Train Score':train_score,'Test Score':test_score,'Average CV Score':grid_search.best_score_,'Best Parameters':grid_search.best_params_})"
   ]
  },
  {
   "cell_type": "code",
   "execution_count": null,
   "metadata": {},
   "outputs": [],
   "source": [
    "from sklearn.model_selection import cross_val_score\n",
    "\n",
    "scores = cross_val_score(SVR(kernel='poly',gamma=1,C=100), X_train, y_train)\n",
    "print(\"Cross-validation scores: {}\".format(scores))\n",
    "print(\"Average cross-validation score: {:.4f}\".format(scores.mean()))\n",
    "\n",
    "scores = cross_val_score(SVR(kernel='poly',gamma=1,C=100), X_test, y_test)\n",
    "print(\"Cross-validation scores: {}\".format(scores))\n",
    "print(\"Average cross-validation score: {:.4f}\".format(scores.mean()))"
   ]
  },
  {
   "cell_type": "markdown",
   "metadata": {},
   "source": [
    "# Kernel SVR (Linear)"
   ]
  },
  {
   "cell_type": "code",
   "execution_count": null,
   "metadata": {},
   "outputs": [],
   "source": [
    "param_grid = {'C': [0.1, 1, 10],\n",
    "              'gamma': [0.1, 1, 10],\n",
    "             }\n",
    "grid_search = GridSearchCV(SVR(kernel='linear'), param_grid, return_train_score=True)\n",
    "\n",
    "grid_search.fit(X_train, y_train)\n",
    "grid_search.fit(X_test, y_test)\n",
    "\n",
    "print(grid_search.score(X_train, y_train))\n",
    "print(grid_search.score(X_test, y_test))\n",
    "\n",
    "print(\"Best parameters: {}\".format(grid_search.best_params_))\n",
    "print(\"Best cross-validation score: {:.4f}\".format(grid_search.best_score_))\n",
    "\n",
    "regmodel_perfo.loc['Kernelized SVR (linear)'] = pd.Series({'Train Score':train_score,'Test Score':test_score,'Average CV Score':grid_search.best_score_,'Best Parameters':grid_search.best_params_})"
   ]
  },
  {
   "cell_type": "code",
   "execution_count": null,
   "metadata": {},
   "outputs": [],
   "source": [
    "from sklearn.model_selection import cross_val_score\n",
    "\n",
    "scores = cross_val_score(SVR(kernel='linear',gamma=0.1,C=10), X_train, y_train)\n",
    "\n",
    "print(\"Cross-validation scores: {}\".format(scores))\n",
    "print(\"Average cross-validation score: {:.4f}\".format(scores.mean()))\n",
    "\n",
    "scores = cross_val_score(SVR(kernel='linear',gamma=0.1,C=10), X_test, y_test)\n",
    "print(\"Cross-validation scores: {}\".format(scores))\n",
    "print(\"Average cross-validation score: {:.4f}\".format(scores.mean()))"
   ]
  },
  {
   "cell_type": "code",
   "execution_count": null,
   "metadata": {},
   "outputs": [],
   "source": [
    "regmodel_perfo"
   ]
  },
  {
   "cell_type": "markdown",
   "metadata": {},
   "source": [
    "Based test score and CV score, Lasso is performing better than other model. So, we can select lasso for regression. Thus, lasso model can be used to predict average cost of dining of two people."
   ]
  }
 ],
 "metadata": {
  "kernelspec": {
   "display_name": "Python 3",
   "language": "python",
   "name": "python3"
  },
  "language_info": {
   "codemirror_mode": {
    "name": "ipython",
    "version": 3
   },
   "file_extension": ".py",
   "mimetype": "text/x-python",
   "name": "python",
   "nbconvert_exporter": "python",
   "pygments_lexer": "ipython3",
   "version": "3.7.1"
  }
 },
 "nbformat": 4,
 "nbformat_minor": 2
}
